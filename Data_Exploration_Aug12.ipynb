{
 "cells": [
  {
   "cell_type": "markdown",
   "metadata": {},
   "source": [
    "# Exploratory Data Analysis\n"
   ]
  },
  {
   "cell_type": "code",
   "execution_count": 1,
   "metadata": {
    "collapsed": true
   },
   "outputs": [],
   "source": [
    "import numpy as np\n",
    "import pandas as pd\n",
    "import os.path\n",
    "import matplotlib.pyplot as plt\n",
    "%matplotlib inline\n"
   ]
  },
  {
   "cell_type": "markdown",
   "metadata": {},
   "source": [
    "## Build a Data Frame:\n",
    "The following function builds a data frame using the attribute information (from the guide file) and the actual data. \n",
    "It has the capability of building a dictionary for multiple years if needed."
   ]
  },
  {
   "cell_type": "code",
   "execution_count": 2,
   "metadata": {
    "collapsed": false
   },
   "outputs": [
    {
     "name": "stdout",
     "output_type": "stream",
     "text": [
      "ReadingData/2008/LinkCO08USDen.dat\n"
     ]
    }
   ],
   "source": [
    "#sam_year = [1995,1996]\n",
    "def build_Datadict(yr):\n",
    "    fname = str(yr) + '/LinkCO' + str(yr)[2:4] + 'USDen.dat'\n",
    "    #path_name = os.path.abspath('ReadingData/' + str(yr) + fname)\n",
    "    path_name = os.path.join('ReadingData/',fname)\n",
    "    print(path_name)\n",
    "    infl = pd.read_table(path_name,'r',header=None)\n",
    "    ofl1=pd.read_csv('%s.out.txt' % yr,'r',header=None)\n",
    "    ofl2=pd.read_csv('%s.out2.txt' % yr,'r',header=None)\n",
    "    ofl3=pd.read_csv('%s.colname' % yr,'r',header=None)\n",
    "    a_name = 'a_{}'.format(yr) \n",
    "    a_name = {}\n",
    "    for ind in range(len(ofl3.index)):\n",
    "        a_name[ofl3[0][ind]]=(infl.iloc[:,0].str.slice(ofl1.iat[ind,0],ofl2.iat[ind,0]))\n",
    "    df = pd.DataFrame(a_name)\n",
    "    return df\n",
    "\n",
    "yrList = [2008]\n",
    "def Datadict_drive(yrList):\n",
    "    d={}\n",
    "    for yr in yrList:\n",
    "        d['%s' % yr] = build_Datadict(yr)\n",
    "    return d\n",
    "dd = Datadict_drive(yrList)"
   ]
  },
  {
   "cell_type": "markdown",
   "metadata": {},
   "source": [
    "## General Information"
   ]
  },
  {
   "cell_type": "markdown",
   "metadata": {},
   "source": [
    "Let's look at the dataset"
   ]
  },
  {
   "cell_type": "code",
   "execution_count": 3,
   "metadata": {
    "collapsed": false
   },
   "outputs": [
    {
     "data": {
      "text/html": [
       "<div>\n",
       "<table border=\"1\" class=\"dataframe\">\n",
       "  <thead>\n",
       "    <tr style=\"text-align: right;\">\n",
       "      <th></th>\n",
       "      <th>AB_ANTI</th>\n",
       "      <th>AB_AVEN1</th>\n",
       "      <th>AB_AVEN6</th>\n",
       "      <th>AB_BINJ</th>\n",
       "      <th>AB_NICU</th>\n",
       "      <th>AB_SEIZ</th>\n",
       "      <th>AB_SURF</th>\n",
       "      <th>AGED</th>\n",
       "      <th>AGER22</th>\n",
       "      <th>AGER5</th>\n",
       "      <th>...</th>\n",
       "      <th>UOP_INDUC</th>\n",
       "      <th>UOP_TOCOL</th>\n",
       "      <th>UPREVIS</th>\n",
       "      <th>URF_CHYPER</th>\n",
       "      <th>URF_DIAB</th>\n",
       "      <th>URF_ECLAM</th>\n",
       "      <th>URF_PHYPER</th>\n",
       "      <th>WEEKDAYD</th>\n",
       "      <th>WTGAIN</th>\n",
       "      <th>WTGAIN_REC</th>\n",
       "    </tr>\n",
       "  </thead>\n",
       "  <tbody>\n",
       "    <tr>\n",
       "      <th>4255183</th>\n",
       "      <td>N</td>\n",
       "      <td>N</td>\n",
       "      <td>N</td>\n",
       "      <td>N</td>\n",
       "      <td>N</td>\n",
       "      <td>N</td>\n",
       "      <td>N</td>\n",
       "      <td></td>\n",
       "      <td></td>\n",
       "      <td></td>\n",
       "      <td>...</td>\n",
       "      <td>2</td>\n",
       "      <td>2</td>\n",
       "      <td>12</td>\n",
       "      <td>2</td>\n",
       "      <td>2</td>\n",
       "      <td>2</td>\n",
       "      <td>2</td>\n",
       "      <td></td>\n",
       "      <td>00</td>\n",
       "      <td>1</td>\n",
       "    </tr>\n",
       "    <tr>\n",
       "      <th>4255184</th>\n",
       "      <td>N</td>\n",
       "      <td>N</td>\n",
       "      <td>N</td>\n",
       "      <td>N</td>\n",
       "      <td>N</td>\n",
       "      <td>N</td>\n",
       "      <td>N</td>\n",
       "      <td></td>\n",
       "      <td></td>\n",
       "      <td></td>\n",
       "      <td>...</td>\n",
       "      <td>2</td>\n",
       "      <td>2</td>\n",
       "      <td>12</td>\n",
       "      <td>2</td>\n",
       "      <td>2</td>\n",
       "      <td>2</td>\n",
       "      <td>2</td>\n",
       "      <td></td>\n",
       "      <td>10</td>\n",
       "      <td>1</td>\n",
       "    </tr>\n",
       "    <tr>\n",
       "      <th>4255185</th>\n",
       "      <td>N</td>\n",
       "      <td>N</td>\n",
       "      <td>N</td>\n",
       "      <td>N</td>\n",
       "      <td>N</td>\n",
       "      <td>N</td>\n",
       "      <td>N</td>\n",
       "      <td></td>\n",
       "      <td></td>\n",
       "      <td></td>\n",
       "      <td>...</td>\n",
       "      <td>2</td>\n",
       "      <td>2</td>\n",
       "      <td>12</td>\n",
       "      <td>2</td>\n",
       "      <td>2</td>\n",
       "      <td>2</td>\n",
       "      <td>2</td>\n",
       "      <td></td>\n",
       "      <td>10</td>\n",
       "      <td>1</td>\n",
       "    </tr>\n",
       "    <tr>\n",
       "      <th>4255186</th>\n",
       "      <td>N</td>\n",
       "      <td>N</td>\n",
       "      <td>N</td>\n",
       "      <td>N</td>\n",
       "      <td>N</td>\n",
       "      <td>N</td>\n",
       "      <td>N</td>\n",
       "      <td></td>\n",
       "      <td></td>\n",
       "      <td></td>\n",
       "      <td>...</td>\n",
       "      <td>2</td>\n",
       "      <td>2</td>\n",
       "      <td>11</td>\n",
       "      <td>2</td>\n",
       "      <td>2</td>\n",
       "      <td>2</td>\n",
       "      <td>2</td>\n",
       "      <td></td>\n",
       "      <td>37</td>\n",
       "      <td>6</td>\n",
       "    </tr>\n",
       "    <tr>\n",
       "      <th>4255187</th>\n",
       "      <td>N</td>\n",
       "      <td>N</td>\n",
       "      <td>N</td>\n",
       "      <td>N</td>\n",
       "      <td>N</td>\n",
       "      <td>N</td>\n",
       "      <td>N</td>\n",
       "      <td></td>\n",
       "      <td></td>\n",
       "      <td></td>\n",
       "      <td>...</td>\n",
       "      <td>2</td>\n",
       "      <td>2</td>\n",
       "      <td>10</td>\n",
       "      <td>2</td>\n",
       "      <td>2</td>\n",
       "      <td>2</td>\n",
       "      <td>2</td>\n",
       "      <td></td>\n",
       "      <td>50</td>\n",
       "      <td>8</td>\n",
       "    </tr>\n",
       "  </tbody>\n",
       "</table>\n",
       "<p>5 rows × 182 columns</p>\n",
       "</div>"
      ],
      "text/plain": [
       "        AB_ANTI AB_AVEN1 AB_AVEN6 AB_BINJ AB_NICU AB_SEIZ AB_SURF AGED AGER22  \\\n",
       "4255183       N        N        N       N       N       N       N               \n",
       "4255184       N        N        N       N       N       N       N               \n",
       "4255185       N        N        N       N       N       N       N               \n",
       "4255186       N        N        N       N       N       N       N               \n",
       "4255187       N        N        N       N       N       N       N               \n",
       "\n",
       "        AGER5    ...     UOP_INDUC UOP_TOCOL UPREVIS URF_CHYPER URF_DIAB  \\\n",
       "4255183          ...             2         2      12          2        2   \n",
       "4255184          ...             2         2      12          2        2   \n",
       "4255185          ...             2         2      12          2        2   \n",
       "4255186          ...             2         2      11          2        2   \n",
       "4255187          ...             2         2      10          2        2   \n",
       "\n",
       "        URF_ECLAM URF_PHYPER WEEKDAYD WTGAIN WTGAIN_REC  \n",
       "4255183         2          2              00          1  \n",
       "4255184         2          2              10          1  \n",
       "4255185         2          2              10          1  \n",
       "4255186         2          2              37          6  \n",
       "4255187         2          2              50          8  \n",
       "\n",
       "[5 rows x 182 columns]"
      ]
     },
     "execution_count": 3,
     "metadata": {},
     "output_type": "execute_result"
    }
   ],
   "source": [
    "data_2008 = dd['2008'] #If we have multiple years we can insert the relevant year instead of '2008'\n",
    "data_2008.tail(5)"
   ]
  },
  {
   "cell_type": "markdown",
   "metadata": {},
   "source": [
    "Have a look at the size of the data set (records/attributes)"
   ]
  },
  {
   "cell_type": "code",
   "execution_count": 4,
   "metadata": {
    "collapsed": false
   },
   "outputs": [
    {
     "data": {
      "text/plain": [
       "(4255188, 182)"
      ]
     },
     "execution_count": 4,
     "metadata": {},
     "output_type": "execute_result"
    }
   ],
   "source": [
    "data_2008.shape"
   ]
  },
  {
   "cell_type": "code",
   "execution_count": 5,
   "metadata": {
    "collapsed": false
   },
   "outputs": [
    {
     "name": "stdout",
     "output_type": "stream",
     "text": [
      "['AB_ANTI', 'AB_AVEN1', 'AB_AVEN6', 'AB_BINJ', 'AB_NICU', 'AB_SEIZ', 'AB_SURF', 'AGED', 'AGER22', 'AGER5', 'APGAR5', 'APGAR5R', 'ATTEND', 'AUTOPSY', 'BFACIL', 'BFACIL3', 'BRTHWGT', 'BWTIMP', 'BWTR14', 'BWTR4B', 'CA_ANEN', 'CA_CCHD', 'CA_CDH', 'CA_CLEFT', 'CA_CLPAL', 'CA_DISOR', 'CA_DOWN', 'CA_GAST', 'CA_HYPO', 'CA_LIMB', 'CA_MNSB', 'CA_OMPH', 'CIGS', 'CIG_1', 'CIG_2', 'CIG_3', 'CIG_REC', 'CNTOCFIPD', 'CNTRSPPD', 'CNTYRFPD', 'COMBGEST', 'DFPC_IMP', 'DISPO', 'DLLB_MM', 'DLLB_YY', 'DLMP_DD', 'DLMP_MM', 'DLMP_YY', 'DMETH_REC', 'DOB_MM', 'DOB_WK', 'DOB_YY', 'DOD_MM', 'DPLURAL', 'DRCNTY', 'DTHYR', 'EANUM', 'ENTITY', 'ESTGEST', 'FAGECOMB', 'FAGEREC11', 'FAGERPT_FLG', 'FBRACE', 'FILLER', 'FLGND', 'FRACEHISP', 'FRACEREC', 'GESTREC10', 'GESTREC3', 'GEST_IMP', 'HOSPD', 'IMP_PLUR', 'IMP_SEX', 'LATEREC', 'LBO', 'LD_ANES', 'LD_ANTI', 'LD_AUGM', 'LD_CHOR', 'LD_FINT', 'LD_INDL', 'LD_MECS', 'LD_NVPR', 'LD_STER', 'MAGER', 'MAGER14', 'MAGER9', 'MAGE_IMPFLG', 'MAGE_REPFLG', 'MANNER', 'MAR', 'MAR_IMP', 'MBCNTRY', 'MBRACE', 'MEDUC', 'MEDUC_REC', 'ME_ATTF', 'ME_ATTV', 'ME_PRES', 'ME_ROUT', 'ME_TRIAL', 'MPCB', 'MPCB_REC5', 'MPCB_REC6', 'MRACE', 'MRACEHISP', 'MRACEIMP', 'MRACEREC', 'MRCNTY', 'MRTERR', 'OBGEST_FLG', 'OCNTYFIPS', 'OCNTYPOP', 'ON_PRECIP', 'ON_PROL', 'ON_RUPTR', 'OP_CERV', 'OP_ECVF', 'OP_ECVS', 'OP_TOCOL', 'OSTATE', 'PLACE', 'PRECARE', 'PRECARE_REC', 'PREVIS_REC', 'RANUM', 'RCNTY_POP', 'RDMETH_REC', 'RECORD', 'RECTYPE', 'RECWT', 'RESTATUS', 'REVISION', 'RF_CESAR', 'RF_CESARN', 'RF_DIAB', 'RF_ECLAM', 'RF_GEST', 'RF_GHYP', 'RF_PHYP', 'RF_PPOUTC', 'RF_PPTERM', 'SEQNUM', 'SEX', 'STOCCFIPD', 'STRESFIPD', 'TBO', 'TOBUSE', 'UBFACIL', 'UC0D', 'UCA_ANEN', 'UCA_CELFTLP', 'UCA_DOWNS', 'UCA_OMPHA', 'UCA_SPINA', 'UCIG_REC6', 'UCODR130', 'UDMETH_REC', 'UFAGECOMB', 'UFHISP', 'UFRACE', 'ULD_BREECH', 'ULD_MECO', 'ULD_PRECIP', 'UMEDUC', 'UME_FORCP', 'UME_PRIMC', 'UME_REPEC', 'UME_VAC', 'UME_VAG', 'UME_VBAC', 'UMHISP', 'UOP_INDUC', 'UOP_TOCOL', 'UPREVIS', 'URF_CHYPER', 'URF_DIAB', 'URF_ECLAM', 'URF_PHYPER', 'WEEKDAYD', 'WTGAIN', 'WTGAIN_REC']\n"
     ]
    }
   ],
   "source": [
    "attribute_list = list(data_2008.columns.str.strip()) #strip in case some of the column names have spaces around them.\n",
    "print(attribute_list)"
   ]
  },
  {
   "cell_type": "markdown",
   "metadata": {},
   "source": [
    "### Range of Data Values"
   ]
  },
  {
   "cell_type": "markdown",
   "metadata": {},
   "source": [
    "Now let's look at the range of data values for each attribute. To make it easy, build a dictionary of summary of all \n",
    "values in the data. "
   ]
  },
  {
   "cell_type": "code",
   "execution_count": 6,
   "metadata": {
    "collapsed": false
   },
   "outputs": [],
   "source": [
    "values_dict = {}\n",
    "for var in list(data_2008.columns):\n",
    "    values_dict[var] = data_2008['%s' % var].value_counts().sort_index().to_dict()"
   ]
  },
  {
   "cell_type": "markdown",
   "metadata": {},
   "source": [
    "Have a look at the first five attributes and their range of values"
   ]
  },
  {
   "cell_type": "code",
   "execution_count": 7,
   "metadata": {
    "collapsed": false
   },
   "outputs": [
    {
     "data": {
      "text/plain": [
       "{'AB_ANTI': {' ': 1493825, 'N': 2684457, 'U': 29304, 'Y': 47602},\n",
       " 'AB_AVEN1': {' ': 1493781, 'N': 2620105, 'U': 29304, 'Y': 111998},\n",
       " 'AB_AVEN6': {' ': 1493803, 'N': 2707933, 'U': 29304, 'Y': 24148},\n",
       " 'AB_BINJ': {' ': 1493847, 'N': 2730119, 'U': 29304, 'Y': 1918},\n",
       " 'AB_NICU': {' ': 1493803, 'N': 2549202, 'U': 29304, 'Y': 182879}}"
      ]
     },
     "execution_count": 7,
     "metadata": {},
     "output_type": "execute_result"
    }
   ],
   "source": [
    "first5 = {k: values_dict[k] for k in sorted(values_dict.keys())[:5]}\n",
    "first5"
   ]
  },
  {
   "cell_type": "markdown",
   "metadata": {},
   "source": [
    "### Range of Valid Data Values"
   ]
  },
  {
   "cell_type": "markdown",
   "metadata": {},
   "source": [
    "We have built a dictionary of attributes and their actual values. But we need to know the valid values before starting any analysis. Build a dictionary of valid values from the guide document (called tabula_2008). The following function builds all the attributes and possible valid values."
   ]
  },
  {
   "cell_type": "code",
   "execution_count": 8,
   "metadata": {
    "collapsed": true
   },
   "outputs": [],
   "source": [
    "import codecs\n",
    "import re\n",
    "def build_ValidValuesDict():\n",
    "    cols_in = codecs.open('tabula_2008','r','utf-8')\n",
    "    file_out=open('format_out','w+')\n",
    "    mydict = {}\n",
    "    last_att = None\n",
    "    num = []\n",
    "    count = 0\n",
    "    for line in cols_in:\n",
    "        if (len(line.split()) > 2):\n",
    "            if line.split()[0][0].isdigit():\n",
    "                if (not line.split()[2].isdigit()):\n",
    "                    last_att = (line.split()[2])\n",
    "                try:\n",
    "                    a = line.split().index(r'R') \n",
    "                    num.append(line.split()[a+1].strip())\n",
    "                except:\n",
    "                    pass\n",
    "                try:\n",
    "                    a = line.split().index(r'U') \n",
    "                    num.append(line.split()[a+1].strip())\n",
    "                except:\n",
    "                    pass\n",
    "                try:\n",
    "                    a = line.split().index(r'U,R') \n",
    "                    num.append(line.split()[a+1].strip())\n",
    "                except:\n",
    "                    pass   \n",
    "                try:\n",
    "                    a = line.split().index(r'R**') \n",
    "                    num.append(line.split()[a+1].strip())\n",
    "                except:\n",
    "                    pass\n",
    "                \n",
    "            elif (not line.split()[0][0].isdigit()):\n",
    "                \n",
    "                if (line.split()[1].isdigit() or \"Blank\" in line.split()[1]):\n",
    "                    if (len(line.split()) > 3):\n",
    "                        if not line.split()[3].isupper():\n",
    "                            num.append(line.split()[1].strip())\n",
    "                        if line.split()[3].isupper():\n",
    "                            last_att = (line.split()[3])\n",
    "                            #num.append()\n",
    "                            #print(last_att)\n",
    "                    else:\n",
    "                        num.append(line.split()[1].strip())\n",
    "        else:\n",
    "            count += 1\n",
    "            mydict.update({last_att:num})\n",
    "            #print(mydict)\n",
    "            num = []\n",
    "    return mydict"
   ]
  },
  {
   "cell_type": "markdown",
   "metadata": {},
   "source": [
    "Now we have built a dictionary of valid values and actual values, lets take an example and compare them"
   ]
  },
  {
   "cell_type": "code",
   "execution_count": 9,
   "metadata": {
    "collapsed": false
   },
   "outputs": [
    {
     "data": {
      "text/plain": [
       "['00', '09', '10', '11', '12', '13', '14', '15', '16', '17', '99', 'Blank']"
      ]
     },
     "execution_count": 9,
     "metadata": {},
     "output_type": "execute_result"
    }
   ],
   "source": [
    "valid_values = build_ValidValuesDict()\n",
    "valid_values['UMEDUC']\n",
    "#valid_values"
   ]
  },
  {
   "cell_type": "code",
   "execution_count": 10,
   "metadata": {
    "collapsed": false
   },
   "outputs": [
    {
     "data": {
      "text/plain": [
       "dict_keys(['02', '14', '10', '06', '15', '5 ', '2 ', '12', '00', '07', '  ', '3 ', '09', '03', '04', '13', '08', '05', '99', '17', '4 ', '11', '16', '01'])"
      ]
     },
     "execution_count": 10,
     "metadata": {},
     "output_type": "execute_result"
    }
   ],
   "source": [
    "values_dict['UMEDUC'].keys()"
   ]
  },
  {
   "cell_type": "code",
   "execution_count": 11,
   "metadata": {
    "collapsed": false
   },
   "outputs": [],
   "source": [
    "#for k in attribute_list:\n",
    "#    if data_2008['%s' % k] not in valid_values['%s' % k]:\n",
    "#        print(data_2008['%s' % k])"
   ]
  },
  {
   "cell_type": "code",
   "execution_count": null,
   "metadata": {
    "collapsed": false
   },
   "outputs": [],
   "source": []
  },
  {
   "cell_type": "markdown",
   "metadata": {},
   "source": [
    "A comparison of the values will give us information about missing (invalid) data. This leads us to our next big topic, \n",
    "missingness."
   ]
  },
  {
   "cell_type": "markdown",
   "metadata": {},
   "source": [
    "## Data Missingness"
   ]
  },
  {
   "cell_type": "markdown",
   "metadata": {},
   "source": [
    "A preliminary data exploration shows missing data icluding empty strings, unknown values, and invalid values. The amount and type of missing data from data exploration is summarized in a file called 'exploration_2008.txt'. Following is a series of bar chart of all the attributes."
   ]
  },
  {
   "cell_type": "code",
   "execution_count": 12,
   "metadata": {
    "collapsed": false
   },
   "outputs": [
    {
     "data": {
      "text/html": [
       "<div>\n",
       "<table border=\"1\" class=\"dataframe\">\n",
       "  <thead>\n",
       "    <tr style=\"text-align: right;\">\n",
       "      <th></th>\n",
       "      <th>Column</th>\n",
       "      <th>Type</th>\n",
       "      <th>Invalid</th>\n",
       "      <th>Empty</th>\n",
       "      <th>EmptyWithMean</th>\n",
       "      <th>Not_Stated</th>\n",
       "      <th>unknown</th>\n",
       "      <th>Total_Missing</th>\n",
       "      <th>NotApplicable</th>\n",
       "      <th>Total</th>\n",
       "      <th>Revision</th>\n",
       "    </tr>\n",
       "  </thead>\n",
       "  <tbody>\n",
       "    <tr>\n",
       "      <th>0</th>\n",
       "      <td>DOB_YY</td>\n",
       "      <td>nominal</td>\n",
       "      <td>66</td>\n",
       "      <td>33</td>\n",
       "      <td>0</td>\n",
       "      <td>0</td>\n",
       "      <td>0</td>\n",
       "      <td>99</td>\n",
       "      <td>0</td>\n",
       "      <td>4255188</td>\n",
       "      <td>UR</td>\n",
       "    </tr>\n",
       "    <tr>\n",
       "      <th>1</th>\n",
       "      <td>DOB_MM</td>\n",
       "      <td>nominal</td>\n",
       "      <td>0</td>\n",
       "      <td>99</td>\n",
       "      <td>0</td>\n",
       "      <td>0</td>\n",
       "      <td>0</td>\n",
       "      <td>99</td>\n",
       "      <td>0</td>\n",
       "      <td>4255188</td>\n",
       "      <td>UR</td>\n",
       "    </tr>\n",
       "    <tr>\n",
       "      <th>2</th>\n",
       "      <td>DOB_WK</td>\n",
       "      <td>nominal</td>\n",
       "      <td>0</td>\n",
       "      <td>99</td>\n",
       "      <td>0</td>\n",
       "      <td>0</td>\n",
       "      <td>0</td>\n",
       "      <td>99</td>\n",
       "      <td>0</td>\n",
       "      <td>4255188</td>\n",
       "      <td>UR</td>\n",
       "    </tr>\n",
       "    <tr>\n",
       "      <th>3</th>\n",
       "      <td>OSTATE</td>\n",
       "      <td>nominal</td>\n",
       "      <td>0</td>\n",
       "      <td>4255188</td>\n",
       "      <td>0</td>\n",
       "      <td>0</td>\n",
       "      <td>0</td>\n",
       "      <td>4255188</td>\n",
       "      <td>0</td>\n",
       "      <td>4255188</td>\n",
       "      <td>UR</td>\n",
       "    </tr>\n",
       "    <tr>\n",
       "      <th>4</th>\n",
       "      <td>OCNTYFIPS</td>\n",
       "      <td>nominal</td>\n",
       "      <td>55</td>\n",
       "      <td>4255133</td>\n",
       "      <td>0</td>\n",
       "      <td>0</td>\n",
       "      <td>0</td>\n",
       "      <td>4255188</td>\n",
       "      <td>0</td>\n",
       "      <td>4255188</td>\n",
       "      <td>UR</td>\n",
       "    </tr>\n",
       "  </tbody>\n",
       "</table>\n",
       "</div>"
      ],
      "text/plain": [
       "      Column     Type  Invalid    Empty  EmptyWithMean  Not_Stated  unknown  \\\n",
       "0     DOB_YY  nominal       66       33              0           0        0   \n",
       "1     DOB_MM  nominal        0       99              0           0        0   \n",
       "2     DOB_WK  nominal        0       99              0           0        0   \n",
       "3     OSTATE  nominal        0  4255188              0           0        0   \n",
       "4  OCNTYFIPS  nominal       55  4255133              0           0        0   \n",
       "\n",
       "   Total_Missing  NotApplicable    Total Revision  \n",
       "0             99              0  4255188       UR  \n",
       "1             99              0  4255188       UR  \n",
       "2             99              0  4255188       UR  \n",
       "3        4255188              0  4255188       UR  \n",
       "4        4255188              0  4255188       UR  "
      ]
     },
     "execution_count": 12,
     "metadata": {},
     "output_type": "execute_result"
    }
   ],
   "source": [
    "data_completeness = pd.read_csv('exploration_2008.txt',delim_whitespace=True)\n",
    "data_completeness.head()"
   ]
  },
  {
   "cell_type": "code",
   "execution_count": null,
   "metadata": {
    "collapsed": true
   },
   "outputs": [],
   "source": []
  },
  {
   "cell_type": "markdown",
   "metadata": {},
   "source": [
    "Plot bar chart to see the ratio of valid versus missing data. Group by similar attributes for easy viewing\n",
    "check_missingData(r1,r2) where r1, r2 are for attributes related to infant birth place, time, facility\n",
    "- (0,9) for attributes related to infant birth place, time, facility\n",
    "- (10,31) for attributes related to mother's age, race, hispanic origin, marital status, and education\n",
    "- (31,40) for attributes related to father's age, race, and hispanic origin\n",
    "- (40,44) for attributes related to live birth history\n",
    "- (44,54) for attributes related to prenatal care visits and weight gain history\n",
    "- (54,61) for attributes related to cigarete and tobacco use\n",
    "- (61,74) for attributes related to risk factors such as diabetes, hypertenstion, previous c-deiliveries\n",
    "- (74,80) for attributes related to obstetric procedures\n",
    "- (80,95) for attributes related to onset and characteristics of labor, and method of delivery\n",
    "- (95,110) for attributes related to method of delivery\n",
    "- (110,116) for attributes related to apgar score, plurality, and sex\n",
    "- (116,129) for attributes related to birthweight and gestation\n",
    "- (129,136) for attributes related to abnormal conditions of newborn including ventilation, admission to NICU, seizure and birth injury\n",
    "- (136,155) for attributes related to congenital conditions of newborn including Anencephaly, Downs Syndrome\n",
    "- (136,155) for attributes related to congenital conditions of newborn including Anencephaly, Downs Syndrome\n",
    "-  (155,164) infant cause of death, deposition, Autopsy"
   ]
  },
  {
   "cell_type": "code",
   "execution_count": 13,
   "metadata": {
    "collapsed": false
   },
   "outputs": [],
   "source": [
    "data_completeness = pd.read_csv('exploration_2008.txt',delim_whitespace=True)\n",
    "def check_missingData(r1,r2):\n",
    "    attributes_info=data_completeness[['Total','Total_Missing']][r1:r2]\n",
    "    attributes_info['Valid_Data'] = attributes_info.Total - attributes_info.Total_Missing\n",
    "    attributes_info_toplot = attributes_info[['Valid_Data','Total_Missing']]\n",
    "    normed_toplot = attributes_info_toplot.div(attributes_info_toplot.sum(1), axis=0)\n",
    "    ax=normed_toplot.plot(kind='barh', stacked=True)\n",
    "    ax.set_yticklabels(data_completeness.Column[r1:r2])\n",
    "    ax.set_xlabel('normalized')\n",
    "    ax.set_title('Missing vs Valid data')\n",
    "    plt.show()\n"
   ]
  },
  {
   "cell_type": "code",
   "execution_count": 14,
   "metadata": {
    "collapsed": false
   },
   "outputs": [
    {
     "data": {
      "image/png": "[encoded data removed]",
      "text/plain": [
       "<matplotlib.figure.Figure at 0x115ee3b38>"
      ]
     },
     "metadata": {},
     "output_type": "display_data"
    }
   ],
   "source": [
    "#Missing vs valid data for attributes related to infant birth place, time, facility\n",
    "check_missingData(0,9)"
   ]
  },
  {
   "cell_type": "markdown",
   "metadata": {},
   "source": [
    "# Look if reason behind missing data is systemic (not random) "
   ]
  },
  {
   "cell_type": "markdown",
   "metadata": {},
   "source": [
    "The attributes OCNTYPOP, OCNTYFIPS,OSTATE do not have valid data as the CDC excluded those attributes in the \n",
    "publicly available raw data.The attribute BFACIL (Birth of place) has missing values because it was added in the 2003\n",
    "revised version of the US Standard Certificate of Live Birth and Certificate of Death. Many states still used the 1989\n",
    "US Standard Certificate of Live Birth and Certificate of Death (UBFACIL). BFACIL has additional options of home (intended), home (unintended), and home (unknown)."
   ]
  },
  {
   "cell_type": "code",
   "execution_count": 17,
   "metadata": {
    "collapsed": false
   },
   "outputs": [
    {
     "data": {
      "text/plain": [
       "0     \n",
       "1     \n",
       "2     \n",
       "3     \n",
       "4     \n",
       "Name: OCNTYPOP, dtype: object"
      ]
     },
     "execution_count": 17,
     "metadata": {},
     "output_type": "execute_result"
    }
   ],
   "source": [
    "data_2008['OCNTYPOP'].head()"
   ]
  },
  {
   "cell_type": "markdown",
   "metadata": {},
   "source": [
    "Write a function that takes a list of attributes with 100% missing data and removes them from the data set"
   ]
  },
  {
   "cell_type": "code",
   "execution_count": 18,
   "metadata": {
    "collapsed": false
   },
   "outputs": [],
   "source": [
    "def rem_zeroDataAtt(my_df,mylist):\n",
    "    for ZeroDataAtt in mylist:\n",
    "        my_df = my_df.drop(['%s' % ZeroDataAtt],1)\n",
    "    return my_df"
   ]
  },
  {
   "cell_type": "code",
   "execution_count": 19,
   "metadata": {
    "collapsed": false
   },
   "outputs": [],
   "source": [
    "mylist = ['OCNTYPOP', 'OCNTYFIPS','OSTATE']\n",
    "new_aa = rem_zeroDataAtt(data_2008,mylist)"
   ]
  },
  {
   "cell_type": "markdown",
   "metadata": {},
   "source": [
    "Check the dimension of the data after removing the three columns"
   ]
  },
  {
   "cell_type": "code",
   "execution_count": 20,
   "metadata": {
    "collapsed": false
   },
   "outputs": [
    {
     "data": {
      "text/plain": [
       "(4255188, 179)"
      ]
     },
     "execution_count": 20,
     "metadata": {},
     "output_type": "execute_result"
    }
   ],
   "source": [
    "new_aa.shape"
   ]
  },
  {
   "cell_type": "code",
   "execution_count": 21,
   "metadata": {
    "collapsed": false
   },
   "outputs": [
    {
     "data": {
      "image/png": "[encoded data removed]",
      "text/plain": [
       "<matplotlib.figure.Figure at 0x119dea780>"
      ]
     },
     "metadata": {},
     "output_type": "display_data"
    }
   ],
   "source": [
    "#Missing vs valid data for attributes related to mother's age, race, hispanic origin, marital status, and education\n",
    "check_missingData(10,31)"
   ]
  },
  {
   "cell_type": "code",
   "execution_count": null,
   "metadata": {
    "collapsed": true
   },
   "outputs": [],
   "source": []
  },
  {
   "cell_type": "markdown",
   "metadata": {},
   "source": [
    "The attributes RCNTY_POP (Mother's county of residence population), MRCNTY (Mother's county of residence),MRTERR (Mother's residence), and MBCNTRY (Mother's birth country) do not have valid data as the CDC excluded those attributes in the publicly available raw data. Remove these columns from the dataframe."
   ]
  },
  {
   "cell_type": "code",
   "execution_count": 23,
   "metadata": {
    "collapsed": false
   },
   "outputs": [],
   "source": [
    "mylist = ['RCNTY_POP', 'MRCNTY','MBCNTRY', 'MRTERR']\n",
    "new_aa = rem_zeroDataAtt(new_aa,mylist)"
   ]
  },
  {
   "cell_type": "markdown",
   "metadata": {},
   "source": [
    "The attributes MEDUC_REC, UMEDUC, MEDUC, MRACE, MBRACE have a substantial amount of data missing. Look if there is any \n",
    "pattern. Those source of the data comes from states that use unrevised (U), revised (R), or combination of both (UR). \n",
    "Look if that could be the reason for the missing data."
   ]
  },
  {
   "cell_type": "markdown",
   "metadata": {},
   "source": [
    "Add a column of \"Revision\" to 'exploration_2008.txt' and load it"
   ]
  },
  {
   "cell_type": "code",
   "execution_count": 24,
   "metadata": {
    "collapsed": false
   },
   "outputs": [
    {
     "data": {
      "text/html": [
       "<div>\n",
       "<table border=\"1\" class=\"dataframe\">\n",
       "  <thead>\n",
       "    <tr style=\"text-align: right;\">\n",
       "      <th></th>\n",
       "      <th>Column</th>\n",
       "      <th>Type</th>\n",
       "      <th>Invalid</th>\n",
       "      <th>Empty</th>\n",
       "      <th>EmptyWithMean</th>\n",
       "      <th>Not_Stated</th>\n",
       "      <th>unknown</th>\n",
       "      <th>Total_Missing</th>\n",
       "      <th>NotApplicable</th>\n",
       "      <th>Total</th>\n",
       "      <th>Revision</th>\n",
       "    </tr>\n",
       "  </thead>\n",
       "  <tbody>\n",
       "    <tr>\n",
       "      <th>0</th>\n",
       "      <td>DOB_YY</td>\n",
       "      <td>nominal</td>\n",
       "      <td>66</td>\n",
       "      <td>33</td>\n",
       "      <td>0</td>\n",
       "      <td>0</td>\n",
       "      <td>0</td>\n",
       "      <td>99</td>\n",
       "      <td>0</td>\n",
       "      <td>4255188</td>\n",
       "      <td>UR</td>\n",
       "    </tr>\n",
       "    <tr>\n",
       "      <th>1</th>\n",
       "      <td>DOB_MM</td>\n",
       "      <td>nominal</td>\n",
       "      <td>0</td>\n",
       "      <td>99</td>\n",
       "      <td>0</td>\n",
       "      <td>0</td>\n",
       "      <td>0</td>\n",
       "      <td>99</td>\n",
       "      <td>0</td>\n",
       "      <td>4255188</td>\n",
       "      <td>UR</td>\n",
       "    </tr>\n",
       "    <tr>\n",
       "      <th>2</th>\n",
       "      <td>DOB_WK</td>\n",
       "      <td>nominal</td>\n",
       "      <td>0</td>\n",
       "      <td>99</td>\n",
       "      <td>0</td>\n",
       "      <td>0</td>\n",
       "      <td>0</td>\n",
       "      <td>99</td>\n",
       "      <td>0</td>\n",
       "      <td>4255188</td>\n",
       "      <td>UR</td>\n",
       "    </tr>\n",
       "    <tr>\n",
       "      <th>3</th>\n",
       "      <td>OSTATE</td>\n",
       "      <td>nominal</td>\n",
       "      <td>0</td>\n",
       "      <td>4255188</td>\n",
       "      <td>0</td>\n",
       "      <td>0</td>\n",
       "      <td>0</td>\n",
       "      <td>4255188</td>\n",
       "      <td>0</td>\n",
       "      <td>4255188</td>\n",
       "      <td>UR</td>\n",
       "    </tr>\n",
       "    <tr>\n",
       "      <th>4</th>\n",
       "      <td>OCNTYFIPS</td>\n",
       "      <td>nominal</td>\n",
       "      <td>55</td>\n",
       "      <td>4255133</td>\n",
       "      <td>0</td>\n",
       "      <td>0</td>\n",
       "      <td>0</td>\n",
       "      <td>4255188</td>\n",
       "      <td>0</td>\n",
       "      <td>4255188</td>\n",
       "      <td>UR</td>\n",
       "    </tr>\n",
       "  </tbody>\n",
       "</table>\n",
       "</div>"
      ],
      "text/plain": [
       "      Column     Type  Invalid    Empty  EmptyWithMean  Not_Stated  unknown  \\\n",
       "0     DOB_YY  nominal       66       33              0           0        0   \n",
       "1     DOB_MM  nominal        0       99              0           0        0   \n",
       "2     DOB_WK  nominal        0       99              0           0        0   \n",
       "3     OSTATE  nominal        0  4255188              0           0        0   \n",
       "4  OCNTYFIPS  nominal       55  4255133              0           0        0   \n",
       "\n",
       "   Total_Missing  NotApplicable    Total Revision  \n",
       "0             99              0  4255188       UR  \n",
       "1             99              0  4255188       UR  \n",
       "2             99              0  4255188       UR  \n",
       "3        4255188              0  4255188       UR  \n",
       "4        4255188              0  4255188       UR  "
      ]
     },
     "execution_count": 24,
     "metadata": {},
     "output_type": "execute_result"
    }
   ],
   "source": [
    "data_completeness_new = pd.read_csv('exploration_2008.txt',delim_whitespace=True)\n",
    "data_completeness_new.head()"
   ]
  },
  {
   "cell_type": "code",
   "execution_count": 25,
   "metadata": {
    "collapsed": false
   },
   "outputs": [
    {
     "data": {
      "text/plain": [
       "(72, 11)"
      ]
     },
     "execution_count": 25,
     "metadata": {},
     "output_type": "execute_result"
    }
   ],
   "source": [
    "data_completeness = data_completeness_new[data_completeness_new.Revision=='UR']\n",
    "data_completeness.shape\n",
    "#check_missingData(1,25)"
   ]
  },
  {
   "cell_type": "code",
   "execution_count": 26,
   "metadata": {
    "collapsed": false
   },
   "outputs": [
    {
     "data": {
      "text/plain": [
       "(66, 11)"
      ]
     },
     "execution_count": 26,
     "metadata": {},
     "output_type": "execute_result"
    }
   ],
   "source": [
    "\n",
    "#data_completeness = data_completeness_new.drop(data_completeness_new.index[['OCNTYPOP', 'OCNTYFIPS','OSTATE']])\n",
    "data_completeness = data_completeness.set_index(['Column'])\n",
    "data_completeness = data_completeness.loc[~ data_completeness.index.isin(['OCNTYPOP', 'OCNTYFIPS','OSTATE','RCNTY_POP', 'MRCNTY','MBCNTRY', 'MRTERR'])]\n",
    "data_completeness = data_completeness.reset_index()\n",
    "data_completeness.shape"
   ]
  },
  {
   "cell_type": "markdown",
   "metadata": {},
   "source": [
    "Plot attributes which are in both the revised and unrevised version of the live birth certificate"
   ]
  },
  {
   "cell_type": "code",
   "execution_count": 27,
   "metadata": {
    "collapsed": false
   },
   "outputs": [
    {
     "data": {
      "image/png": "[encoded data removed]",
      "text/plain": [
       "<matplotlib.figure.Figure at 0x119cafa20>"
      ]
     },
     "metadata": {},
     "output_type": "display_data"
    }
   ],
   "source": [
    "check_missingData(1,22)"
   ]
  },
  {
   "cell_type": "code",
   "execution_count": 28,
   "metadata": {
    "collapsed": false
   },
   "outputs": [
    {
     "data": {
      "image/png": "[encoded data removed]",
      "text/plain": [
       "<matplotlib.figure.Figure at 0x119cd1550>"
      ]
     },
     "metadata": {},
     "output_type": "display_data"
    }
   ],
   "source": [
    "check_missingData(23,46)"
   ]
  },
  {
   "cell_type": "code",
   "execution_count": 29,
   "metadata": {
    "collapsed": false
   },
   "outputs": [
    {
     "data": {
      "image/png": "[encoded data removed]",
      "text/plain": [
       "<matplotlib.figure.Figure at 0x115ee3c50>"
      ]
     },
     "metadata": {},
     "output_type": "display_data"
    }
   ],
   "source": [
    "check_missingData(47,66)"
   ]
  },
  {
   "cell_type": "markdown",
   "metadata": {},
   "source": [
    "The plots show, attributes that appear in both the revised and unrevised certificate (revision code UR), have near complete data with little missing values."
   ]
  },
  {
   "cell_type": "markdown",
   "metadata": {},
   "source": [
    "Now, let's look at the attributes which appear in the unrevised certificate version only"
   ]
  },
  {
   "cell_type": "code",
   "execution_count": 45,
   "metadata": {
    "collapsed": false
   },
   "outputs": [
    {
     "data": {
      "text/plain": [
       "(16, 11)"
      ]
     },
     "execution_count": 45,
     "metadata": {},
     "output_type": "execute_result"
    }
   ],
   "source": [
    "data_completeness = data_completeness_new[data_completeness_new.Revision=='U']\n",
    "data_completeness.shape"
   ]
  },
  {
   "cell_type": "code",
   "execution_count": 46,
   "metadata": {
    "collapsed": false
   },
   "outputs": [
    {
     "data": {
      "image/png": "[encoded data removed]",
      "text/plain": [
       "<matplotlib.figure.Figure at 0x5bb9e0668>"
      ]
     },
     "metadata": {},
     "output_type": "display_data"
    }
   ],
   "source": [
    "#Missing vs valid data for attributes related to father's age, race, and hispanic origin\n",
    "check_missingData(1,16)"
   ]
  },
  {
   "cell_type": "markdown",
   "metadata": {},
   "source": [
    "The plots show more than 60% of data is missing for attributes that appear in the unrevised version only"
   ]
  },
  {
   "cell_type": "markdown",
   "metadata": {},
   "source": [
    "Now, lets look at the attributes that appear in the revised verstion (Revision R) only"
   ]
  },
  {
   "cell_type": "code",
   "execution_count": 47,
   "metadata": {
    "collapsed": false
   },
   "outputs": [
    {
     "data": {
      "text/plain": [
       "(65, 11)"
      ]
     },
     "execution_count": 47,
     "metadata": {},
     "output_type": "execute_result"
    }
   ],
   "source": [
    "data_completeness = data_completeness_new[data_completeness_new.Revision=='R']\n",
    "data_completeness.shape"
   ]
  },
  {
   "cell_type": "code",
   "execution_count": 48,
   "metadata": {
    "collapsed": false
   },
   "outputs": [
    {
     "data": {
      "image/png": "[encoded data removed]",
      "text/plain": [
       "<matplotlib.figure.Figure at 0x1197b84a8>"
      ]
     },
     "metadata": {},
     "output_type": "display_data"
    }
   ],
   "source": [
    "#Missing vs valid data for attributes related to live birth history\n",
    "check_missingData(1,22)"
   ]
  },
  {
   "cell_type": "code",
   "execution_count": 49,
   "metadata": {
    "collapsed": false
   },
   "outputs": [
    {
     "data": {
      "image/png": "[encoded data removed]",
      "text/plain": [
       "<matplotlib.figure.Figure at 0x11f35f4e0>"
      ]
     },
     "metadata": {},
     "output_type": "display_data"
    }
   ],
   "source": [
    "#Missing vs valid data for attributes related to prenatal care visits and weight gain history\n",
    "check_missingData(23,44)"
   ]
  },
  {
   "cell_type": "code",
   "execution_count": 50,
   "metadata": {
    "collapsed": false
   },
   "outputs": [
    {
     "data": {
      "image/png": "[encoded data removed]",
      "text/plain": [
       "<matplotlib.figure.Figure at 0x114630dd8>"
      ]
     },
     "metadata": {},
     "output_type": "display_data"
    }
   ],
   "source": [
    "#Missing vs valid data for attributes related to cigarete and tobacco use\n",
    "check_missingData(45,65)"
   ]
  },
  {
   "cell_type": "markdown",
   "metadata": {},
   "source": [
    "The plots show more than 30% of data is missing for most of the attributes that appear in the revised version"
   ]
  },
  {
   "cell_type": "markdown",
   "metadata": {
    "collapsed": false
   },
   "source": [
    "### Natality Vs infant fatality"
   ]
  },
  {
   "cell_type": "markdown",
   "metadata": {},
   "source": [
    "The file has a flag which identifies an infant death (FLGND = 1). Lets look at the ratio of infant fatality"
   ]
  },
  {
   "cell_type": "code",
   "execution_count": 36,
   "metadata": {
    "collapsed": false
   },
   "outputs": [
    {
     "data": {
      "text/plain": [
       "{' ': 99, '1': 27523, '2': 4227566}"
      ]
     },
     "execution_count": 36,
     "metadata": {},
     "output_type": "execute_result"
    }
   ],
   "source": [
    "values_dict['FLGND']"
   ]
  },
  {
   "cell_type": "code",
   "execution_count": 37,
   "metadata": {
    "collapsed": false
   },
   "outputs": [
    {
     "data": {
      "image/png": "[encoded data removed]",
      "text/plain": [
       "<matplotlib.figure.Figure at 0x119f32518>"
      ]
     },
     "metadata": {},
     "output_type": "display_data"
    }
   ],
   "source": [
    "labels = 'Fatality', 'Natality'\n",
    "sizes = [27523, 4227566 ]\n",
    "colors = ['red','green']\n",
    " \n",
    "# Plot\n",
    "plt.pie(sizes, labels=labels, colors=colors,\n",
    "        autopct='%1.1f%%', shadow=True, startangle=140)\n",
    " \n",
    "plt.axis('equal')\n",
    "plt.title('Fatality Ratio')\n",
    "plt.show()"
   ]
  },
  {
   "cell_type": "code",
   "execution_count": 38,
   "metadata": {
    "collapsed": false
   },
   "outputs": [],
   "source": [
    "apgar = new_aa[[\"FLGND\",\"APGAR5\"]]\n"
   ]
  },
  {
   "cell_type": "code",
   "execution_count": 127,
   "metadata": {
    "collapsed": false
   },
   "outputs": [],
   "source": [
    "#new_aa[[\"FLGND\",\"APGAR5\"]].groupby([\"FLGND\",\"APGAR5\"]).size().plot(kind='bar')\n"
   ]
  },
  {
   "cell_type": "code",
   "execution_count": 125,
   "metadata": {
    "collapsed": false
   },
   "outputs": [
    {
     "data": {
      "text/plain": [
       "<matplotlib.axes._subplots.AxesSubplot at 0x11dfe4e80>"
      ]
     },
     "execution_count": 125,
     "metadata": {},
     "output_type": "execute_result"
    },
    {
     "data": {
      "image/png": "[encoded data removed]",
      "text/plain": [
       "<matplotlib.figure.Figure at 0x11e1c96d8>"
      ]
     },
     "metadata": {},
     "output_type": "display_data"
    }
   ],
   "source": [
    "f, (ax1, ax2) = plt.subplots(1, 2, sharey=False)\n",
    "apgar[apgar.FLGND == '1'][['FLGND','APGAR5']].groupby(['APGAR5']).count().plot(kind='bar',ax= ax1,figsize=(16,4))\n",
    "apgar[apgar.FLGND == '2'][['FLGND','APGAR5']].groupby(['APGAR5']).count().plot(kind='bar',ax = ax2,figsize=(16,4))\n"
   ]
  },
  {
   "cell_type": "code",
   "execution_count": null,
   "metadata": {
    "collapsed": true
   },
   "outputs": [],
   "source": []
  },
  {
   "cell_type": "code",
   "execution_count": 112,
   "metadata": {
    "collapsed": false
   },
   "outputs": [
    {
     "data": {
      "image/png": "[encoded data removed]",
      "text/plain": [
       "<matplotlib.figure.Figure at 0x118216e48>"
      ]
     },
     "metadata": {},
     "output_type": "display_data"
    }
   ],
   "source": [
    " # Data to plot\n",
    "labels = 'Binary', 'Numerical', 'Nominal'\n",
    "sizes = [70, 12, 81]\n",
    "colors = ['red','green', 'yellow']\n",
    "#explode = (0.1, 0, 0, 0,0)  # explode 1st slice\n",
    " \n",
    "# Plot\n",
    "plt.pie(sizes, labels=labels, colors=colors,\n",
    "        autopct='%1.1f%%', shadow=True, startangle=140)\n",
    "plt.title('Data Types') \n",
    "plt.axis('equal')\n",
    "plt.show()"
   ]
  },
  {
   "cell_type": "code",
   "execution_count": null,
   "metadata": {
    "collapsed": true
   },
   "outputs": [],
   "source": []
  }
 ],
 "metadata": {
  "anaconda-cloud": {},
  "celltoolbar": "Raw Cell Format",
  "kernelspec": {
   "display_name": "Python [Root]",
   "language": "python",
   "name": "Python [Root]"
  },
  "language_info": {
   "codemirror_mode": {
    "name": "ipython",
    "version": 3
   },
   "file_extension": ".py",
   "mimetype": "text/x-python",
   "name": "python",
   "nbconvert_exporter": "python",
   "pygments_lexer": "ipython3",
   "version": "3.5.2"
  }
 },
 "nbformat": 4,
 "nbformat_minor": 0
}
