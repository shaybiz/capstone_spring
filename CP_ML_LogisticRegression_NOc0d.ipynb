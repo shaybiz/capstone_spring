{
 "cells": [
  {
   "cell_type": "markdown",
   "metadata": {},
   "source": [
    "# Build Model"
   ]
  },
  {
   "cell_type": "markdown",
   "metadata": {},
   "source": [
    "In this notebook, I will build a base line model. The ultimate goal of the project is to build a model that takes a new-born infant's and its parents' data and predict whether the baby dies or not. First, it is necessarry to encode the categorical features in the cleaned data, before applying machine learning algoriths such as logistic regression, support vector machine, etc."
   ]
  },
  {
   "cell_type": "code",
   "execution_count": 1,
   "metadata": {
    "collapsed": true
   },
   "outputs": [],
   "source": [
    "import numpy as np\n",
    "import pandas as pd\n",
    "import os.path\n",
    "import matplotlib.pyplot as plt\n",
    "import matplotlib.patches as patches\n",
    "%matplotlib inline"
   ]
  },
  {
   "cell_type": "code",
   "execution_count": 2,
   "metadata": {
    "collapsed": true
   },
   "outputs": [],
   "source": [
    "Data_2008 = pd.read_pickle('CleanData_ML_final')"
   ]
  },
  {
   "cell_type": "code",
   "execution_count": 3,
   "metadata": {
    "collapsed": true
   },
   "outputs": [],
   "source": [
    "Data_2008.rename(columns=lambda x: x.strip(),inplace = True)"
   ]
  },
  {
   "cell_type": "code",
   "execution_count": 4,
   "metadata": {},
   "outputs": [
    {
     "name": "stdout",
     "output_type": "stream",
     "text": [
      "['AB_ANTI', 'AB_AVEN1', 'AB_AVEN6', 'AB_BINJ', 'AB_NICU', 'AB_SEIZ', 'AB_SURF', 'APGAR5', 'ATTEND', 'BFACIL', 'BRTHWGT', 'CA_ANEN', 'CA_CCHD', 'CA_CDH', 'CA_CLEFT', 'CA_CLPAL', 'CA_DISOR', 'CA_DOWN', 'CA_GAST', 'CA_HYPO', 'CA_LIMB', 'CA_MNSB', 'CA_OMPH', 'CIG_1', 'CIG_2', 'CIG_3', 'CIG_REC', 'COMBGEST', 'DMETH_REC', 'DPLURAL', 'ESTGEST', 'FAGECOMB', 'FBRACE', 'FLGND', 'FRACEHISP', 'LBO', 'LD_ANES', 'LD_ANTI', 'LD_AUGM', 'LD_CHOR', 'LD_FINT', 'LD_INDL', 'LD_MECS', 'LD_NVPR', 'LD_STER', 'MAGER', 'MAR', 'MBRACE', 'MEDUC', 'ME_ATTF', 'ME_ATTV', 'ME_PRES', 'ME_ROUT', 'ME_TRIAL', 'MRACEHISP', 'MRACEREC', 'ON_PRECIP', 'ON_PROL', 'ON_RUPTR', 'OP_CERV', 'OP_ECVF', 'OP_ECVS', 'OP_TOCOL', 'PRECARE', 'RDMETH_REC', 'RESTATUS', 'RF_CESAR', 'RF_CESARN', 'RF_DIAB', 'RF_ECLAM', 'RF_GEST', 'RF_GHYP', 'RF_PHYP', 'RF_PPOUTC', 'RF_PPTERM', 'SEX', 'TBO', 'UBFACIL', 'UCA_ANEN', 'UCA_CELFTLP', 'UCA_DOWNS', 'UCA_OMPHA', 'UCA_SPINA', 'UFHISP', 'ULD_BREECH', 'ULD_MECO', 'ULD_PRECIP', 'UME_FORCP', 'UME_VAC', 'UMHISP', 'UOP_INDUC', 'UOP_TOCOL', 'UPREVIS', 'URF_CHYPER', 'URF_DIAB', 'URF_ECLAM', 'URF_PHYPER', 'WTGAIN']\n"
     ]
    }
   ],
   "source": [
    "attribute_list = list(Data_2008.columns.str.strip()) #strip in case some of the column names have spaces around them.\n",
    "print(attribute_list)"
   ]
  },
  {
   "cell_type": "code",
   "execution_count": 5,
   "metadata": {},
   "outputs": [
    {
     "data": {
      "text/plain": [
       "98"
      ]
     },
     "execution_count": 5,
     "metadata": {},
     "output_type": "execute_result"
    }
   ],
   "source": [
    "len(attribute_list)"
   ]
  },
  {
   "cell_type": "markdown",
   "metadata": {},
   "source": [
    "### Categorical, numerical, and binary features"
   ]
  },
  {
   "cell_type": "markdown",
   "metadata": {},
   "source": [
    "Make a list of categorical, numerical, and binary features. The aim is to apply encode the categorical features. After data cleaning, there are 102 features and 1,569,762 records in total. Out of these, there are 25 categorical, 17 numerical, and 60 binary features."
   ]
  },
  {
   "cell_type": "code",
   "execution_count": 6,
   "metadata": {
    "collapsed": true
   },
   "outputs": [],
   "source": [
    "categorical_attribute = ['ATTEND','BFACIL','DMETH_REC','FBRACE','FRACEHISP','MBRACE',\n",
    "                         'ME_PRES','ME_ROUT','ME_TRIAL','MRACEHISP','MRACEREC','RDMETH_REC','RESTATUS',\n",
    "                        'UBFACIL','UCA_ANEN','UCA_CELFTLP','UCA_DOWNS','UCA_OMPHA','UCA_SPINA',\n",
    "                        'UFHISP','UMHISP']"
   ]
  },
  {
   "cell_type": "code",
   "execution_count": 7,
   "metadata": {
    "collapsed": true
   },
   "outputs": [],
   "source": [
    "numerical_attribute = ['APGAR5','BRTHWGT','CIG_1','CIG_2','CIG_3','COMBGEST','DPLURAL','ESTGEST','FAGECOMB','LBO','MAGER',\n",
    "                      'MEDUC','PRECARE','RF_CESARN','TBO','UPREVIS','WTGAIN']"
   ]
  },
  {
   "cell_type": "code",
   "execution_count": 8,
   "metadata": {
    "collapsed": true
   },
   "outputs": [],
   "source": [
    "binary_attribute = ['AB_ANTI','AB_AVEN1','AB_AVEN6','AB_BINJ','AB_NICU','AB_SEIZ','AB_SURF','CA_ANEN','CA_CCHD',\n",
    "                   'CA_CDH','CA_CLEFT','CA_CLPAL','CA_DISOR','CA_DOWN','CA_GAST','CA_HYPO','CA_LIMB','CA_MNSB',\n",
    "                   'CA_OMPH','CIG_REC','FLGND','LD_ANES','LD_ANTI','LD_AUGM','LD_CHOR','LD_FINT','LD_INDL','LD_MECS',\n",
    "                   'LD_NVPR','LD_STER','MAR','ME_ATTF','ME_ATTV','ON_PRECIP','ON_PROL','ON_RUPTR','OP_CERV',\n",
    "                   'OP_ECVF','OP_ECVS','OP_TOCOL','RF_CESAR','RF_DIAB','RF_ECLAM','RF_GEST','RF_GHYP','RF_PHYP',\n",
    "                   'RF_PPOUTC','RF_PPTERM','SEX','ULD_BREECH','ULD_MECO','ULD_PRECIP','UME_FORCP','UME_VAC',\n",
    "                    'UOP_INDUC','UOP_TOCOL','URF_CHYPER','URF_DIAB','URF_ECLAM','URF_PHYPER']"
   ]
  },
  {
   "cell_type": "markdown",
   "metadata": {},
   "source": [
    "Convert the numerical and binary features to float and int types respectively"
   ]
  },
  {
   "cell_type": "code",
   "execution_count": 9,
   "metadata": {
    "collapsed": true
   },
   "outputs": [],
   "source": [
    "for i in numerical_attribute:\n",
    "    Data_2008['%s' % i] = Data_2008['%s' % i].astype(float)"
   ]
  },
  {
   "cell_type": "code",
   "execution_count": 10,
   "metadata": {
    "collapsed": true
   },
   "outputs": [],
   "source": [
    "for j in binary_attribute:\n",
    "    Data_2008['%s' % j] = Data_2008['%s' % j].astype(int)"
   ]
  },
  {
   "cell_type": "markdown",
   "metadata": {},
   "source": [
    "Encode the categorical features and assign a name to each new derived column "
   ]
  },
  {
   "cell_type": "code",
   "execution_count": 11,
   "metadata": {},
   "outputs": [
    {
     "data": {
      "text/plain": [
       "(1569762, 192)"
      ]
     },
     "execution_count": 11,
     "metadata": {},
     "output_type": "execute_result"
    }
   ],
   "source": [
    "df = pd.get_dummies(Data_2008, prefix=categorical_attribute, columns=categorical_attribute)\n",
    "df.shape"
   ]
  },
  {
   "cell_type": "markdown",
   "metadata": {},
   "source": [
    "Lets look at the number of positive (death) and negative (natality) data size"
   ]
  },
  {
   "cell_type": "code",
   "execution_count": 12,
   "metadata": {},
   "outputs": [
    {
     "data": {
      "text/plain": [
       "0    1562931\n",
       "1       6831\n",
       "Name: FLGND, dtype: int64"
      ]
     },
     "execution_count": 12,
     "metadata": {},
     "output_type": "execute_result"
    }
   ],
   "source": [
    "Data_2008['FLGND'].value_counts()"
   ]
  },
  {
   "cell_type": "code",
   "execution_count": 13,
   "metadata": {
    "collapsed": true
   },
   "outputs": [],
   "source": [
    "df_features = list(df.columns)\n",
    "df_features.remove('FLGND')"
   ]
  },
  {
   "cell_type": "code",
   "execution_count": 14,
   "metadata": {
    "collapsed": true
   },
   "outputs": [],
   "source": [
    "import sklearn\n",
    "from sklearn.model_selection import train_test_split\n",
    "from sklearn.linear_model import LogisticRegression\n",
    "from sklearn.metrics import accuracy_score\n",
    "from sklearn.model_selection import KFold\n",
    "from sklearn.model_selection import GridSearchCV\n",
    "from sklearn.metrics import average_precision_score"
   ]
  },
  {
   "cell_type": "code",
   "execution_count": 15,
   "metadata": {
    "collapsed": true
   },
   "outputs": [],
   "source": [
    "def cv_optimize(clf, parameters, Xtrain, ytrain, n_folds=5):\n",
    "    gs = sklearn.model_selection.GridSearchCV(clf, param_grid=parameters, cv=n_folds)\n",
    "    gs.fit(Xtrain, ytrain)\n",
    "    print(\"BEST PARAMS\", gs.best_params_)\n",
    "    best = gs.best_estimator_\n",
    "    return best"
   ]
  },
  {
   "cell_type": "code",
   "execution_count": 16,
   "metadata": {
    "collapsed": true
   },
   "outputs": [],
   "source": [
    "def do_classify(clf, parameters, indf, featurenames, targetname, target1val, standardize=False, train_size=0.9):\n",
    "    subdf=indf[featurenames]\n",
    "    if standardize:\n",
    "        subdfstd=(subdf - subdf.mean())/subdf.std()\n",
    "    else:\n",
    "        subdfstd=subdf\n",
    "    X=subdfstd.values\n",
    "    y=(indf[targetname].values==target1val)*1\n",
    "    Xtrain, Xtest, ytrain, ytest = train_test_split(X, y, train_size=train_size)\n",
    "    clf = cv_optimize(clf, parameters, Xtrain, ytrain)\n",
    "    clf=clf.fit(Xtrain, ytrain)\n",
    "    training_accuracy = clf.score(Xtrain, ytrain)\n",
    "    test_accuracy = clf.score(Xtest, ytest)\n",
    "    y_score = clf.decision_function(Xtest)\n",
    "    ytrain_score = clf.decision_function(Xtrain)\n",
    "    test_average_precision = average_precision_score(ytest, y_score)\n",
    "    train_average_precision = average_precision_score(ytrain, ytrain_score)\n",
    "    print(\"Accuracy on training data: {:0.2f}\".format(training_accuracy))\n",
    "    print(\"Accuracy on test data:     {:0.2f}\".format(test_accuracy))\n",
    "    print('Average test precision score: {0:0.2f}'.format(test_average_precision))\n",
    "    print('Average train precision score: {0:0.2f}'.format(train_average_precision))\n",
    "    return clf, Xtrain, ytrain, Xtest, ytest,y_score,ytrain_score"
   ]
  },
  {
   "cell_type": "code",
   "execution_count": 17,
   "metadata": {},
   "outputs": [
    {
     "name": "stderr",
     "output_type": "stream",
     "text": [
      "/anaconda3/lib/python3.6/site-packages/sklearn/model_selection/_split.py:2010: FutureWarning: From version 0.21, test_size will always complement train_size unless both are specified.\n",
      "  FutureWarning)\n"
     ]
    },
    {
     "name": "stdout",
     "output_type": "stream",
     "text": [
      "BEST PARAMS {'C': 1}\n",
      "Accuracy on training data: 1.00\n",
      "Accuracy on test data:     1.00\n",
      "Average test precision score: 0.39\n",
      "Average train precision score: 0.37\n"
     ]
    }
   ],
   "source": [
    "clf_l, Xtrain_l, ytrain_l, Xtest_l, ytest_l,yscore_1,ytrain_score_l  = do_classify(LogisticRegression(), \n",
    "                                                           {\"C\": [0.01, 0.1, 1]}, \n",
    "                                                           df, df_features, 'FLGND',1)"
   ]
  },
  {
   "cell_type": "markdown",
   "metadata": {},
   "source": [
    "Lets look at the percentage of positive and negative observations in both training and test datasets."
   ]
  },
  {
   "cell_type": "code",
   "execution_count": 18,
   "metadata": {
    "collapsed": true
   },
   "outputs": [],
   "source": [
    "SS_train = Xtrain_l.shape[0] \n",
    "SS_test = Xtest_l.shape[0]\n",
    "PP_train = round(np.sum(ytrain_l)/SS_train,3)\n",
    "NP_train = round(np.sum(ytrain_l == 0)/SS_train,3)\n",
    "PP_test = round(np.sum(ytest_l)/SS_test,3)\n",
    "NP_test = round(np.sum(ytest_l == 0)/SS_test,3)"
   ]
  },
  {
   "cell_type": "markdown",
   "metadata": {},
   "source": [
    "**Confusion matrix of test data**"
   ]
  },
  {
   "cell_type": "code",
   "execution_count": 19,
   "metadata": {},
   "outputs": [
    {
     "name": "stdout",
     "output_type": "stream",
     "text": [
      "[[156197     78]\n",
      " [   498    204]]\n"
     ]
    }
   ],
   "source": [
    "from sklearn.metrics import confusion_matrix\n",
    "cm_test = confusion_matrix(ytest_l,clf_l.predict(Xtest_l))\n",
    "print(cm_test)\n",
    "cm_test = pd.DataFrame(cm_test)"
   ]
  },
  {
   "cell_type": "code",
   "execution_count": 20,
   "metadata": {
    "collapsed": true
   },
   "outputs": [],
   "source": [
    "TN_test = cm_test[0][0];TP_test = cm_test[1][1];FP_test = cm_test[0][1]; FN_test = cm_test[1][0]"
   ]
  },
  {
   "cell_type": "code",
   "execution_count": 21,
   "metadata": {
    "collapsed": true
   },
   "outputs": [],
   "source": [
    "pd.set_option('precision', 3)\n",
    "\n",
    "TPR_test = round(TP_test/(TP_test+FN_test),3) #true positive rate (Recall)\n",
    "\n",
    "TNR_test = round(TN_test/(TN_test+FP_test),3) #true negative rate (Specifity)\n",
    "\n",
    "PPV_test = round(TP_test/(TP_test+FP_test),3) #positive predictive value (Precision)\n",
    "\n",
    "NPV_test = round(TN_test/(TN_test+FN_test),3) # Negative predictive value\n",
    "\n",
    "FPR_test = round(FP_test/(FP_test+TN_test),3) # Fall out or false positive rate\n",
    "\n",
    "FNR_test = round(FN_test/(TP_test+FN_test),3) # False negative rate\n",
    "\n",
    "FDR_test = round(FP_test/(TP_test+FP_test),3) # False discovery rate\n",
    "\n",
    "ACC_test = round((TP_test+TN_test)/(TP_test+FP_test+FN_test+TN_test),3) # Overall accuracy"
   ]
  },
  {
   "cell_type": "markdown",
   "metadata": {},
   "source": [
    "***PRECISION-RECALL CURVE***"
   ]
  },
  {
   "cell_type": "code",
   "execution_count": 22,
   "metadata": {},
   "outputs": [
    {
     "data": {
      "text/plain": [
       "<matplotlib.text.Text at 0x110aec1d0>"
      ]
     },
     "execution_count": 22,
     "metadata": {},
     "output_type": "execute_result"
    },
    {
     "data": {
      "image/png": "[encoded data removed]",
      "text/plain": [
       "<matplotlib.figure.Figure at 0x142961550>"
      ]
     },
     "metadata": {},
     "output_type": "display_data"
    }
   ],
   "source": [
    "from sklearn.metrics import precision_recall_curve\n",
    "precision, recall, _ = precision_recall_curve(ytest_l, yscore_1)\n",
    "\n",
    "plt.step(recall, precision, color='b', alpha=0.2,where='post')\n",
    "plt.fill_between(recall, precision, step='post', alpha=0.2,color='b')\n",
    "\n",
    "plt.xlabel('Recall')\n",
    "plt.ylabel('Precision')\n",
    "plt.ylim([0.0, 1.0])\n",
    "plt.xlim([0.0, 1.0])\n",
    "plt.title('Precision-Recall Curve')"
   ]
  },
  {
   "cell_type": "markdown",
   "metadata": {},
   "source": [
    "***Receiver Operating Characteristic***"
   ]
  },
  {
   "cell_type": "code",
   "execution_count": 23,
   "metadata": {
    "collapsed": true
   },
   "outputs": [],
   "source": [
    "from sklearn.metrics import roc_curve, auc\n",
    "fpr1, tpr1, _ = roc_curve(ytest_l, yscore_1)\n",
    "roc_auc = auc(fpr1, tpr1)\n",
    "#print(fpr)"
   ]
  },
  {
   "cell_type": "code",
   "execution_count": 24,
   "metadata": {},
   "outputs": [
    {
     "data": {
      "image/png": "[encoded data removed]",
      "text/plain": [
       "<matplotlib.figure.Figure at 0x11045b048>"
      ]
     },
     "metadata": {},
     "output_type": "display_data"
    }
   ],
   "source": [
    "plt.title('Receiver Operating Characteristic')\n",
    "plt.plot(fpr1, tpr1, 'b',label='AUC = %0.2f'% roc_auc)\n",
    "plt.legend(loc='lower right')\n",
    "plt.plot([0,1],[0,1],'r--')\n",
    "plt.xlim([-0.1,1.2])\n",
    "plt.ylim([-0.1,1.2])\n",
    "plt.ylabel('True Positive Rate')\n",
    "plt.xlabel('False Positive Rate')\n",
    "plt.show()"
   ]
  },
  {
   "cell_type": "markdown",
   "metadata": {},
   "source": [
    "**Confusion matrix of training data**"
   ]
  },
  {
   "cell_type": "code",
   "execution_count": 25,
   "metadata": {},
   "outputs": [
    {
     "name": "stdout",
     "output_type": "stream",
     "text": [
      "[[1406006     650]\n",
      " [   4453    1676]]\n"
     ]
    }
   ],
   "source": [
    "from sklearn.metrics import confusion_matrix\n",
    "cm_train = confusion_matrix(ytrain_l,clf_l.predict(Xtrain_l))\n",
    "print(cm_train)\n",
    "cm_train = pd.DataFrame(cm_train)"
   ]
  },
  {
   "cell_type": "code",
   "execution_count": 26,
   "metadata": {
    "collapsed": true
   },
   "outputs": [],
   "source": [
    "TN_train = cm_train[0][0];TP_train = cm_train[1][1];FP_train = cm_train[0][1]; FN_train = cm_train[1][0]"
   ]
  },
  {
   "cell_type": "code",
   "execution_count": 27,
   "metadata": {
    "collapsed": true
   },
   "outputs": [],
   "source": [
    "TPR_train = round(TP_train/(TP_train+FN_train),3) #true positive rate (Recall)\n",
    "\n",
    "TNR_train = round(TN_train/(TN_train+FP_train),3) #true negative rate (Specifity)\n",
    "\n",
    "PPV_train = round(TP_train/(TP_train+FP_train),3) #positive predictive value (Precision)\n",
    "\n",
    "NPV_train = round(TN_train/(TN_train+FN_train),3) # Negative predictive value\n",
    "\n",
    "FPR_train = round(FP_train/(FP_train+TN_train),3) # Fall out or false positive rate\n",
    "\n",
    "FNR_train = round(FN_train/(TP_train+FN_train),3) # False negative rate\n",
    "\n",
    "FDR_train = round(FP_train/(TP_train+FP_train),3) # False discovery rate\n",
    "\n",
    "ACC_train = round((TP_train+TN_train)/(TP_train+FP_train+FN_train+TN_train),3) # Overall accuracy"
   ]
  },
  {
   "cell_type": "code",
   "execution_count": 28,
   "metadata": {
    "collapsed": true
   },
   "outputs": [],
   "source": [
    "performance_data = np.array([['','PP','NP','SS','ACCURACY','PRECISION','RECALL','TNR'],\n",
    "                             ['Training Set',PP_train,NP_train,SS_train,ACC_train,PPV_train,TPR_train,TNR_train],\n",
    "                             ['Test Set',PP_test,NP_test,SS_test,ACC_test,PPV_test,TPR_test,TNR_test]])"
   ]
  },
  {
   "cell_type": "code",
   "execution_count": 29,
   "metadata": {
    "collapsed": true
   },
   "outputs": [],
   "source": [
    "performance_table = pd.DataFrame(data=performance_data[1:,1:],\n",
    "                      index=performance_data[1:,0],\n",
    "                      columns=performance_data[0,1:])"
   ]
  },
  {
   "cell_type": "code",
   "execution_count": 30,
   "metadata": {},
   "outputs": [
    {
     "data": {
      "text/html": [
       "<div>\n",
       "<style>\n",
       "    .dataframe thead tr:only-child th {\n",
       "        text-align: right;\n",
       "    }\n",
       "\n",
       "    .dataframe thead th {\n",
       "        text-align: left;\n",
       "    }\n",
       "\n",
       "    .dataframe tbody tr th {\n",
       "        vertical-align: top;\n",
       "    }\n",
       "</style>\n",
       "<table border=\"1\" class=\"dataframe\">\n",
       "  <thead>\n",
       "    <tr style=\"text-align: right;\">\n",
       "      <th></th>\n",
       "      <th>PP</th>\n",
       "      <th>NP</th>\n",
       "      <th>SS</th>\n",
       "      <th>ACCURACY</th>\n",
       "      <th>PRECISION</th>\n",
       "      <th>RECALL</th>\n",
       "      <th>TNR</th>\n",
       "    </tr>\n",
       "  </thead>\n",
       "  <tbody>\n",
       "    <tr>\n",
       "      <th>Training Set</th>\n",
       "      <td>0.004</td>\n",
       "      <td>0.996</td>\n",
       "      <td>1412785</td>\n",
       "      <td>0.996</td>\n",
       "      <td>0.273</td>\n",
       "      <td>0.721</td>\n",
       "      <td>0.997</td>\n",
       "    </tr>\n",
       "    <tr>\n",
       "      <th>Test Set</th>\n",
       "      <td>0.004</td>\n",
       "      <td>0.996</td>\n",
       "      <td>156977</td>\n",
       "      <td>0.996</td>\n",
       "      <td>0.291</td>\n",
       "      <td>0.723</td>\n",
       "      <td>0.997</td>\n",
       "    </tr>\n",
       "  </tbody>\n",
       "</table>\n",
       "</div>"
      ],
      "text/plain": [
       "                 PP     NP       SS ACCURACY PRECISION RECALL    TNR\n",
       "Training Set  0.004  0.996  1412785    0.996     0.273  0.721  0.997\n",
       "Test Set      0.004  0.996   156977    0.996     0.291  0.723  0.997"
      ]
     },
     "execution_count": 30,
     "metadata": {},
     "output_type": "execute_result"
    }
   ],
   "source": [
    "\n",
    "performance_table"
   ]
  }
 ],
 "metadata": {
  "kernelspec": {
   "display_name": "Python 3",
   "language": "python",
   "name": "python3"
  },
  "language_info": {
   "codemirror_mode": {
    "name": "ipython",
    "version": 3
   },
   "file_extension": ".py",
   "mimetype": "text/x-python",
   "name": "python",
   "nbconvert_exporter": "python",
   "pygments_lexer": "ipython3",
   "version": "3.6.2"
  }
 },
 "nbformat": 4,
 "nbformat_minor": 2
}
