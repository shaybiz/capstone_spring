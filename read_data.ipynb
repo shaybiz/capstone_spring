{
 "cells": [
  {
   "cell_type": "code",
   "execution_count": 1,
   "metadata": {
    "collapsed": true
   },
   "outputs": [],
   "source": [
    "import pandas as pd"
   ]
  },
  {
   "cell_type": "code",
   "execution_count": 2,
   "metadata": {
    "collapsed": false
   },
   "outputs": [],
   "source": [
    "import re\n",
    "def instfile():\n",
    "    infile = open('format_out','r')\n",
    "    outfile = open('out.txt','w+')\n",
    "    outfile2 = open('out2.txt','w+')\n",
    "    ou3 = open('colname','w+')\n",
    "   \n",
    "    for lines in infile:\n",
    "        c1 = re.split('\\t',lines)[0].replace(\"-\",\",\")\n",
    "        x = int(re.split(',',c1)[0]) - 1 \n",
    "        x = str(x)\n",
    "        try:\n",
    "            y = re.split(',',c1)[1]\n",
    "        except IndexError:\n",
    "            y = int(re.split(',',c1)[0]) + 1\n",
    "            y = str(y)\n",
    "                \n",
    "        #print(x,y)\n",
    "        c2 = re.split('\\t',lines)[2]\n",
    "        outfile.write(x + \"\\n\")\n",
    "        outfile2.write(y + \"\\n\")\n",
    "        ou3.write(c2 + \"\\n\")\n",
    "    return x,y\n",
    "    #return c1, c2\n",
    "#[c1,c2]=instfile()\n",
    "[x,y]=instfile()\n",
    "infl = pd.read_table('VS10LKBC.PubilcUse.DUSDENOM','r',header=None)\n",
    "ofl1=pd.read_csv('out.txt','r',header=None)\n",
    "ofl2=pd.read_csv('out2.txt','r',header=None)\n",
    "ofl3=pd.read_csv('colname','r',header=None)\n",
    "\n",
    "\n"
   ]
  },
  {
   "cell_type": "code",
   "execution_count": 3,
   "metadata": {
    "collapsed": false
   },
   "outputs": [],
   "source": [
    "a={}\n",
    "for ind in range(len(ofl3.index)):\n",
    "    a[ofl3[0][ind]]=(infl.iloc[:,0].str.slice(ofl1.iat[ind,0],ofl2.iat[ind,0]))\n",
    "df=pd.DataFrame(a)\n",
    "#df.columns\n"
   ]
  },
  {
   "cell_type": "code",
   "execution_count": 53,
   "metadata": {
    "collapsed": false
   },
   "outputs": [
    {
     "data": {
      "text/plain": [
       "19852"
      ]
     },
     "execution_count": 53,
     "metadata": {},
     "output_type": "execute_result"
    }
   ],
   "source": [
    "len(df[df[' APGAR5R']=='5 '])"
   ]
  },
  {
   "cell_type": "code",
   "execution_count": 46,
   "metadata": {
    "collapsed": false
   },
   "outputs": [],
   "source": [
    "#df[' APGAR5R']"
   ]
  },
  {
   "cell_type": "code",
   "execution_count": null,
   "metadata": {
    "collapsed": true
   },
   "outputs": [],
   "source": []
  }
 ],
 "metadata": {
  "anaconda-cloud": {},
  "kernelspec": {
   "display_name": "Python [Root]",
   "language": "python",
   "name": "Python [Root]"
  },
  "language_info": {
   "codemirror_mode": {
    "name": "ipython",
    "version": 3
   },
   "file_extension": ".py",
   "mimetype": "text/x-python",
   "name": "python",
   "nbconvert_exporter": "python",
   "pygments_lexer": "ipython3",
   "version": "3.5.2"
  }
 },
 "nbformat": 4,
 "nbformat_minor": 0
}
