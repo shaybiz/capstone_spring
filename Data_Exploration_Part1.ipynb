{
 "cells": [
  {
   "cell_type": "markdown",
   "metadata": {},
   "source": [
    "# Exploratory Data Analysis\n"
   ]
  },
  {
   "cell_type": "markdown",
   "metadata": {},
   "source": [
    "This notebook discusses building data frames of the 2008 natality and mortality data, investigation of data missingness, and data exploration for trends, correlations, etc"
   ]
  },
  {
   "cell_type": "code",
   "execution_count": 1,
   "metadata": {
    "collapsed": true
   },
   "outputs": [],
   "source": [
    "import numpy as np\n",
    "import pandas as pd\n",
    "import os.path\n",
    "import matplotlib.pyplot as plt\n",
    "%matplotlib inline\n"
   ]
  },
  {
   "cell_type": "code",
   "execution_count": 2,
   "metadata": {
    "collapsed": true
   },
   "outputs": [],
   "source": [
    "import warnings\n",
    "warnings.filterwarnings('ignore')"
   ]
  },
  {
   "cell_type": "markdown",
   "metadata": {},
   "source": [
    "## Build a Data Frame:\n",
    "The following function builds a data frame using the attribute information (from the guide file) and the actual data. \n",
    "It has the capability of building a dictionary for multiple years if needed."
   ]
  },
  {
   "cell_type": "code",
   "execution_count": 3,
   "metadata": {
    "collapsed": false
   },
   "outputs": [
    {
     "name": "stdout",
     "output_type": "stream",
     "text": [
      "ReadingData/2008/LinkCO08USDen.dat\n"
     ]
    }
   ],
   "source": [
    "#sam_year = [1995,1996]\n",
    "def build_Datadict(yr):\n",
    "    fname = str(yr) + '/LinkCO' + str(yr)[2:4] + 'USDen.dat'\n",
    "    #path_name = os.path.abspath('ReadingData/' + str(yr) + fname)\n",
    "    path_name = os.path.join('ReadingData/',fname)\n",
    "    print(path_name)\n",
    "    infl = pd.read_table(path_name,'r',header=None)\n",
    "    ofl1=pd.read_csv('%s.out.txt' % yr,'r',header=None)\n",
    "    ofl2=pd.read_csv('%s.out2.txt' % yr,'r',header=None)\n",
    "    ofl3=pd.read_csv('%s.colname' % yr,'r',header=None)\n",
    "    a_name = 'a_{}'.format(yr) \n",
    "    a_name = {}\n",
    "    for ind in range(len(ofl3.index)):\n",
    "        a_name[ofl3[0][ind]]=(infl.iloc[:,0].str.slice(ofl1.iat[ind,0],ofl2.iat[ind,0]))\n",
    "    df = pd.DataFrame(a_name)\n",
    "    return df\n",
    "\n",
    "yrList = [2008]\n",
    "def Datadict_drive(yrList):\n",
    "    d={}\n",
    "    for yr in yrList:\n",
    "        d['%s' % yr] = build_Datadict(yr)\n",
    "    return d\n",
    "dd = Datadict_drive(yrList)"
   ]
  },
  {
   "cell_type": "markdown",
   "metadata": {},
   "source": [
    "## General Information"
   ]
  },
  {
   "cell_type": "markdown",
   "metadata": {},
   "source": [
    "Let's look at the dataset to have a sense of what the data looks like"
   ]
  },
  {
   "cell_type": "code",
   "execution_count": 4,
   "metadata": {
    "collapsed": false
   },
   "outputs": [
    {
     "data": {
      "text/html": [
       "<div>\n",
       "<table border=\"1\" class=\"dataframe\">\n",
       "  <thead>\n",
       "    <tr style=\"text-align: right;\">\n",
       "      <th></th>\n",
       "      <th>AB_ANTI</th>\n",
       "      <th>AB_AVEN1</th>\n",
       "      <th>AB_AVEN6</th>\n",
       "      <th>AB_BINJ</th>\n",
       "      <th>AB_NICU</th>\n",
       "      <th>AB_SEIZ</th>\n",
       "      <th>AB_SURF</th>\n",
       "      <th>AGED</th>\n",
       "      <th>AGER22</th>\n",
       "      <th>AGER5</th>\n",
       "      <th>...</th>\n",
       "      <th>UOP_INDUC</th>\n",
       "      <th>UOP_TOCOL</th>\n",
       "      <th>UPREVIS</th>\n",
       "      <th>URF_CHYPER</th>\n",
       "      <th>URF_DIAB</th>\n",
       "      <th>URF_ECLAM</th>\n",
       "      <th>URF_PHYPER</th>\n",
       "      <th>WEEKDAYD</th>\n",
       "      <th>WTGAIN</th>\n",
       "      <th>WTGAIN_REC</th>\n",
       "    </tr>\n",
       "  </thead>\n",
       "  <tbody>\n",
       "    <tr>\n",
       "      <th>4255183</th>\n",
       "      <td>N</td>\n",
       "      <td>N</td>\n",
       "      <td>N</td>\n",
       "      <td>N</td>\n",
       "      <td>N</td>\n",
       "      <td>N</td>\n",
       "      <td>N</td>\n",
       "      <td></td>\n",
       "      <td></td>\n",
       "      <td></td>\n",
       "      <td>...</td>\n",
       "      <td>2</td>\n",
       "      <td>2</td>\n",
       "      <td>12</td>\n",
       "      <td>2</td>\n",
       "      <td>2</td>\n",
       "      <td>2</td>\n",
       "      <td>2</td>\n",
       "      <td></td>\n",
       "      <td>00</td>\n",
       "      <td>1</td>\n",
       "    </tr>\n",
       "    <tr>\n",
       "      <th>4255184</th>\n",
       "      <td>N</td>\n",
       "      <td>N</td>\n",
       "      <td>N</td>\n",
       "      <td>N</td>\n",
       "      <td>N</td>\n",
       "      <td>N</td>\n",
       "      <td>N</td>\n",
       "      <td></td>\n",
       "      <td></td>\n",
       "      <td></td>\n",
       "      <td>...</td>\n",
       "      <td>2</td>\n",
       "      <td>2</td>\n",
       "      <td>12</td>\n",
       "      <td>2</td>\n",
       "      <td>2</td>\n",
       "      <td>2</td>\n",
       "      <td>2</td>\n",
       "      <td></td>\n",
       "      <td>10</td>\n",
       "      <td>1</td>\n",
       "    </tr>\n",
       "    <tr>\n",
       "      <th>4255185</th>\n",
       "      <td>N</td>\n",
       "      <td>N</td>\n",
       "      <td>N</td>\n",
       "      <td>N</td>\n",
       "      <td>N</td>\n",
       "      <td>N</td>\n",
       "      <td>N</td>\n",
       "      <td></td>\n",
       "      <td></td>\n",
       "      <td></td>\n",
       "      <td>...</td>\n",
       "      <td>2</td>\n",
       "      <td>2</td>\n",
       "      <td>12</td>\n",
       "      <td>2</td>\n",
       "      <td>2</td>\n",
       "      <td>2</td>\n",
       "      <td>2</td>\n",
       "      <td></td>\n",
       "      <td>10</td>\n",
       "      <td>1</td>\n",
       "    </tr>\n",
       "    <tr>\n",
       "      <th>4255186</th>\n",
       "      <td>N</td>\n",
       "      <td>N</td>\n",
       "      <td>N</td>\n",
       "      <td>N</td>\n",
       "      <td>N</td>\n",
       "      <td>N</td>\n",
       "      <td>N</td>\n",
       "      <td></td>\n",
       "      <td></td>\n",
       "      <td></td>\n",
       "      <td>...</td>\n",
       "      <td>2</td>\n",
       "      <td>2</td>\n",
       "      <td>11</td>\n",
       "      <td>2</td>\n",
       "      <td>2</td>\n",
       "      <td>2</td>\n",
       "      <td>2</td>\n",
       "      <td></td>\n",
       "      <td>37</td>\n",
       "      <td>6</td>\n",
       "    </tr>\n",
       "    <tr>\n",
       "      <th>4255187</th>\n",
       "      <td>N</td>\n",
       "      <td>N</td>\n",
       "      <td>N</td>\n",
       "      <td>N</td>\n",
       "      <td>N</td>\n",
       "      <td>N</td>\n",
       "      <td>N</td>\n",
       "      <td></td>\n",
       "      <td></td>\n",
       "      <td></td>\n",
       "      <td>...</td>\n",
       "      <td>2</td>\n",
       "      <td>2</td>\n",
       "      <td>10</td>\n",
       "      <td>2</td>\n",
       "      <td>2</td>\n",
       "      <td>2</td>\n",
       "      <td>2</td>\n",
       "      <td></td>\n",
       "      <td>50</td>\n",
       "      <td>8</td>\n",
       "    </tr>\n",
       "  </tbody>\n",
       "</table>\n",
       "<p>5 rows × 183 columns</p>\n",
       "</div>"
      ],
      "text/plain": [
       "        AB_ANTI AB_AVEN1 AB_AVEN6 AB_BINJ AB_NICU AB_SEIZ AB_SURF AGED AGER22  \\\n",
       "4255183       N        N        N       N       N       N       N               \n",
       "4255184       N        N        N       N       N       N       N               \n",
       "4255185       N        N        N       N       N       N       N               \n",
       "4255186       N        N        N       N       N       N       N               \n",
       "4255187       N        N        N       N       N       N       N               \n",
       "\n",
       "        AGER5    ...     UOP_INDUC UOP_TOCOL UPREVIS URF_CHYPER URF_DIAB  \\\n",
       "4255183          ...             2         2      12          2        2   \n",
       "4255184          ...             2         2      12          2        2   \n",
       "4255185          ...             2         2      12          2        2   \n",
       "4255186          ...             2         2      11          2        2   \n",
       "4255187          ...             2         2      10          2        2   \n",
       "\n",
       "        URF_ECLAM URF_PHYPER WEEKDAYD WTGAIN WTGAIN_REC  \n",
       "4255183         2          2              00          1  \n",
       "4255184         2          2              10          1  \n",
       "4255185         2          2              10          1  \n",
       "4255186         2          2              37          6  \n",
       "4255187         2          2              50          8  \n",
       "\n",
       "[5 rows x 183 columns]"
      ]
     },
     "execution_count": 4,
     "metadata": {},
     "output_type": "execute_result"
    }
   ],
   "source": [
    "data_2008 = dd['2008'] #If we have multiple years we can insert the relevant year instead of '2008'\n",
    "data_2008.tail(5)"
   ]
  },
  {
   "cell_type": "markdown",
   "metadata": {},
   "source": [
    "Have a look at the size of the data set (records/attributes)"
   ]
  },
  {
   "cell_type": "code",
   "execution_count": 5,
   "metadata": {
    "collapsed": false
   },
   "outputs": [
    {
     "data": {
      "text/plain": [
       "(4255188, 183)"
      ]
     },
     "execution_count": 5,
     "metadata": {},
     "output_type": "execute_result"
    }
   ],
   "source": [
    "data_2008.shape"
   ]
  },
  {
   "cell_type": "code",
   "execution_count": 6,
   "metadata": {
    "collapsed": false
   },
   "outputs": [
    {
     "name": "stdout",
     "output_type": "stream",
     "text": [
      "['AB_ANTI', 'AB_AVEN1', 'AB_AVEN6', 'AB_BINJ', 'AB_NICU', 'AB_SEIZ', 'AB_SURF', 'AGED', 'AGER22', 'AGER5', 'APGAR5', 'APGAR5R', 'ATTEND', 'AUTOPSY', 'BFACIL', 'BFACIL3', 'BRTHWGT', 'BWTIMP', 'BWTR14', 'BWTR4B', 'CA_ANEN', 'CA_CCHD', 'CA_CDH', 'CA_CLEFT', 'CA_CLPAL', 'CA_DISOR', 'CA_DOWN', 'CA_GAST', 'CA_HYPO', 'CA_LIMB', 'CA_MNSB', 'CA_OMPH', 'CIGS', 'CIG_1', 'CIG_2', 'CIG_3', 'CIG_REC', 'CNTOCFIPD', 'CNTRSPPD', 'CNTYRFPD', 'COMBGEST', 'DFPC_IMP', 'DISPO', 'DLLB_MM', 'DLLB_YY', 'DLMP_DD', 'DLMP_MM', 'DLMP_YY', 'DMETH_REC', 'DOB_MM', 'DOB_WK', 'DOB_YY', 'DOD_MM', 'DPLURAL', 'DRCNTY', 'DTHYR', 'EANUM', 'ENTITY', 'ESTGEST', 'FAGECOMB', 'FAGEREC11', 'FAGERPT_FLG', 'FBRACE', 'FILLER', 'FLGND', 'FLG_REV', 'FRACEHISP', 'FRACEREC', 'GESTREC10', 'GESTREC3', 'GEST_IMP', 'HOSPD', 'IMP_PLUR', 'IMP_SEX', 'LATEREC', 'LBO', 'LD_ANES', 'LD_ANTI', 'LD_AUGM', 'LD_CHOR', 'LD_FINT', 'LD_INDL', 'LD_MECS', 'LD_NVPR', 'LD_STER', 'MAGER', 'MAGER14', 'MAGER9', 'MAGE_IMPFLG', 'MAGE_REPFLG', 'MANNER', 'MAR', 'MAR_IMP', 'MBCNTRY', 'MBRACE', 'MEDUC', 'MEDUC_REC', 'ME_ATTF', 'ME_ATTV', 'ME_PRES', 'ME_ROUT', 'ME_TRIAL', 'MPCB', 'MPCB_REC5', 'MPCB_REC6', 'MRACE', 'MRACEHISP', 'MRACEIMP', 'MRACEREC', 'MRCNTY', 'MRTERR', 'OBGEST_FLG', 'OCNTYFIPS', 'OCNTYPOP', 'ON_PRECIP', 'ON_PROL', 'ON_RUPTR', 'OP_CERV', 'OP_ECVF', 'OP_ECVS', 'OP_TOCOL', 'OSTATE', 'PLACE', 'PRECARE', 'PRECARE_REC', 'PREVIS_REC', 'RANUM', 'RCNTY_POP', 'RDMETH_REC', 'RECORD', 'RECTYPE', 'RECWT', 'RESTATUS', 'REVISION', 'RF_CESAR', 'RF_CESARN', 'RF_DIAB', 'RF_ECLAM', 'RF_GEST', 'RF_GHYP', 'RF_PHYP', 'RF_PPOUTC', 'RF_PPTERM', 'SEQNUM', 'SEX', 'STOCCFIPD', 'STRESFIPD', 'TBO', 'TOBUSE', 'UBFACIL', 'UC0D', 'UCA_ANEN', 'UCA_CELFTLP', 'UCA_DOWNS', 'UCA_OMPHA', 'UCA_SPINA', 'UCIG_REC6', 'UCODR130', 'UDMETH_REC', 'UFAGECOMB', 'UFHISP', 'UFRACE', 'ULD_BREECH', 'ULD_MECO', 'ULD_PRECIP', 'UMEDUC', 'UME_FORCP', 'UME_PRIMC', 'UME_REPEC', 'UME_VAC', 'UME_VAG', 'UME_VBAC', 'UMHISP', 'UOP_INDUC', 'UOP_TOCOL', 'UPREVIS', 'URF_CHYPER', 'URF_DIAB', 'URF_ECLAM', 'URF_PHYPER', 'WEEKDAYD', 'WTGAIN', 'WTGAIN_REC']\n"
     ]
    }
   ],
   "source": [
    "attribute_list = list(data_2008.columns.str.strip()) #strip in case some of the column names have spaces around them.\n",
    "print(attribute_list)"
   ]
  },
  {
   "cell_type": "markdown",
   "metadata": {},
   "source": [
    "### Range of Data Values"
   ]
  },
  {
   "cell_type": "markdown",
   "metadata": {},
   "source": [
    "Now let's look at the range of data values for each attribute. To make it easy, build a dictionary of summary of all \n",
    "values in the data. "
   ]
  },
  {
   "cell_type": "code",
   "execution_count": 7,
   "metadata": {
    "collapsed": false
   },
   "outputs": [],
   "source": [
    "values_dict = {}\n",
    "for var in list(data_2008.columns):\n",
    "    values_dict[var] = data_2008['%s' % var].value_counts().sort_index().to_dict()"
   ]
  },
  {
   "cell_type": "markdown",
   "metadata": {},
   "source": [
    "Have a look at the first five attributes and their range of values"
   ]
  },
  {
   "cell_type": "code",
   "execution_count": 8,
   "metadata": {
    "collapsed": false
   },
   "outputs": [
    {
     "data": {
      "text/plain": [
       "{'AB_ANTI': {' ': 1493825, 'N': 2684457, 'U': 29304, 'Y': 47602},\n",
       " 'AB_AVEN1': {' ': 1493781, 'N': 2620105, 'U': 29304, 'Y': 111998},\n",
       " 'AB_AVEN6': {' ': 1493803, 'N': 2707933, 'U': 29304, 'Y': 24148},\n",
       " 'AB_BINJ': {' ': 1493847, 'N': 2730119, 'U': 29304, 'Y': 1918},\n",
       " 'AB_NICU': {' ': 1493803, 'N': 2549202, 'U': 29304, 'Y': 182879}}"
      ]
     },
     "execution_count": 8,
     "metadata": {},
     "output_type": "execute_result"
    }
   ],
   "source": [
    "first5 = {k: values_dict[k] for k in sorted(values_dict.keys())[:5]}\n",
    "first5"
   ]
  },
  {
   "cell_type": "markdown",
   "metadata": {},
   "source": [
    "### Range of Valid Data Values"
   ]
  },
  {
   "cell_type": "markdown",
   "metadata": {},
   "source": [
    "We have built a dictionary of attributes and their actual values. But we need to know the valid values before starting any analysis. Build a dictionary of valid values from the guide document (called tabula_2008). The following function builds all the attributes and possible valid values."
   ]
  },
  {
   "cell_type": "markdown",
   "metadata": {},
   "source": [
    "Let's see what the tabula file looks like"
   ]
  },
  {
   "cell_type": "code",
   "execution_count": 9,
   "metadata": {
    "collapsed": false
   },
   "outputs": [
    {
     "name": "stdout",
     "output_type": "stream",
     "text": [
      "1-6\t6\tFILLER\tFiller\t\t\r\n",
      "\n",
      "\"\"\t\t\t\t\t\r\n",
      "\n",
      "7\t1\tREVISION\tRevision\tU,R\tR State used the 2003 version of the US Standard Birth\r\n",
      "\n",
      "\"\"\t\t\t\t\tU,R U State used the 1989 version of the US Standard Birth\r\n",
      "\n",
      "\"\"\t\t\t\t\t\r\n",
      "\n",
      "8\t1\tFILLER\tFiller\t\t\r\n",
      "\n",
      "\"\"\t\t\t\t\t\r\n",
      "\n",
      "9\t1\tLATEREC\tLate Record Flag\tU,R\t0 Not late record\r\n",
      "\n",
      "\"\"\t\t\t\t\t1 Late record\r\n",
      "\n",
      "\"\"\t\t\t\t\t\r\n",
      "\n",
      "10-14\t5\tSEQNUM\tInfant Death Number\t\t00001-nnnnn This number uniquely identifies the same infant\t\r\n",
      "\n",
      "\"\"\t\t\t00001-nnnnn In the numerator and denominator-plus files.\t\t\r\n",
      "\n",
      "\"\"\t\t\t\t\t\r\n",
      "\n",
      "15-18\t4\tDOB_YY\tBirth Year\tU,R\t2006 2006\r\n",
      "\n",
      "\"\"\t\t\t\t\t2007 2007\r\n",
      "\n",
      "\"\"\t\t\t\t\t\r\n",
      "\n",
      "19-20\t2\tDOB_MM\tBirth Month\tU,R\t01 January\r\n",
      "\n",
      "\"\"\t\t\t\t\t02 February\r\n",
      "\n",
      "\"\"\t\t\t\t\t03 March\r\n",
      "\n",
      "\"\"\t\t\t\t\t04 April\r\n",
      "\n",
      "\"\"\t\t\t\t\t05 May\r\n",
      "\n",
      "\"\"\t\t\t\t\t06 June\r\n",
      "\n",
      "\"\"\t\t\t\t\t07 July\r\n",
      "\n",
      "\"\"\t\t\t\t\t08 August\r\n",
      "\n",
      "\"\"\t\t\t\t\t09 September\r\n",
      "\n"
     ]
    }
   ],
   "source": [
    "import codecs\n",
    "tab_08 = codecs.open('tabula_2008','r','utf-8')\n",
    "for i in range(25):\n",
    "    print(tab_08.readline())"
   ]
  },
  {
   "cell_type": "code",
   "execution_count": null,
   "metadata": {
    "collapsed": false
   },
   "outputs": [],
   "source": []
  },
  {
   "cell_type": "code",
   "execution_count": 10,
   "metadata": {
    "collapsed": false
   },
   "outputs": [],
   "source": [
    "import codecs\n",
    "import re\n",
    "def build_ValidValuesDict():\n",
    "    cols_in = codecs.open('tabula_2008','r','utf-8')\n",
    "    file_out=open('format_out','w+')\n",
    "    mydict = {}\n",
    "    last_att = None\n",
    "    num = []\n",
    "    count = 0\n",
    "    for line in cols_in:\n",
    "        if (len(line.split()) > 2):\n",
    "            if line.split()[0][0].isdigit():\n",
    "                if (not line.split()[2].isdigit()):\n",
    "                    last_att = (line.split()[2])\n",
    "                    #print(last_att)\n",
    "                try:\n",
    "                    a = line.split().index(r'R') \n",
    "                    num.append(line.split()[a+1].strip())\n",
    "                except:\n",
    "                    pass\n",
    "                try:\n",
    "                    a = line.split().index(r'U') \n",
    "                    num.append(line.split()[a+1].strip())\n",
    "                except:\n",
    "                    pass\n",
    "                try:\n",
    "                    a = line.split().index(r'U,R') \n",
    "                    num.append(line.split()[a+1].strip())\n",
    "                except:\n",
    "                    pass   \n",
    "                try:\n",
    "                    a = line.split().index(r'R**') \n",
    "                    num.append(line.split()[a+1].strip())\n",
    "                except:\n",
    "                    pass\n",
    "                try:\n",
    "                    a = line.split().index(r'Unrevised') \n",
    "                    num.append(line.split()[a+1].strip())\n",
    "                except:\n",
    "                    pass\n",
    "                \n",
    "            elif (not line.split()[0][0].isdigit()):   \n",
    "                if (line.split()[1].isdigit() or \"Blank\" in line.split()[1] or \"Y\" is line.split()[1]) \\\n",
    "                or \"N\" is line.split()[1] or \"U\" is line.split()[1]:\n",
    "                    \n",
    "                    if (len(line.split()) > 3):\n",
    "                       \n",
    "                        if not line.split()[3].isupper():\n",
    "                            #print(line)\n",
    "                            num.append(line.split()[1].strip())\n",
    "                        if line.split()[3].isupper():\n",
    "                            last_att = (line.split()[3])\n",
    "                            num.extend(['Y','N','U','Blank'])\n",
    "                            mydict.update({last_att:num})\n",
    "            #print(mydict)\n",
    "                            num = []\n",
    "                            #print(last_att)\n",
    "                            #continue\n",
    "                    else:\n",
    "                        num.append(line.split()[1].strip())\n",
    "        else:\n",
    "            count += 1\n",
    "            mydict.update({last_att:num})\n",
    "            #print(mydict)\n",
    "            num = []\n",
    "    return mydict"
   ]
  },
  {
   "cell_type": "code",
   "execution_count": 11,
   "metadata": {
    "collapsed": false
   },
   "outputs": [],
   "source": [
    "valid_values=build_ValidValuesDict()\n",
    "#build_ValidValuesDict()\n",
    "#list(valid_values.keys())"
   ]
  },
  {
   "cell_type": "markdown",
   "metadata": {},
   "source": [
    "Now we have built a dictionary of valid values and actual values, lets take an example and compare them"
   ]
  },
  {
   "cell_type": "code",
   "execution_count": 15,
   "metadata": {
    "collapsed": false
   },
   "outputs": [
    {
     "data": {
      "text/plain": [
       "['00', '09', '10', '11', '12', '13', '14', '15', '16', '17', '99', 'Blank']"
      ]
     },
     "execution_count": 15,
     "metadata": {},
     "output_type": "execute_result"
    }
   ],
   "source": [
    "valid_values['UMEDUC']"
   ]
  },
  {
   "cell_type": "code",
   "execution_count": 16,
   "metadata": {
    "collapsed": false
   },
   "outputs": [
    {
     "data": {
      "text/plain": [
       "{'  ': 2761429,\n",
       " '00': 2964,\n",
       " '01': 1124,\n",
       " '02': 2196,\n",
       " '03': 3509,\n",
       " '04': 3100,\n",
       " '05': 3543,\n",
       " '06': 24884,\n",
       " '07': 6017,\n",
       " '08': 22057,\n",
       " '09': 54689,\n",
       " '10': 58166,\n",
       " '11': 83307,\n",
       " '12': 443153,\n",
       " '13': 109097,\n",
       " '14': 165009,\n",
       " '15': 53167,\n",
       " '16': 262479,\n",
       " '17': 181262,\n",
       " '2 ': 1,\n",
       " '3 ': 2,\n",
       " '4 ': 2,\n",
       " '5 ': 6,\n",
       " '99': 14025}"
      ]
     },
     "execution_count": 16,
     "metadata": {},
     "output_type": "execute_result"
    }
   ],
   "source": [
    "values_dict['UMEDUC']"
   ]
  },
  {
   "cell_type": "markdown",
   "metadata": {
    "collapsed": false
   },
   "source": [
    "Create a dictionary that stores the difference between the actual values and valid values to come up with a list of invalid values"
   ]
  },
  {
   "cell_type": "code",
   "execution_count": 18,
   "metadata": {
    "collapsed": false
   },
   "outputs": [],
   "source": [
    "attSet = {}\n",
    "for k in attribute_list:\n",
    "    att_name = '%s' % k\n",
    "    attSet.update({k:(set((data_2008['%s' % k].values.all())) - set(valid_values['%s' % k]))})"
   ]
  },
  {
   "cell_type": "markdown",
   "metadata": {},
   "source": [
    "A comparison of the values will give us information about missing (invalid) data. This leads us to our next big topic, \n",
    "missingness."
   ]
  },
  {
   "cell_type": "markdown",
   "metadata": {},
   "source": [
    "## Data Missingness"
   ]
  },
  {
   "cell_type": "markdown",
   "metadata": {},
   "source": [
    "A preliminary data exploration shows missing data icluding empty strings, unknown values, and invalid values. The amount and type of missing data from data exploration is summarized in a file called 'exploration_2008.txt'. Following is a series of bar chart of all the attributes."
   ]
  },
  {
   "cell_type": "code",
   "execution_count": 19,
   "metadata": {
    "collapsed": false
   },
   "outputs": [
    {
     "data": {
      "text/html": [
       "<div>\n",
       "<table border=\"1\" class=\"dataframe\">\n",
       "  <thead>\n",
       "    <tr style=\"text-align: right;\">\n",
       "      <th></th>\n",
       "      <th>Column</th>\n",
       "      <th>Type</th>\n",
       "      <th>Invalid</th>\n",
       "      <th>Empty</th>\n",
       "      <th>EmptyWithMean</th>\n",
       "      <th>Not_Stated</th>\n",
       "      <th>unknown</th>\n",
       "      <th>Missing_Data</th>\n",
       "      <th>NotApplicable</th>\n",
       "      <th>Total</th>\n",
       "      <th>Revision</th>\n",
       "    </tr>\n",
       "  </thead>\n",
       "  <tbody>\n",
       "    <tr>\n",
       "      <th>0</th>\n",
       "      <td>DOB_YY</td>\n",
       "      <td>nominal</td>\n",
       "      <td>66</td>\n",
       "      <td>33</td>\n",
       "      <td>0</td>\n",
       "      <td>0</td>\n",
       "      <td>0</td>\n",
       "      <td>99</td>\n",
       "      <td>0</td>\n",
       "      <td>4255188</td>\n",
       "      <td>UR</td>\n",
       "    </tr>\n",
       "    <tr>\n",
       "      <th>1</th>\n",
       "      <td>DOB_MM</td>\n",
       "      <td>nominal</td>\n",
       "      <td>0</td>\n",
       "      <td>99</td>\n",
       "      <td>0</td>\n",
       "      <td>0</td>\n",
       "      <td>0</td>\n",
       "      <td>99</td>\n",
       "      <td>0</td>\n",
       "      <td>4255188</td>\n",
       "      <td>UR</td>\n",
       "    </tr>\n",
       "    <tr>\n",
       "      <th>2</th>\n",
       "      <td>DOB_WK</td>\n",
       "      <td>nominal</td>\n",
       "      <td>0</td>\n",
       "      <td>99</td>\n",
       "      <td>0</td>\n",
       "      <td>0</td>\n",
       "      <td>0</td>\n",
       "      <td>99</td>\n",
       "      <td>0</td>\n",
       "      <td>4255188</td>\n",
       "      <td>UR</td>\n",
       "    </tr>\n",
       "    <tr>\n",
       "      <th>3</th>\n",
       "      <td>OSTATE</td>\n",
       "      <td>nominal</td>\n",
       "      <td>0</td>\n",
       "      <td>4255188</td>\n",
       "      <td>0</td>\n",
       "      <td>0</td>\n",
       "      <td>0</td>\n",
       "      <td>4255188</td>\n",
       "      <td>0</td>\n",
       "      <td>4255188</td>\n",
       "      <td>UR</td>\n",
       "    </tr>\n",
       "    <tr>\n",
       "      <th>4</th>\n",
       "      <td>OCNTYFIPS</td>\n",
       "      <td>nominal</td>\n",
       "      <td>55</td>\n",
       "      <td>4255133</td>\n",
       "      <td>0</td>\n",
       "      <td>0</td>\n",
       "      <td>0</td>\n",
       "      <td>4255188</td>\n",
       "      <td>0</td>\n",
       "      <td>4255188</td>\n",
       "      <td>UR</td>\n",
       "    </tr>\n",
       "  </tbody>\n",
       "</table>\n",
       "</div>"
      ],
      "text/plain": [
       "      Column     Type  Invalid    Empty  EmptyWithMean  Not_Stated  unknown  \\\n",
       "0     DOB_YY  nominal       66       33              0           0        0   \n",
       "1     DOB_MM  nominal        0       99              0           0        0   \n",
       "2     DOB_WK  nominal        0       99              0           0        0   \n",
       "3     OSTATE  nominal        0  4255188              0           0        0   \n",
       "4  OCNTYFIPS  nominal       55  4255133              0           0        0   \n",
       "\n",
       "   Missing_Data  NotApplicable    Total Revision  \n",
       "0            99              0  4255188       UR  \n",
       "1            99              0  4255188       UR  \n",
       "2            99              0  4255188       UR  \n",
       "3       4255188              0  4255188       UR  \n",
       "4       4255188              0  4255188       UR  "
      ]
     },
     "execution_count": 19,
     "metadata": {},
     "output_type": "execute_result"
    }
   ],
   "source": [
    "data_completeness = pd.read_csv('exploration_2008.txt',delim_whitespace=True)\n",
    "data_completeness.head()"
   ]
  },
  {
   "cell_type": "code",
   "execution_count": null,
   "metadata": {
    "collapsed": true
   },
   "outputs": [],
   "source": []
  },
  {
   "cell_type": "markdown",
   "metadata": {},
   "source": [
    "Plot bar chart to see the ratio of valid versus missing data. Group by similar attributes for easy viewing\n",
    "check_missingData(r1,r2) where r1, r2 are for attributes related to infant birth place, time, facility\n",
    "- (0,9) for attributes related to infant birth place, time, facility\n",
    "- (10,31) for attributes related to mother's age, race, hispanic origin, marital status, and education\n",
    "- (31,40) for attributes related to father's age, race, and hispanic origin\n",
    "- (40,44) for attributes related to live birth history\n",
    "- (44,54) for attributes related to prenatal care visits and weight gain history\n",
    "- (54,61) for attributes related to cigarete and tobacco use\n",
    "- (61,74) for attributes related to risk factors such as diabetes, hypertenstion, previous c-deiliveries\n",
    "- (74,80) for attributes related to obstetric procedures\n",
    "- (80,95) for attributes related to onset and characteristics of labor, and method of delivery\n",
    "- (95,110) for attributes related to method of delivery\n",
    "- (110,116) for attributes related to apgar score, plurality, and sex\n",
    "- (116,129) for attributes related to birthweight and gestation\n",
    "- (129,136) for attributes related to abnormal conditions of newborn including ventilation, admission to NICU, seizure and birth injury\n",
    "- (136,155) for attributes related to congenital conditions of newborn including Anencephaly, Downs Syndrome\n",
    "- (136,155) for attributes related to congenital conditions of newborn including Anencephaly, Downs Syndrome\n",
    "-  (155,164) infant cause of death, deposition, Autopsy"
   ]
  },
  {
   "cell_type": "code",
   "execution_count": 20,
   "metadata": {
    "collapsed": false
   },
   "outputs": [],
   "source": [
    "data_completeness = pd.read_csv('exploration_2008.txt',delim_whitespace=True)\n",
    "from matplotlib.font_manager import FontProperties\n",
    "def check_missingData(r1,r2):\n",
    "    attributes_info=data_completeness[['Total','Missing_Data']][r1:r2]\n",
    "    attributes_info['Valid_Data'] = attributes_info.Total - attributes_info.Missing_Data\n",
    "    attributes_info_toplot = attributes_info[['Valid_Data','Missing_Data']]\n",
    "    normed_toplot = attributes_info_toplot.div(attributes_info_toplot.sum(1), axis=0)\n",
    "    ax=normed_toplot.plot(kind='barh', stacked=True)\n",
    "    ax.set_yticklabels(data_completeness.Column[r1:r2])\n",
    "    ax.set_xlabel('percentage')\n",
    "    ax.set_title('Missing vs Valid data')\n",
    "    ax.legend(loc='upper center', bbox_to_anchor=(0.5, -0.15),\n",
    "          ncol=3, fancybox=True, shadow=True)\n",
    "    plt.show()\n",
    "\n",
    "   "
   ]
  },
  {
   "cell_type": "code",
   "execution_count": 21,
   "metadata": {
    "collapsed": false
   },
   "outputs": [
    {
     "data": {
      "image/png": "[encoded data removed]",
      "text/plain": [
       "<matplotlib.figure.Figure at 0x113fe2c50>"
      ]
     },
     "metadata": {},
     "output_type": "display_data"
    }
   ],
   "source": [
    "#Missing vs valid data for attributes related to infant birth place, time, facility\n",
    "check_missingData(0,9)"
   ]
  },
  {
   "cell_type": "markdown",
   "metadata": {},
   "source": [
    "# Look if reason behind missing data is systemic (not random) "
   ]
  },
  {
   "cell_type": "markdown",
   "metadata": {},
   "source": [
    "The attributes OCNTYPOP, OCNTYFIPS,OSTATE do not have valid data as the CDC excluded those attributes in the \n",
    "publicly available raw data.The attribute BFACIL (Birth of place) has missing values because it was added in the 2003\n",
    "revised version of the US Standard Certificate of Live Birth and Certificate of Death. Many states still used the 1989\n",
    "US Standard Certificate of Live Birth and Certificate of Death (UBFACIL). BFACIL has additional options of home (intended), home (unintended), and home (unknown)."
   ]
  },
  {
   "cell_type": "code",
   "execution_count": 22,
   "metadata": {
    "collapsed": false
   },
   "outputs": [
    {
     "data": {
      "text/plain": [
       "0     \n",
       "1     \n",
       "2     \n",
       "3     \n",
       "4     \n",
       "Name: OCNTYPOP, dtype: object"
      ]
     },
     "execution_count": 22,
     "metadata": {},
     "output_type": "execute_result"
    }
   ],
   "source": [
    "data_2008['OCNTYPOP'].head()"
   ]
  },
  {
   "cell_type": "markdown",
   "metadata": {},
   "source": [
    "Write a function that takes a list of attributes with 100% missing data and removes them from the data set"
   ]
  },
  {
   "cell_type": "code",
   "execution_count": 23,
   "metadata": {
    "collapsed": false
   },
   "outputs": [],
   "source": [
    "def rem_zeroDataAtt(my_df,mylist):\n",
    "    for ZeroDataAtt in mylist:\n",
    "        try:\n",
    "            my_df = my_df.drop(['%s' % ZeroDataAtt],1)\n",
    "        except:\n",
    "                pass\n",
    "    return my_df"
   ]
  },
  {
   "cell_type": "code",
   "execution_count": 24,
   "metadata": {
    "collapsed": false
   },
   "outputs": [],
   "source": [
    "mylist = ['OCNTYPOP', 'OCNTYFIPS','OSTATE']\n",
    "new_aa = rem_zeroDataAtt(data_2008,mylist)"
   ]
  },
  {
   "cell_type": "markdown",
   "metadata": {},
   "source": [
    "Check the dimension of the data after removing the three columns"
   ]
  },
  {
   "cell_type": "code",
   "execution_count": 25,
   "metadata": {
    "collapsed": false
   },
   "outputs": [
    {
     "data": {
      "text/plain": [
       "(4255188, 180)"
      ]
     },
     "execution_count": 25,
     "metadata": {},
     "output_type": "execute_result"
    }
   ],
   "source": [
    "new_aa.shape"
   ]
  },
  {
   "cell_type": "code",
   "execution_count": 26,
   "metadata": {
    "collapsed": false
   },
   "outputs": [
    {
     "data": {
      "image/png": "[encoded data removed]",
      "text/plain": [
       "<matplotlib.figure.Figure at 0x11979f6a0>"
      ]
     },
     "metadata": {},
     "output_type": "display_data"
    }
   ],
   "source": [
    "#Missing vs valid data for attributes related to mother's age, race, hispanic origin, marital status, and education\n",
    "check_missingData(10,31)"
   ]
  },
  {
   "cell_type": "markdown",
   "metadata": {},
   "source": [
    "The attributes RCNTY_POP (Mother's county of residence population), MRCNTY (Mother's county of residence),MRTERR (Mother's residence), and MBCNTRY (Mother's birth country) do not have valid data as the CDC excluded those attributes in the publicly available raw data. Remove these columns from the dataframe."
   ]
  },
  {
   "cell_type": "code",
   "execution_count": 27,
   "metadata": {
    "collapsed": false
   },
   "outputs": [],
   "source": [
    "mylist = ['RCNTY_POP', 'MRCNTY','MBCNTRY', 'MRTERR']\n",
    "new_aa = rem_zeroDataAtt(new_aa,mylist)"
   ]
  },
  {
   "cell_type": "markdown",
   "metadata": {},
   "source": [
    "The attributes MEDUC_REC, UMEDUC, MEDUC, MRACE, MBRACE have a substantial amount of data missing. Look if there is any \n",
    "pattern. Those source of the data comes from states that use unrevised (U), revised (R), or combination of both (UR). \n",
    "Look if that could be the reason for the missing data."
   ]
  },
  {
   "cell_type": "markdown",
   "metadata": {},
   "source": [
    "Add a column of \"Revision\" to 'exploration_2008.txt' and load it"
   ]
  },
  {
   "cell_type": "code",
   "execution_count": 28,
   "metadata": {
    "collapsed": false
   },
   "outputs": [
    {
     "data": {
      "text/html": [
       "<div>\n",
       "<table border=\"1\" class=\"dataframe\">\n",
       "  <thead>\n",
       "    <tr style=\"text-align: right;\">\n",
       "      <th></th>\n",
       "      <th>Column</th>\n",
       "      <th>Type</th>\n",
       "      <th>Invalid</th>\n",
       "      <th>Empty</th>\n",
       "      <th>EmptyWithMean</th>\n",
       "      <th>Not_Stated</th>\n",
       "      <th>unknown</th>\n",
       "      <th>Missing_Data</th>\n",
       "      <th>NotApplicable</th>\n",
       "      <th>Total</th>\n",
       "      <th>Revision</th>\n",
       "    </tr>\n",
       "  </thead>\n",
       "  <tbody>\n",
       "    <tr>\n",
       "      <th>0</th>\n",
       "      <td>DOB_YY</td>\n",
       "      <td>nominal</td>\n",
       "      <td>66</td>\n",
       "      <td>33</td>\n",
       "      <td>0</td>\n",
       "      <td>0</td>\n",
       "      <td>0</td>\n",
       "      <td>99</td>\n",
       "      <td>0</td>\n",
       "      <td>4255188</td>\n",
       "      <td>UR</td>\n",
       "    </tr>\n",
       "    <tr>\n",
       "      <th>1</th>\n",
       "      <td>DOB_MM</td>\n",
       "      <td>nominal</td>\n",
       "      <td>0</td>\n",
       "      <td>99</td>\n",
       "      <td>0</td>\n",
       "      <td>0</td>\n",
       "      <td>0</td>\n",
       "      <td>99</td>\n",
       "      <td>0</td>\n",
       "      <td>4255188</td>\n",
       "      <td>UR</td>\n",
       "    </tr>\n",
       "    <tr>\n",
       "      <th>2</th>\n",
       "      <td>DOB_WK</td>\n",
       "      <td>nominal</td>\n",
       "      <td>0</td>\n",
       "      <td>99</td>\n",
       "      <td>0</td>\n",
       "      <td>0</td>\n",
       "      <td>0</td>\n",
       "      <td>99</td>\n",
       "      <td>0</td>\n",
       "      <td>4255188</td>\n",
       "      <td>UR</td>\n",
       "    </tr>\n",
       "    <tr>\n",
       "      <th>3</th>\n",
       "      <td>OSTATE</td>\n",
       "      <td>nominal</td>\n",
       "      <td>0</td>\n",
       "      <td>4255188</td>\n",
       "      <td>0</td>\n",
       "      <td>0</td>\n",
       "      <td>0</td>\n",
       "      <td>4255188</td>\n",
       "      <td>0</td>\n",
       "      <td>4255188</td>\n",
       "      <td>UR</td>\n",
       "    </tr>\n",
       "    <tr>\n",
       "      <th>4</th>\n",
       "      <td>OCNTYFIPS</td>\n",
       "      <td>nominal</td>\n",
       "      <td>55</td>\n",
       "      <td>4255133</td>\n",
       "      <td>0</td>\n",
       "      <td>0</td>\n",
       "      <td>0</td>\n",
       "      <td>4255188</td>\n",
       "      <td>0</td>\n",
       "      <td>4255188</td>\n",
       "      <td>UR</td>\n",
       "    </tr>\n",
       "  </tbody>\n",
       "</table>\n",
       "</div>"
      ],
      "text/plain": [
       "      Column     Type  Invalid    Empty  EmptyWithMean  Not_Stated  unknown  \\\n",
       "0     DOB_YY  nominal       66       33              0           0        0   \n",
       "1     DOB_MM  nominal        0       99              0           0        0   \n",
       "2     DOB_WK  nominal        0       99              0           0        0   \n",
       "3     OSTATE  nominal        0  4255188              0           0        0   \n",
       "4  OCNTYFIPS  nominal       55  4255133              0           0        0   \n",
       "\n",
       "   Missing_Data  NotApplicable    Total Revision  \n",
       "0            99              0  4255188       UR  \n",
       "1            99              0  4255188       UR  \n",
       "2            99              0  4255188       UR  \n",
       "3       4255188              0  4255188       UR  \n",
       "4       4255188              0  4255188       UR  "
      ]
     },
     "execution_count": 28,
     "metadata": {},
     "output_type": "execute_result"
    }
   ],
   "source": [
    "data_completeness_new = pd.read_csv('exploration_2008.txt',delim_whitespace=True)\n",
    "data_completeness_new.head()"
   ]
  },
  {
   "cell_type": "code",
   "execution_count": 29,
   "metadata": {
    "collapsed": false
   },
   "outputs": [
    {
     "data": {
      "text/plain": [
       "(72, 11)"
      ]
     },
     "execution_count": 29,
     "metadata": {},
     "output_type": "execute_result"
    }
   ],
   "source": [
    "data_completeness = data_completeness_new[data_completeness_new.Revision=='UR']\n",
    "data_completeness.shape\n",
    "#check_missingData(1,25)"
   ]
  },
  {
   "cell_type": "code",
   "execution_count": 30,
   "metadata": {
    "collapsed": false
   },
   "outputs": [
    {
     "data": {
      "text/plain": [
       "(66, 11)"
      ]
     },
     "execution_count": 30,
     "metadata": {},
     "output_type": "execute_result"
    }
   ],
   "source": [
    "\n",
    "#data_completeness = data_completeness_new.drop(data_completeness_new.index[['OCNTYPOP', 'OCNTYFIPS','OSTATE']])\n",
    "data_completeness = data_completeness.set_index(['Column'])\n",
    "data_completeness = data_completeness.loc[~ data_completeness.index.isin(['OCNTYPOP', 'OCNTYFIPS','OSTATE','RCNTY_POP', 'MRCNTY','MBCNTRY', 'MRTERR'])]\n",
    "data_completeness = data_completeness.reset_index()\n",
    "data_completeness.shape"
   ]
  },
  {
   "cell_type": "markdown",
   "metadata": {},
   "source": [
    "Plot attributes which are in both the revised and unrevised version of the live birth certificate"
   ]
  },
  {
   "cell_type": "code",
   "execution_count": 31,
   "metadata": {
    "collapsed": false
   },
   "outputs": [
    {
     "data": {
      "image/png": "[encoded data removed]",
      "text/plain": [
       "<matplotlib.figure.Figure at 0x11737bdd8>"
      ]
     },
     "metadata": {},
     "output_type": "display_data"
    }
   ],
   "source": [
    "check_missingData(1,22)"
   ]
  },
  {
   "cell_type": "code",
   "execution_count": 32,
   "metadata": {
    "collapsed": false
   },
   "outputs": [
    {
     "data": {
      "image/png": "[encoded data removed]",
      "text/plain": [
       "<matplotlib.figure.Figure at 0x119c98668>"
      ]
     },
     "metadata": {},
     "output_type": "display_data"
    }
   ],
   "source": [
    "check_missingData(23,46)"
   ]
  },
  {
   "cell_type": "code",
   "execution_count": 33,
   "metadata": {
    "collapsed": false
   },
   "outputs": [
    {
     "data": {
      "image/png": "[encoded data removed]",
      "text/plain": [
       "<matplotlib.figure.Figure at 0x119c82940>"
      ]
     },
     "metadata": {},
     "output_type": "display_data"
    }
   ],
   "source": [
    "check_missingData(47,66)"
   ]
  },
  {
   "cell_type": "markdown",
   "metadata": {},
   "source": [
    "The plots show, attributes that appear in both the revised and unrevised certificate (revision code UR), have near complete data with little missing values."
   ]
  },
  {
   "cell_type": "markdown",
   "metadata": {},
   "source": [
    "Now, let's look at the attributes which appear in the unrevised certificate version only"
   ]
  },
  {
   "cell_type": "code",
   "execution_count": 34,
   "metadata": {
    "collapsed": false
   },
   "outputs": [
    {
     "data": {
      "text/plain": [
       "(16, 11)"
      ]
     },
     "execution_count": 34,
     "metadata": {},
     "output_type": "execute_result"
    }
   ],
   "source": [
    "data_completeness = data_completeness_new[data_completeness_new.Revision=='U']\n",
    "data_completeness.shape"
   ]
  },
  {
   "cell_type": "code",
   "execution_count": 35,
   "metadata": {
    "collapsed": false
   },
   "outputs": [
    {
     "data": {
      "image/png": "[encoded data removed]",
      "text/plain": [
       "<matplotlib.figure.Figure at 0x11731e470>"
      ]
     },
     "metadata": {},
     "output_type": "display_data"
    }
   ],
   "source": [
    "#Missing vs valid data for attributes related to father's age, race, and hispanic origin\n",
    "check_missingData(1,16)"
   ]
  },
  {
   "cell_type": "markdown",
   "metadata": {},
   "source": [
    "The plots show more than 60% of data is missing for attributes that appear in the unrevised version only"
   ]
  },
  {
   "cell_type": "markdown",
   "metadata": {},
   "source": [
    "Now, lets look at the attributes that appear in the revised verstion (Revision R) only"
   ]
  },
  {
   "cell_type": "code",
   "execution_count": 36,
   "metadata": {
    "collapsed": false
   },
   "outputs": [
    {
     "data": {
      "text/plain": [
       "(65, 11)"
      ]
     },
     "execution_count": 36,
     "metadata": {},
     "output_type": "execute_result"
    }
   ],
   "source": [
    "data_completeness = data_completeness_new[data_completeness_new.Revision=='R']\n",
    "data_completeness.shape"
   ]
  },
  {
   "cell_type": "code",
   "execution_count": 37,
   "metadata": {
    "collapsed": false
   },
   "outputs": [
    {
     "data": {
      "image/png": "[encoded data removed]",
      "text/plain": [
       "<matplotlib.figure.Figure at 0x11733e3c8>"
      ]
     },
     "metadata": {},
     "output_type": "display_data"
    }
   ],
   "source": [
    "#Missing vs valid data for attributes related to live birth history\n",
    "check_missingData(1,22)"
   ]
  },
  {
   "cell_type": "code",
   "execution_count": 38,
   "metadata": {
    "collapsed": false
   },
   "outputs": [
    {
     "data": {
      "image/png": "[encoded data removed]",
      "text/plain": [
       "<matplotlib.figure.Figure at 0x1197b1630>"
      ]
     },
     "metadata": {},
     "output_type": "display_data"
    }
   ],
   "source": [
    "#Missing vs valid data for attributes related to prenatal care visits and weight gain history\n",
    "check_missingData(23,44)"
   ]
  },
  {
   "cell_type": "code",
   "execution_count": 39,
   "metadata": {
    "collapsed": false
   },
   "outputs": [
    {
     "data": {
      "image/png": "[encoded data removed]",
      "text/plain": [
       "<matplotlib.figure.Figure at 0x120801ba8>"
      ]
     },
     "metadata": {},
     "output_type": "display_data"
    }
   ],
   "source": [
    "#Missing vs valid data for attributes related to cigarete and tobacco use\n",
    "check_missingData(45,65)"
   ]
  },
  {
   "cell_type": "markdown",
   "metadata": {},
   "source": [
    "The plots show more than 30% of data is missing for most of the attributes that appear in the revised version"
   ]
  },
  {
   "cell_type": "code",
   "execution_count": 40,
   "metadata": {
    "collapsed": false
   },
   "outputs": [],
   "source": [
    "Unrevised_list =list(data_completeness_new[data_completeness_new.Revision=='U'].Column)\n",
    "#Unrevised_list\n",
    "#mylist = ['RCNTY_POP', 'MRCNTY','MBCNTRY', 'MRTERR']\n",
    "#new_aa = rem_zeroDataAtt(new_aa,mylist)"
   ]
  },
  {
   "cell_type": "code",
   "execution_count": 41,
   "metadata": {
    "collapsed": false
   },
   "outputs": [
    {
     "data": {
      "text/plain": [
       "(4255188, 176)"
      ]
     },
     "execution_count": 41,
     "metadata": {},
     "output_type": "execute_result"
    }
   ],
   "source": [
    "new_aa.shape"
   ]
  },
  {
   "cell_type": "code",
   "execution_count": 42,
   "metadata": {
    "collapsed": false
   },
   "outputs": [],
   "source": [
    "new_aa = rem_zeroDataAtt(new_aa,Unrevised_list)"
   ]
  },
  {
   "cell_type": "code",
   "execution_count": 43,
   "metadata": {
    "collapsed": false
   },
   "outputs": [
    {
     "data": {
      "text/plain": [
       "(4255188, 160)"
      ]
     },
     "execution_count": 43,
     "metadata": {},
     "output_type": "execute_result"
    }
   ],
   "source": [
    "new_aa.shape"
   ]
  },
  {
   "cell_type": "markdown",
   "metadata": {},
   "source": [
    "Exclude rows which do not contain the revised attributes"
   ]
  },
  {
   "cell_type": "code",
   "execution_count": 44,
   "metadata": {
    "collapsed": false
   },
   "outputs": [],
   "source": [
    "final_2008 = new_aa[new_aa['FLG_REV'] == '1']"
   ]
  },
  {
   "cell_type": "code",
   "execution_count": 45,
   "metadata": {
    "collapsed": false
   },
   "outputs": [
    {
     "data": {
      "text/plain": [
       "(2748339, 160)"
      ]
     },
     "execution_count": 45,
     "metadata": {},
     "output_type": "execute_result"
    }
   ],
   "source": [
    "final_2008.shape"
   ]
  },
  {
   "cell_type": "markdown",
   "metadata": {},
   "source": [
    "Save the final data set which only needs minor cleaning to pickle data. From now on, just work with this dataset instead of loading the whole dataset which requires a lot of time"
   ]
  },
  {
   "cell_type": "code",
   "execution_count": 47,
   "metadata": {
    "collapsed": false
   },
   "outputs": [],
   "source": [
    "final_2008.to_pickle('Data_forAnalysis')"
   ]
  },
  {
   "cell_type": "markdown",
   "metadata": {},
   "source": [
    "Now, we have an almost complete data set with few missing values, lets replace missing data with appropriate values"
   ]
  },
  {
   "cell_type": "markdown",
   "metadata": {},
   "source": [
    "Year of Birth should be 2008. The data contains 62 ivalid values (like 0807,0810). Replace these values with 2008 as the data deals with 2008 natality only"
   ]
  },
  {
   "cell_type": "code",
   "execution_count": 294,
   "metadata": {
    "collapsed": false
   },
   "outputs": [],
   "source": [
    "final_2008.loc[final_2008['DOB_YY'] != '2008','DOB_YY'] = '2008'\n",
    "#final_2008['DOB_YY'].count_values()\n",
    "#final_2008[final_2008['DOB_YY']]"
   ]
  },
  {
   "cell_type": "code",
   "execution_count": 295,
   "metadata": {
    "collapsed": false
   },
   "outputs": [
    {
     "data": {
      "text/plain": [
       "(2748339, 160)"
      ]
     },
     "execution_count": 295,
     "metadata": {},
     "output_type": "execute_result"
    }
   ],
   "source": [
    "final_2008[final_2008['DOB_YY'] == '2008'].shape"
   ]
  },
  {
   "cell_type": "code",
   "execution_count": 296,
   "metadata": {
    "collapsed": false
   },
   "outputs": [],
   "source": [
    "cols = ['DOB_MM','DOB_WK']\n",
    "final_2008[cols] = final_2008[cols].replace('  ',np.NaN)\n",
    "final_2008[cols] = final_2008[cols].fillna(method = 'backfill')\n",
    "#final_2008['BFACIL'].fillna('1')"
   ]
  },
  {
   "cell_type": "markdown",
   "metadata": {},
   "source": [
    "For BFACIL, replace empty strings with the maximum occuring value ('1')"
   ]
  },
  {
   "cell_type": "code",
   "execution_count": 297,
   "metadata": {
    "collapsed": false
   },
   "outputs": [],
   "source": [
    "\n",
    "cols = ['BFACIL','UBFACIL','BFACIL3']\n",
    "final_2008[cols] = final_2008[cols].replace(' ',np.NaN)\n",
    "final_2008[cols] = final_2008[cols].fillna('1')"
   ]
  },
  {
   "cell_type": "code",
   "execution_count": 298,
   "metadata": {
    "collapsed": false
   },
   "outputs": [
    {
     "data": {
      "text/plain": [
       "264469    04\n",
       "266794    4 \n",
       "269119      \n",
       "395541    08\n",
       "397866    5 \n",
       "Name: MAGER, dtype: object"
      ]
     },
     "execution_count": 298,
     "metadata": {},
     "output_type": "execute_result"
    }
   ],
   "source": [
    "mylist = list(set(final_2008['MAGER']) - set(valid_values['MAGER']))\n",
    "mylist\n",
    "final_2008[final_2008['MAGER'].isin(['11', '08', '5 ', '6 ', '4 ', '10', '09', '2 ', '04', '05', '  ', '3 ', '06'])] \\\n",
    "['MAGER'].head(5)\n"
   ]
  },
  {
   "cell_type": "code",
   "execution_count": 299,
   "metadata": {
    "collapsed": false
   },
   "outputs": [],
   "source": [
    "final_2008.loc[final_2008['MAGER'].isin(['11', '08', '5 ', '6 ', '4 ', '10', '09', '2 ', '04', '05', '  ', '3 ', '06'])] \\\n",
    "['MAGER'] = np.NaN"
   ]
  },
  {
   "cell_type": "code",
   "execution_count": 307,
   "metadata": {
    "collapsed": false
   },
   "outputs": [],
   "source": []
  },
  {
   "cell_type": "code",
   "execution_count": 334,
   "metadata": {
    "collapsed": true
   },
   "outputs": [],
   "source": [
    "cols = ['MAGER']\n",
    "#final_2008[cols] = final_2008[cols].replace('  ',np.NaN)\n",
    "final_2008[cols] = final_2008[cols].fillna(method='backfill')"
   ]
  },
  {
   "cell_type": "code",
   "execution_count": 335,
   "metadata": {
    "collapsed": false
   },
   "outputs": [
    {
     "data": {
      "text/plain": [
       "Series([], Name: MAGER, dtype: object)"
      ]
     },
     "execution_count": 335,
     "metadata": {},
     "output_type": "execute_result"
    }
   ],
   "source": [
    "final_2008[final_2008['MAGER'].astype(int) < 12]['MAGER']\n",
    "#final_2008[cols] = final_2008[cols].fillna(method='backfill')"
   ]
  },
  {
   "cell_type": "code",
   "execution_count": 338,
   "metadata": {
    "collapsed": false
   },
   "outputs": [
    {
     "ename": "KeyError",
     "evalue": "\"['30' '28' '41' ..., '41' '33' '24'] not in index\"",
     "output_type": "error",
     "traceback": [
      "\u001b[0;31m---------------------------------------------------------------------------\u001b[0m",
      "\u001b[0;31mKeyError\u001b[0m                                  Traceback (most recent call last)",
      "\u001b[0;32m<ipython-input-338-cde3a8ebe9e2>\u001b[0m in \u001b[0;36m<module>\u001b[0;34m()\u001b[0m\n\u001b[1;32m      1\u001b[0m \u001b[0;31m#final_2008[final_2008[['MAGER']].astype(int) < 12] = np.NaN\u001b[0m\u001b[0;34m\u001b[0m\u001b[0;34m\u001b[0m\u001b[0m\n\u001b[1;32m      2\u001b[0m \u001b[0;31m#final_2008[final_2008['MAGER']]\u001b[0m\u001b[0;34m\u001b[0m\u001b[0;34m\u001b[0m\u001b[0m\n\u001b[0;32m----> 3\u001b[0;31m \u001b[0mfinal_2008\u001b[0m\u001b[0;34m[\u001b[0m\u001b[0mfinal_2008\u001b[0m\u001b[0;34m[\u001b[0m\u001b[0;34m'MAGER'\u001b[0m\u001b[0;34m]\u001b[0m\u001b[0;34m]\u001b[0m\u001b[0;34m[\u001b[0m\u001b[0;34m'MAGER'\u001b[0m\u001b[0;34m]\u001b[0m\u001b[0;34m\u001b[0m\u001b[0m\n\u001b[0m",
      "\u001b[0;32m/Users/sbisrat/anaconda/lib/python3.5/site-packages/pandas/core/frame.py\u001b[0m in \u001b[0;36m__getitem__\u001b[0;34m(self, key)\u001b[0m\n\u001b[1;32m   1989\u001b[0m         \u001b[0;32mif\u001b[0m \u001b[0misinstance\u001b[0m\u001b[0;34m(\u001b[0m\u001b[0mkey\u001b[0m\u001b[0;34m,\u001b[0m \u001b[0;34m(\u001b[0m\u001b[0mSeries\u001b[0m\u001b[0;34m,\u001b[0m \u001b[0mnp\u001b[0m\u001b[0;34m.\u001b[0m\u001b[0mndarray\u001b[0m\u001b[0;34m,\u001b[0m \u001b[0mIndex\u001b[0m\u001b[0;34m,\u001b[0m \u001b[0mlist\u001b[0m\u001b[0;34m)\u001b[0m\u001b[0;34m)\u001b[0m\u001b[0;34m:\u001b[0m\u001b[0;34m\u001b[0m\u001b[0m\n\u001b[1;32m   1990\u001b[0m             \u001b[0;31m# either boolean or fancy integer index\u001b[0m\u001b[0;34m\u001b[0m\u001b[0;34m\u001b[0m\u001b[0m\n\u001b[0;32m-> 1991\u001b[0;31m             \u001b[0;32mreturn\u001b[0m \u001b[0mself\u001b[0m\u001b[0;34m.\u001b[0m\u001b[0m_getitem_array\u001b[0m\u001b[0;34m(\u001b[0m\u001b[0mkey\u001b[0m\u001b[0;34m)\u001b[0m\u001b[0;34m\u001b[0m\u001b[0m\n\u001b[0m\u001b[1;32m   1992\u001b[0m         \u001b[0;32melif\u001b[0m \u001b[0misinstance\u001b[0m\u001b[0;34m(\u001b[0m\u001b[0mkey\u001b[0m\u001b[0;34m,\u001b[0m \u001b[0mDataFrame\u001b[0m\u001b[0;34m)\u001b[0m\u001b[0;34m:\u001b[0m\u001b[0;34m\u001b[0m\u001b[0m\n\u001b[1;32m   1993\u001b[0m             \u001b[0;32mreturn\u001b[0m \u001b[0mself\u001b[0m\u001b[0;34m.\u001b[0m\u001b[0m_getitem_frame\u001b[0m\u001b[0;34m(\u001b[0m\u001b[0mkey\u001b[0m\u001b[0;34m)\u001b[0m\u001b[0;34m\u001b[0m\u001b[0m\n",
      "\u001b[0;32m/Users/sbisrat/anaconda/lib/python3.5/site-packages/pandas/core/frame.py\u001b[0m in \u001b[0;36m_getitem_array\u001b[0;34m(self, key)\u001b[0m\n\u001b[1;32m   2033\u001b[0m             \u001b[0;32mreturn\u001b[0m \u001b[0mself\u001b[0m\u001b[0;34m.\u001b[0m\u001b[0mtake\u001b[0m\u001b[0;34m(\u001b[0m\u001b[0mindexer\u001b[0m\u001b[0;34m,\u001b[0m \u001b[0maxis\u001b[0m\u001b[0;34m=\u001b[0m\u001b[0;36m0\u001b[0m\u001b[0;34m,\u001b[0m \u001b[0mconvert\u001b[0m\u001b[0;34m=\u001b[0m\u001b[0;32mFalse\u001b[0m\u001b[0;34m)\u001b[0m\u001b[0;34m\u001b[0m\u001b[0m\n\u001b[1;32m   2034\u001b[0m         \u001b[0;32melse\u001b[0m\u001b[0;34m:\u001b[0m\u001b[0;34m\u001b[0m\u001b[0m\n\u001b[0;32m-> 2035\u001b[0;31m             \u001b[0mindexer\u001b[0m \u001b[0;34m=\u001b[0m \u001b[0mself\u001b[0m\u001b[0;34m.\u001b[0m\u001b[0mix\u001b[0m\u001b[0;34m.\u001b[0m\u001b[0m_convert_to_indexer\u001b[0m\u001b[0;34m(\u001b[0m\u001b[0mkey\u001b[0m\u001b[0;34m,\u001b[0m \u001b[0maxis\u001b[0m\u001b[0;34m=\u001b[0m\u001b[0;36m1\u001b[0m\u001b[0;34m)\u001b[0m\u001b[0;34m\u001b[0m\u001b[0m\n\u001b[0m\u001b[1;32m   2036\u001b[0m             \u001b[0;32mreturn\u001b[0m \u001b[0mself\u001b[0m\u001b[0;34m.\u001b[0m\u001b[0mtake\u001b[0m\u001b[0;34m(\u001b[0m\u001b[0mindexer\u001b[0m\u001b[0;34m,\u001b[0m \u001b[0maxis\u001b[0m\u001b[0;34m=\u001b[0m\u001b[0;36m1\u001b[0m\u001b[0;34m,\u001b[0m \u001b[0mconvert\u001b[0m\u001b[0;34m=\u001b[0m\u001b[0;32mTrue\u001b[0m\u001b[0;34m)\u001b[0m\u001b[0;34m\u001b[0m\u001b[0m\n\u001b[1;32m   2037\u001b[0m \u001b[0;34m\u001b[0m\u001b[0m\n",
      "\u001b[0;32m/Users/sbisrat/anaconda/lib/python3.5/site-packages/pandas/core/indexing.py\u001b[0m in \u001b[0;36m_convert_to_indexer\u001b[0;34m(self, obj, axis, is_setter)\u001b[0m\n\u001b[1;32m   1212\u001b[0m                 \u001b[0mmask\u001b[0m \u001b[0;34m=\u001b[0m \u001b[0mcheck\u001b[0m \u001b[0;34m==\u001b[0m \u001b[0;34m-\u001b[0m\u001b[0;36m1\u001b[0m\u001b[0;34m\u001b[0m\u001b[0m\n\u001b[1;32m   1213\u001b[0m                 \u001b[0;32mif\u001b[0m \u001b[0mmask\u001b[0m\u001b[0;34m.\u001b[0m\u001b[0many\u001b[0m\u001b[0;34m(\u001b[0m\u001b[0;34m)\u001b[0m\u001b[0;34m:\u001b[0m\u001b[0;34m\u001b[0m\u001b[0m\n\u001b[0;32m-> 1214\u001b[0;31m                     \u001b[0;32mraise\u001b[0m \u001b[0mKeyError\u001b[0m\u001b[0;34m(\u001b[0m\u001b[0;34m'%s not in index'\u001b[0m \u001b[0;34m%\u001b[0m \u001b[0mobjarr\u001b[0m\u001b[0;34m[\u001b[0m\u001b[0mmask\u001b[0m\u001b[0;34m]\u001b[0m\u001b[0;34m)\u001b[0m\u001b[0;34m\u001b[0m\u001b[0m\n\u001b[0m\u001b[1;32m   1215\u001b[0m \u001b[0;34m\u001b[0m\u001b[0m\n\u001b[1;32m   1216\u001b[0m                 \u001b[0;32mreturn\u001b[0m \u001b[0m_values_from_object\u001b[0m\u001b[0;34m(\u001b[0m\u001b[0mindexer\u001b[0m\u001b[0;34m)\u001b[0m\u001b[0;34m\u001b[0m\u001b[0m\n",
      "\u001b[0;31mKeyError\u001b[0m: \"['30' '28' '41' ..., '41' '33' '24'] not in index\""
     ]
    }
   ],
   "source": [
    "#final_2008[final_2008[['MAGER']].astype(int) < 12] = np.NaN\n",
    "#final_2008[final_2008['MAGER']]\n",
    "final_2008[final_2008['MAGER']]['MAGER']"
   ]
  },
  {
   "cell_type": "code",
   "execution_count": 103,
   "metadata": {
    "collapsed": false
   },
   "outputs": [
    {
     "data": {
      "text/html": [
       "<div>\n",
       "<table border=\"1\" class=\"dataframe\">\n",
       "  <thead>\n",
       "    <tr style=\"text-align: right;\">\n",
       "      <th></th>\n",
       "      <th>AB_ANTI</th>\n",
       "      <th>AB_AVEN1</th>\n",
       "      <th>AB_AVEN6</th>\n",
       "      <th>AB_BINJ</th>\n",
       "      <th>AB_NICU</th>\n",
       "      <th>AB_SEIZ</th>\n",
       "      <th>AB_SURF</th>\n",
       "      <th>AGED</th>\n",
       "      <th>AGER22</th>\n",
       "      <th>AGER5</th>\n",
       "      <th>...</th>\n",
       "      <th>UOP_INDUC</th>\n",
       "      <th>UOP_TOCOL</th>\n",
       "      <th>UPREVIS</th>\n",
       "      <th>URF_CHYPER</th>\n",
       "      <th>URF_DIAB</th>\n",
       "      <th>URF_ECLAM</th>\n",
       "      <th>URF_PHYPER</th>\n",
       "      <th>WEEKDAYD</th>\n",
       "      <th>WTGAIN</th>\n",
       "      <th>WTGAIN_REC</th>\n",
       "    </tr>\n",
       "  </thead>\n",
       "  <tbody>\n",
       "    <tr>\n",
       "      <th>264469</th>\n",
       "      <td>N</td>\n",
       "      <td>N</td>\n",
       "      <td>N</td>\n",
       "      <td></td>\n",
       "      <td>N</td>\n",
       "      <td></td>\n",
       "      <td>N</td>\n",
       "      <td></td>\n",
       "      <td></td>\n",
       "      <td></td>\n",
       "      <td>...</td>\n",
       "      <td>2</td>\n",
       "      <td></td>\n",
       "      <td>07</td>\n",
       "      <td>2</td>\n",
       "      <td></td>\n",
       "      <td></td>\n",
       "      <td></td>\n",
       "      <td></td>\n",
       "      <td>8</td>\n",
       "      <td></td>\n",
       "    </tr>\n",
       "    <tr>\n",
       "      <th>266794</th>\n",
       "      <td></td>\n",
       "      <td>N</td>\n",
       "      <td>N</td>\n",
       "      <td></td>\n",
       "      <td>N</td>\n",
       "      <td></td>\n",
       "      <td></td>\n",
       "      <td></td>\n",
       "      <td></td>\n",
       "      <td></td>\n",
       "      <td>...</td>\n",
       "      <td></td>\n",
       "      <td>N</td>\n",
       "      <td></td>\n",
       "      <td></td>\n",
       "      <td>2</td>\n",
       "      <td></td>\n",
       "      <td></td>\n",
       "      <td></td>\n",
       "      <td></td>\n",
       "      <td></td>\n",
       "    </tr>\n",
       "    <tr>\n",
       "      <th>269119</th>\n",
       "      <td></td>\n",
       "      <td>N</td>\n",
       "      <td></td>\n",
       "      <td></td>\n",
       "      <td></td>\n",
       "      <td></td>\n",
       "      <td></td>\n",
       "      <td></td>\n",
       "      <td></td>\n",
       "      <td></td>\n",
       "      <td>...</td>\n",
       "      <td>N</td>\n",
       "      <td>N</td>\n",
       "      <td>30</td>\n",
       "      <td></td>\n",
       "      <td>2</td>\n",
       "      <td></td>\n",
       "      <td></td>\n",
       "      <td></td>\n",
       "      <td></td>\n",
       "      <td>0</td>\n",
       "    </tr>\n",
       "    <tr>\n",
       "      <th>395541</th>\n",
       "      <td>N</td>\n",
       "      <td>N</td>\n",
       "      <td>N</td>\n",
       "      <td></td>\n",
       "      <td>N</td>\n",
       "      <td></td>\n",
       "      <td>N</td>\n",
       "      <td></td>\n",
       "      <td></td>\n",
       "      <td></td>\n",
       "      <td>...</td>\n",
       "      <td>2</td>\n",
       "      <td></td>\n",
       "      <td>08</td>\n",
       "      <td>2</td>\n",
       "      <td></td>\n",
       "      <td></td>\n",
       "      <td></td>\n",
       "      <td></td>\n",
       "      <td>4</td>\n",
       "      <td></td>\n",
       "    </tr>\n",
       "    <tr>\n",
       "      <th>397866</th>\n",
       "      <td></td>\n",
       "      <td>N</td>\n",
       "      <td>N</td>\n",
       "      <td></td>\n",
       "      <td>N</td>\n",
       "      <td></td>\n",
       "      <td></td>\n",
       "      <td></td>\n",
       "      <td></td>\n",
       "      <td></td>\n",
       "      <td>...</td>\n",
       "      <td></td>\n",
       "      <td>N</td>\n",
       "      <td></td>\n",
       "      <td></td>\n",
       "      <td>2</td>\n",
       "      <td></td>\n",
       "      <td></td>\n",
       "      <td></td>\n",
       "      <td></td>\n",
       "      <td></td>\n",
       "    </tr>\n",
       "    <tr>\n",
       "      <th>400191</th>\n",
       "      <td></td>\n",
       "      <td>N</td>\n",
       "      <td></td>\n",
       "      <td></td>\n",
       "      <td></td>\n",
       "      <td></td>\n",
       "      <td></td>\n",
       "      <td></td>\n",
       "      <td></td>\n",
       "      <td></td>\n",
       "      <td>...</td>\n",
       "      <td>N</td>\n",
       "      <td>N</td>\n",
       "      <td>99</td>\n",
       "      <td></td>\n",
       "      <td>2</td>\n",
       "      <td></td>\n",
       "      <td></td>\n",
       "      <td></td>\n",
       "      <td></td>\n",
       "      <td>0</td>\n",
       "    </tr>\n",
       "    <tr>\n",
       "      <th>526613</th>\n",
       "      <td>N</td>\n",
       "      <td>N</td>\n",
       "      <td>N</td>\n",
       "      <td></td>\n",
       "      <td>N</td>\n",
       "      <td></td>\n",
       "      <td>N</td>\n",
       "      <td></td>\n",
       "      <td></td>\n",
       "      <td></td>\n",
       "      <td>...</td>\n",
       "      <td>2</td>\n",
       "      <td></td>\n",
       "      <td>06</td>\n",
       "      <td>2</td>\n",
       "      <td></td>\n",
       "      <td></td>\n",
       "      <td></td>\n",
       "      <td></td>\n",
       "      <td>5</td>\n",
       "      <td></td>\n",
       "    </tr>\n",
       "    <tr>\n",
       "      <th>528938</th>\n",
       "      <td></td>\n",
       "      <td>N</td>\n",
       "      <td>N</td>\n",
       "      <td></td>\n",
       "      <td>N</td>\n",
       "      <td></td>\n",
       "      <td></td>\n",
       "      <td></td>\n",
       "      <td></td>\n",
       "      <td></td>\n",
       "      <td>...</td>\n",
       "      <td></td>\n",
       "      <td>N</td>\n",
       "      <td></td>\n",
       "      <td></td>\n",
       "      <td>2</td>\n",
       "      <td></td>\n",
       "      <td></td>\n",
       "      <td></td>\n",
       "      <td></td>\n",
       "      <td></td>\n",
       "    </tr>\n",
       "    <tr>\n",
       "      <th>531263</th>\n",
       "      <td></td>\n",
       "      <td>N</td>\n",
       "      <td></td>\n",
       "      <td></td>\n",
       "      <td></td>\n",
       "      <td></td>\n",
       "      <td></td>\n",
       "      <td></td>\n",
       "      <td></td>\n",
       "      <td></td>\n",
       "      <td>...</td>\n",
       "      <td>N</td>\n",
       "      <td>N</td>\n",
       "      <td>50</td>\n",
       "      <td></td>\n",
       "      <td>2</td>\n",
       "      <td></td>\n",
       "      <td></td>\n",
       "      <td></td>\n",
       "      <td></td>\n",
       "      <td>0</td>\n",
       "    </tr>\n",
       "    <tr>\n",
       "      <th>657685</th>\n",
       "      <td>N</td>\n",
       "      <td>N</td>\n",
       "      <td>N</td>\n",
       "      <td></td>\n",
       "      <td>N</td>\n",
       "      <td></td>\n",
       "      <td>N</td>\n",
       "      <td></td>\n",
       "      <td></td>\n",
       "      <td></td>\n",
       "      <td>...</td>\n",
       "      <td>2</td>\n",
       "      <td></td>\n",
       "      <td>07</td>\n",
       "      <td>2</td>\n",
       "      <td></td>\n",
       "      <td></td>\n",
       "      <td></td>\n",
       "      <td></td>\n",
       "      <td>6</td>\n",
       "      <td></td>\n",
       "    </tr>\n",
       "    <tr>\n",
       "      <th>660010</th>\n",
       "      <td></td>\n",
       "      <td>N</td>\n",
       "      <td>N</td>\n",
       "      <td></td>\n",
       "      <td>N</td>\n",
       "      <td></td>\n",
       "      <td></td>\n",
       "      <td></td>\n",
       "      <td></td>\n",
       "      <td></td>\n",
       "      <td>...</td>\n",
       "      <td></td>\n",
       "      <td>N</td>\n",
       "      <td></td>\n",
       "      <td></td>\n",
       "      <td>2</td>\n",
       "      <td></td>\n",
       "      <td></td>\n",
       "      <td></td>\n",
       "      <td></td>\n",
       "      <td></td>\n",
       "    </tr>\n",
       "    <tr>\n",
       "      <th>662335</th>\n",
       "      <td></td>\n",
       "      <td>N</td>\n",
       "      <td></td>\n",
       "      <td></td>\n",
       "      <td></td>\n",
       "      <td></td>\n",
       "      <td></td>\n",
       "      <td></td>\n",
       "      <td></td>\n",
       "      <td></td>\n",
       "      <td>...</td>\n",
       "      <td>N</td>\n",
       "      <td>N</td>\n",
       "      <td>52</td>\n",
       "      <td></td>\n",
       "      <td>2</td>\n",
       "      <td></td>\n",
       "      <td></td>\n",
       "      <td></td>\n",
       "      <td></td>\n",
       "      <td>0</td>\n",
       "    </tr>\n",
       "    <tr>\n",
       "      <th>788757</th>\n",
       "      <td>N</td>\n",
       "      <td>N</td>\n",
       "      <td>N</td>\n",
       "      <td></td>\n",
       "      <td>N</td>\n",
       "      <td></td>\n",
       "      <td>N</td>\n",
       "      <td></td>\n",
       "      <td></td>\n",
       "      <td></td>\n",
       "      <td>...</td>\n",
       "      <td>2</td>\n",
       "      <td></td>\n",
       "      <td>07</td>\n",
       "      <td>2</td>\n",
       "      <td></td>\n",
       "      <td></td>\n",
       "      <td></td>\n",
       "      <td></td>\n",
       "      <td>8</td>\n",
       "      <td></td>\n",
       "    </tr>\n",
       "    <tr>\n",
       "      <th>791082</th>\n",
       "      <td></td>\n",
       "      <td>N</td>\n",
       "      <td>N</td>\n",
       "      <td></td>\n",
       "      <td>N</td>\n",
       "      <td></td>\n",
       "      <td></td>\n",
       "      <td></td>\n",
       "      <td></td>\n",
       "      <td></td>\n",
       "      <td>...</td>\n",
       "      <td></td>\n",
       "      <td>N</td>\n",
       "      <td></td>\n",
       "      <td></td>\n",
       "      <td>2</td>\n",
       "      <td></td>\n",
       "      <td></td>\n",
       "      <td></td>\n",
       "      <td></td>\n",
       "      <td></td>\n",
       "    </tr>\n",
       "    <tr>\n",
       "      <th>793407</th>\n",
       "      <td></td>\n",
       "      <td>N</td>\n",
       "      <td></td>\n",
       "      <td></td>\n",
       "      <td></td>\n",
       "      <td></td>\n",
       "      <td></td>\n",
       "      <td></td>\n",
       "      <td></td>\n",
       "      <td></td>\n",
       "      <td>...</td>\n",
       "      <td>N</td>\n",
       "      <td>N</td>\n",
       "      <td>24</td>\n",
       "      <td></td>\n",
       "      <td>2</td>\n",
       "      <td></td>\n",
       "      <td></td>\n",
       "      <td></td>\n",
       "      <td></td>\n",
       "      <td>0</td>\n",
       "    </tr>\n",
       "    <tr>\n",
       "      <th>919829</th>\n",
       "      <td>N</td>\n",
       "      <td>N</td>\n",
       "      <td>N</td>\n",
       "      <td></td>\n",
       "      <td>N</td>\n",
       "      <td></td>\n",
       "      <td>N</td>\n",
       "      <td></td>\n",
       "      <td></td>\n",
       "      <td></td>\n",
       "      <td>...</td>\n",
       "      <td>2</td>\n",
       "      <td></td>\n",
       "      <td>06</td>\n",
       "      <td>2</td>\n",
       "      <td></td>\n",
       "      <td></td>\n",
       "      <td></td>\n",
       "      <td></td>\n",
       "      <td>6</td>\n",
       "      <td></td>\n",
       "    </tr>\n",
       "    <tr>\n",
       "      <th>922154</th>\n",
       "      <td></td>\n",
       "      <td>N</td>\n",
       "      <td>N</td>\n",
       "      <td></td>\n",
       "      <td>N</td>\n",
       "      <td></td>\n",
       "      <td></td>\n",
       "      <td></td>\n",
       "      <td></td>\n",
       "      <td></td>\n",
       "      <td>...</td>\n",
       "      <td></td>\n",
       "      <td>N</td>\n",
       "      <td></td>\n",
       "      <td></td>\n",
       "      <td>2</td>\n",
       "      <td></td>\n",
       "      <td></td>\n",
       "      <td></td>\n",
       "      <td></td>\n",
       "      <td></td>\n",
       "    </tr>\n",
       "    <tr>\n",
       "      <th>924479</th>\n",
       "      <td></td>\n",
       "      <td>N</td>\n",
       "      <td></td>\n",
       "      <td></td>\n",
       "      <td></td>\n",
       "      <td></td>\n",
       "      <td></td>\n",
       "      <td></td>\n",
       "      <td></td>\n",
       "      <td></td>\n",
       "      <td>...</td>\n",
       "      <td>N</td>\n",
       "      <td>Y</td>\n",
       "      <td>24</td>\n",
       "      <td></td>\n",
       "      <td>2</td>\n",
       "      <td></td>\n",
       "      <td></td>\n",
       "      <td></td>\n",
       "      <td></td>\n",
       "      <td>9</td>\n",
       "    </tr>\n",
       "    <tr>\n",
       "      <th>1050901</th>\n",
       "      <td>N</td>\n",
       "      <td>N</td>\n",
       "      <td>N</td>\n",
       "      <td></td>\n",
       "      <td>N</td>\n",
       "      <td></td>\n",
       "      <td>N</td>\n",
       "      <td></td>\n",
       "      <td></td>\n",
       "      <td></td>\n",
       "      <td>...</td>\n",
       "      <td>2</td>\n",
       "      <td></td>\n",
       "      <td>09</td>\n",
       "      <td>2</td>\n",
       "      <td></td>\n",
       "      <td></td>\n",
       "      <td></td>\n",
       "      <td></td>\n",
       "      <td>9</td>\n",
       "      <td>1</td>\n",
       "    </tr>\n",
       "    <tr>\n",
       "      <th>1053226</th>\n",
       "      <td></td>\n",
       "      <td>N</td>\n",
       "      <td>N</td>\n",
       "      <td></td>\n",
       "      <td>N</td>\n",
       "      <td></td>\n",
       "      <td></td>\n",
       "      <td></td>\n",
       "      <td></td>\n",
       "      <td></td>\n",
       "      <td>...</td>\n",
       "      <td></td>\n",
       "      <td>N</td>\n",
       "      <td></td>\n",
       "      <td></td>\n",
       "      <td>2</td>\n",
       "      <td></td>\n",
       "      <td></td>\n",
       "      <td></td>\n",
       "      <td></td>\n",
       "      <td></td>\n",
       "    </tr>\n",
       "    <tr>\n",
       "      <th>1055551</th>\n",
       "      <td></td>\n",
       "      <td>N</td>\n",
       "      <td></td>\n",
       "      <td></td>\n",
       "      <td></td>\n",
       "      <td></td>\n",
       "      <td></td>\n",
       "      <td></td>\n",
       "      <td></td>\n",
       "      <td></td>\n",
       "      <td>...</td>\n",
       "      <td>N</td>\n",
       "      <td>Y</td>\n",
       "      <td>23</td>\n",
       "      <td></td>\n",
       "      <td>2</td>\n",
       "      <td></td>\n",
       "      <td></td>\n",
       "      <td></td>\n",
       "      <td></td>\n",
       "      <td>9</td>\n",
       "    </tr>\n",
       "    <tr>\n",
       "      <th>1181973</th>\n",
       "      <td>N</td>\n",
       "      <td>N</td>\n",
       "      <td>N</td>\n",
       "      <td></td>\n",
       "      <td>N</td>\n",
       "      <td></td>\n",
       "      <td>N</td>\n",
       "      <td></td>\n",
       "      <td></td>\n",
       "      <td></td>\n",
       "      <td>...</td>\n",
       "      <td>2</td>\n",
       "      <td></td>\n",
       "      <td>04</td>\n",
       "      <td>2</td>\n",
       "      <td></td>\n",
       "      <td></td>\n",
       "      <td></td>\n",
       "      <td></td>\n",
       "      <td>1</td>\n",
       "      <td></td>\n",
       "    </tr>\n",
       "    <tr>\n",
       "      <th>1184298</th>\n",
       "      <td></td>\n",
       "      <td>N</td>\n",
       "      <td>N</td>\n",
       "      <td></td>\n",
       "      <td>N</td>\n",
       "      <td></td>\n",
       "      <td></td>\n",
       "      <td></td>\n",
       "      <td></td>\n",
       "      <td></td>\n",
       "      <td>...</td>\n",
       "      <td></td>\n",
       "      <td>N</td>\n",
       "      <td></td>\n",
       "      <td></td>\n",
       "      <td>2</td>\n",
       "      <td></td>\n",
       "      <td></td>\n",
       "      <td></td>\n",
       "      <td></td>\n",
       "      <td></td>\n",
       "    </tr>\n",
       "    <tr>\n",
       "      <th>1186623</th>\n",
       "      <td></td>\n",
       "      <td>N</td>\n",
       "      <td></td>\n",
       "      <td></td>\n",
       "      <td></td>\n",
       "      <td></td>\n",
       "      <td></td>\n",
       "      <td></td>\n",
       "      <td></td>\n",
       "      <td></td>\n",
       "      <td>...</td>\n",
       "      <td>N</td>\n",
       "      <td>N</td>\n",
       "      <td>00</td>\n",
       "      <td></td>\n",
       "      <td>2</td>\n",
       "      <td></td>\n",
       "      <td></td>\n",
       "      <td></td>\n",
       "      <td></td>\n",
       "      <td>9</td>\n",
       "    </tr>\n",
       "    <tr>\n",
       "      <th>1313045</th>\n",
       "      <td>N</td>\n",
       "      <td>Y</td>\n",
       "      <td>Y</td>\n",
       "      <td></td>\n",
       "      <td>Y</td>\n",
       "      <td></td>\n",
       "      <td>N</td>\n",
       "      <td></td>\n",
       "      <td></td>\n",
       "      <td></td>\n",
       "      <td>...</td>\n",
       "      <td>1</td>\n",
       "      <td></td>\n",
       "      <td>06</td>\n",
       "      <td>2</td>\n",
       "      <td></td>\n",
       "      <td></td>\n",
       "      <td></td>\n",
       "      <td></td>\n",
       "      <td>4</td>\n",
       "      <td></td>\n",
       "    </tr>\n",
       "    <tr>\n",
       "      <th>1315370</th>\n",
       "      <td></td>\n",
       "      <td>N</td>\n",
       "      <td>N</td>\n",
       "      <td></td>\n",
       "      <td>N</td>\n",
       "      <td></td>\n",
       "      <td></td>\n",
       "      <td></td>\n",
       "      <td></td>\n",
       "      <td></td>\n",
       "      <td>...</td>\n",
       "      <td></td>\n",
       "      <td>N</td>\n",
       "      <td></td>\n",
       "      <td></td>\n",
       "      <td>2</td>\n",
       "      <td></td>\n",
       "      <td></td>\n",
       "      <td></td>\n",
       "      <td></td>\n",
       "      <td></td>\n",
       "    </tr>\n",
       "    <tr>\n",
       "      <th>1317695</th>\n",
       "      <td></td>\n",
       "      <td>N</td>\n",
       "      <td></td>\n",
       "      <td></td>\n",
       "      <td></td>\n",
       "      <td></td>\n",
       "      <td></td>\n",
       "      <td></td>\n",
       "      <td></td>\n",
       "      <td></td>\n",
       "      <td>...</td>\n",
       "      <td>N</td>\n",
       "      <td>Y</td>\n",
       "      <td>28</td>\n",
       "      <td></td>\n",
       "      <td>2</td>\n",
       "      <td></td>\n",
       "      <td></td>\n",
       "      <td></td>\n",
       "      <td></td>\n",
       "      <td>0</td>\n",
       "    </tr>\n",
       "    <tr>\n",
       "      <th>1575189</th>\n",
       "      <td>N</td>\n",
       "      <td>N</td>\n",
       "      <td>N</td>\n",
       "      <td></td>\n",
       "      <td>N</td>\n",
       "      <td></td>\n",
       "      <td>N</td>\n",
       "      <td></td>\n",
       "      <td></td>\n",
       "      <td></td>\n",
       "      <td>...</td>\n",
       "      <td>2</td>\n",
       "      <td></td>\n",
       "      <td>04</td>\n",
       "      <td>2</td>\n",
       "      <td></td>\n",
       "      <td></td>\n",
       "      <td></td>\n",
       "      <td></td>\n",
       "      <td>2</td>\n",
       "      <td></td>\n",
       "    </tr>\n",
       "    <tr>\n",
       "      <th>1577514</th>\n",
       "      <td></td>\n",
       "      <td>N</td>\n",
       "      <td>N</td>\n",
       "      <td></td>\n",
       "      <td>N</td>\n",
       "      <td></td>\n",
       "      <td></td>\n",
       "      <td></td>\n",
       "      <td></td>\n",
       "      <td></td>\n",
       "      <td>...</td>\n",
       "      <td></td>\n",
       "      <td>N</td>\n",
       "      <td></td>\n",
       "      <td></td>\n",
       "      <td>2</td>\n",
       "      <td></td>\n",
       "      <td></td>\n",
       "      <td></td>\n",
       "      <td></td>\n",
       "      <td></td>\n",
       "    </tr>\n",
       "    <tr>\n",
       "      <th>1579839</th>\n",
       "      <td></td>\n",
       "      <td>N</td>\n",
       "      <td></td>\n",
       "      <td></td>\n",
       "      <td></td>\n",
       "      <td></td>\n",
       "      <td></td>\n",
       "      <td></td>\n",
       "      <td></td>\n",
       "      <td></td>\n",
       "      <td>...</td>\n",
       "      <td>N</td>\n",
       "      <td>Y</td>\n",
       "      <td>33</td>\n",
       "      <td></td>\n",
       "      <td>2</td>\n",
       "      <td></td>\n",
       "      <td></td>\n",
       "      <td></td>\n",
       "      <td></td>\n",
       "      <td>0</td>\n",
       "    </tr>\n",
       "    <tr>\n",
       "      <th>...</th>\n",
       "      <td>...</td>\n",
       "      <td>...</td>\n",
       "      <td>...</td>\n",
       "      <td>...</td>\n",
       "      <td>...</td>\n",
       "      <td>...</td>\n",
       "      <td>...</td>\n",
       "      <td>...</td>\n",
       "      <td>...</td>\n",
       "      <td>...</td>\n",
       "      <td>...</td>\n",
       "      <td>...</td>\n",
       "      <td>...</td>\n",
       "      <td>...</td>\n",
       "      <td>...</td>\n",
       "      <td>...</td>\n",
       "      <td>...</td>\n",
       "      <td>...</td>\n",
       "      <td>...</td>\n",
       "      <td>...</td>\n",
       "      <td>...</td>\n",
       "    </tr>\n",
       "    <tr>\n",
       "      <th>1968405</th>\n",
       "      <td>N</td>\n",
       "      <td>N</td>\n",
       "      <td>N</td>\n",
       "      <td></td>\n",
       "      <td>N</td>\n",
       "      <td></td>\n",
       "      <td>N</td>\n",
       "      <td></td>\n",
       "      <td></td>\n",
       "      <td></td>\n",
       "      <td>...</td>\n",
       "      <td>2</td>\n",
       "      <td></td>\n",
       "      <td>06</td>\n",
       "      <td>2</td>\n",
       "      <td></td>\n",
       "      <td></td>\n",
       "      <td></td>\n",
       "      <td></td>\n",
       "      <td>8</td>\n",
       "      <td></td>\n",
       "    </tr>\n",
       "    <tr>\n",
       "      <th>1973055</th>\n",
       "      <td></td>\n",
       "      <td>N</td>\n",
       "      <td></td>\n",
       "      <td></td>\n",
       "      <td></td>\n",
       "      <td></td>\n",
       "      <td></td>\n",
       "      <td></td>\n",
       "      <td></td>\n",
       "      <td></td>\n",
       "      <td>...</td>\n",
       "      <td>N</td>\n",
       "      <td>Y</td>\n",
       "      <td>20</td>\n",
       "      <td></td>\n",
       "      <td>2</td>\n",
       "      <td></td>\n",
       "      <td></td>\n",
       "      <td></td>\n",
       "      <td></td>\n",
       "      <td>9</td>\n",
       "    </tr>\n",
       "    <tr>\n",
       "      <th>2754837</th>\n",
       "      <td>N</td>\n",
       "      <td>N</td>\n",
       "      <td>N</td>\n",
       "      <td></td>\n",
       "      <td>N</td>\n",
       "      <td></td>\n",
       "      <td>N</td>\n",
       "      <td></td>\n",
       "      <td></td>\n",
       "      <td></td>\n",
       "      <td>...</td>\n",
       "      <td>2</td>\n",
       "      <td></td>\n",
       "      <td>12</td>\n",
       "      <td>2</td>\n",
       "      <td></td>\n",
       "      <td></td>\n",
       "      <td></td>\n",
       "      <td></td>\n",
       "      <td>9</td>\n",
       "      <td></td>\n",
       "    </tr>\n",
       "    <tr>\n",
       "      <th>2757162</th>\n",
       "      <td></td>\n",
       "      <td>N</td>\n",
       "      <td>N</td>\n",
       "      <td></td>\n",
       "      <td>N</td>\n",
       "      <td></td>\n",
       "      <td></td>\n",
       "      <td></td>\n",
       "      <td></td>\n",
       "      <td></td>\n",
       "      <td>...</td>\n",
       "      <td></td>\n",
       "      <td>N</td>\n",
       "      <td></td>\n",
       "      <td></td>\n",
       "      <td>2</td>\n",
       "      <td></td>\n",
       "      <td></td>\n",
       "      <td></td>\n",
       "      <td></td>\n",
       "      <td></td>\n",
       "    </tr>\n",
       "    <tr>\n",
       "      <th>2759487</th>\n",
       "      <td></td>\n",
       "      <td>N</td>\n",
       "      <td></td>\n",
       "      <td></td>\n",
       "      <td></td>\n",
       "      <td></td>\n",
       "      <td></td>\n",
       "      <td></td>\n",
       "      <td></td>\n",
       "      <td></td>\n",
       "      <td>...</td>\n",
       "      <td>N</td>\n",
       "      <td>Y</td>\n",
       "      <td>63</td>\n",
       "      <td></td>\n",
       "      <td>2</td>\n",
       "      <td></td>\n",
       "      <td></td>\n",
       "      <td></td>\n",
       "      <td></td>\n",
       "      <td>0</td>\n",
       "    </tr>\n",
       "    <tr>\n",
       "      <th>2885909</th>\n",
       "      <td>N</td>\n",
       "      <td>N</td>\n",
       "      <td>N</td>\n",
       "      <td></td>\n",
       "      <td>N</td>\n",
       "      <td></td>\n",
       "      <td>N</td>\n",
       "      <td></td>\n",
       "      <td></td>\n",
       "      <td></td>\n",
       "      <td>...</td>\n",
       "      <td>2</td>\n",
       "      <td></td>\n",
       "      <td>01</td>\n",
       "      <td>2</td>\n",
       "      <td></td>\n",
       "      <td></td>\n",
       "      <td></td>\n",
       "      <td></td>\n",
       "      <td>9</td>\n",
       "      <td></td>\n",
       "    </tr>\n",
       "    <tr>\n",
       "      <th>2888234</th>\n",
       "      <td></td>\n",
       "      <td>N</td>\n",
       "      <td>N</td>\n",
       "      <td></td>\n",
       "      <td>N</td>\n",
       "      <td></td>\n",
       "      <td></td>\n",
       "      <td></td>\n",
       "      <td></td>\n",
       "      <td></td>\n",
       "      <td>...</td>\n",
       "      <td></td>\n",
       "      <td>N</td>\n",
       "      <td></td>\n",
       "      <td></td>\n",
       "      <td>2</td>\n",
       "      <td></td>\n",
       "      <td></td>\n",
       "      <td></td>\n",
       "      <td></td>\n",
       "      <td></td>\n",
       "    </tr>\n",
       "    <tr>\n",
       "      <th>2890559</th>\n",
       "      <td></td>\n",
       "      <td>N</td>\n",
       "      <td></td>\n",
       "      <td></td>\n",
       "      <td></td>\n",
       "      <td></td>\n",
       "      <td></td>\n",
       "      <td></td>\n",
       "      <td></td>\n",
       "      <td></td>\n",
       "      <td>...</td>\n",
       "      <td>N</td>\n",
       "      <td>N</td>\n",
       "      <td>34</td>\n",
       "      <td></td>\n",
       "      <td>2</td>\n",
       "      <td></td>\n",
       "      <td></td>\n",
       "      <td></td>\n",
       "      <td></td>\n",
       "      <td>0</td>\n",
       "    </tr>\n",
       "    <tr>\n",
       "      <th>3016981</th>\n",
       "      <td>N</td>\n",
       "      <td>N</td>\n",
       "      <td>N</td>\n",
       "      <td></td>\n",
       "      <td>N</td>\n",
       "      <td></td>\n",
       "      <td>N</td>\n",
       "      <td></td>\n",
       "      <td></td>\n",
       "      <td></td>\n",
       "      <td>...</td>\n",
       "      <td>2</td>\n",
       "      <td></td>\n",
       "      <td>07</td>\n",
       "      <td>2</td>\n",
       "      <td></td>\n",
       "      <td></td>\n",
       "      <td></td>\n",
       "      <td></td>\n",
       "      <td>5</td>\n",
       "      <td></td>\n",
       "    </tr>\n",
       "    <tr>\n",
       "      <th>3019306</th>\n",
       "      <td></td>\n",
       "      <td>N</td>\n",
       "      <td>N</td>\n",
       "      <td></td>\n",
       "      <td>N</td>\n",
       "      <td></td>\n",
       "      <td></td>\n",
       "      <td></td>\n",
       "      <td></td>\n",
       "      <td></td>\n",
       "      <td>...</td>\n",
       "      <td></td>\n",
       "      <td>N</td>\n",
       "      <td></td>\n",
       "      <td></td>\n",
       "      <td>2</td>\n",
       "      <td></td>\n",
       "      <td></td>\n",
       "      <td></td>\n",
       "      <td></td>\n",
       "      <td></td>\n",
       "    </tr>\n",
       "    <tr>\n",
       "      <th>3021631</th>\n",
       "      <td></td>\n",
       "      <td>N</td>\n",
       "      <td></td>\n",
       "      <td></td>\n",
       "      <td></td>\n",
       "      <td></td>\n",
       "      <td></td>\n",
       "      <td></td>\n",
       "      <td></td>\n",
       "      <td></td>\n",
       "      <td>...</td>\n",
       "      <td>N</td>\n",
       "      <td>N</td>\n",
       "      <td>30</td>\n",
       "      <td></td>\n",
       "      <td>2</td>\n",
       "      <td></td>\n",
       "      <td></td>\n",
       "      <td></td>\n",
       "      <td></td>\n",
       "      <td>1</td>\n",
       "    </tr>\n",
       "    <tr>\n",
       "      <th>3148053</th>\n",
       "      <td>N</td>\n",
       "      <td>N</td>\n",
       "      <td>N</td>\n",
       "      <td></td>\n",
       "      <td>N</td>\n",
       "      <td></td>\n",
       "      <td>N</td>\n",
       "      <td></td>\n",
       "      <td></td>\n",
       "      <td></td>\n",
       "      <td>...</td>\n",
       "      <td>2</td>\n",
       "      <td></td>\n",
       "      <td>07</td>\n",
       "      <td>2</td>\n",
       "      <td></td>\n",
       "      <td></td>\n",
       "      <td></td>\n",
       "      <td></td>\n",
       "      <td>1</td>\n",
       "      <td></td>\n",
       "    </tr>\n",
       "    <tr>\n",
       "      <th>3152703</th>\n",
       "      <td></td>\n",
       "      <td>N</td>\n",
       "      <td></td>\n",
       "      <td></td>\n",
       "      <td></td>\n",
       "      <td></td>\n",
       "      <td></td>\n",
       "      <td></td>\n",
       "      <td></td>\n",
       "      <td></td>\n",
       "      <td>...</td>\n",
       "      <td>N</td>\n",
       "      <td>N</td>\n",
       "      <td>30</td>\n",
       "      <td></td>\n",
       "      <td>2</td>\n",
       "      <td></td>\n",
       "      <td></td>\n",
       "      <td></td>\n",
       "      <td></td>\n",
       "      <td>0</td>\n",
       "    </tr>\n",
       "    <tr>\n",
       "      <th>3279125</th>\n",
       "      <td>N</td>\n",
       "      <td>N</td>\n",
       "      <td>N</td>\n",
       "      <td></td>\n",
       "      <td>N</td>\n",
       "      <td></td>\n",
       "      <td>N</td>\n",
       "      <td></td>\n",
       "      <td></td>\n",
       "      <td></td>\n",
       "      <td>...</td>\n",
       "      <td>2</td>\n",
       "      <td></td>\n",
       "      <td>09</td>\n",
       "      <td>2</td>\n",
       "      <td></td>\n",
       "      <td></td>\n",
       "      <td></td>\n",
       "      <td></td>\n",
       "      <td>7</td>\n",
       "      <td></td>\n",
       "    </tr>\n",
       "    <tr>\n",
       "      <th>3283775</th>\n",
       "      <td></td>\n",
       "      <td>N</td>\n",
       "      <td></td>\n",
       "      <td></td>\n",
       "      <td></td>\n",
       "      <td></td>\n",
       "      <td></td>\n",
       "      <td></td>\n",
       "      <td></td>\n",
       "      <td></td>\n",
       "      <td>...</td>\n",
       "      <td>N</td>\n",
       "      <td>N</td>\n",
       "      <td>29</td>\n",
       "      <td></td>\n",
       "      <td>2</td>\n",
       "      <td></td>\n",
       "      <td></td>\n",
       "      <td></td>\n",
       "      <td></td>\n",
       "      <td>0</td>\n",
       "    </tr>\n",
       "    <tr>\n",
       "      <th>3410197</th>\n",
       "      <td>N</td>\n",
       "      <td>N</td>\n",
       "      <td>N</td>\n",
       "      <td></td>\n",
       "      <td>N</td>\n",
       "      <td></td>\n",
       "      <td>N</td>\n",
       "      <td></td>\n",
       "      <td></td>\n",
       "      <td></td>\n",
       "      <td>...</td>\n",
       "      <td>2</td>\n",
       "      <td></td>\n",
       "      <td>09</td>\n",
       "      <td>2</td>\n",
       "      <td></td>\n",
       "      <td></td>\n",
       "      <td></td>\n",
       "      <td></td>\n",
       "      <td>2</td>\n",
       "      <td></td>\n",
       "    </tr>\n",
       "    <tr>\n",
       "      <th>3412522</th>\n",
       "      <td></td>\n",
       "      <td>N</td>\n",
       "      <td>N</td>\n",
       "      <td></td>\n",
       "      <td>N</td>\n",
       "      <td></td>\n",
       "      <td></td>\n",
       "      <td></td>\n",
       "      <td></td>\n",
       "      <td></td>\n",
       "      <td>...</td>\n",
       "      <td></td>\n",
       "      <td>N</td>\n",
       "      <td></td>\n",
       "      <td></td>\n",
       "      <td>2</td>\n",
       "      <td></td>\n",
       "      <td></td>\n",
       "      <td></td>\n",
       "      <td></td>\n",
       "      <td></td>\n",
       "    </tr>\n",
       "    <tr>\n",
       "      <th>3414847</th>\n",
       "      <td></td>\n",
       "      <td>N</td>\n",
       "      <td></td>\n",
       "      <td></td>\n",
       "      <td></td>\n",
       "      <td></td>\n",
       "      <td></td>\n",
       "      <td></td>\n",
       "      <td></td>\n",
       "      <td></td>\n",
       "      <td>...</td>\n",
       "      <td>N</td>\n",
       "      <td>Y</td>\n",
       "      <td>44</td>\n",
       "      <td></td>\n",
       "      <td>2</td>\n",
       "      <td></td>\n",
       "      <td></td>\n",
       "      <td></td>\n",
       "      <td></td>\n",
       "      <td>0</td>\n",
       "    </tr>\n",
       "    <tr>\n",
       "      <th>3541269</th>\n",
       "      <td>N</td>\n",
       "      <td>Y</td>\n",
       "      <td>N</td>\n",
       "      <td></td>\n",
       "      <td>N</td>\n",
       "      <td></td>\n",
       "      <td>N</td>\n",
       "      <td></td>\n",
       "      <td></td>\n",
       "      <td></td>\n",
       "      <td>...</td>\n",
       "      <td>2</td>\n",
       "      <td></td>\n",
       "      <td>05</td>\n",
       "      <td>2</td>\n",
       "      <td></td>\n",
       "      <td></td>\n",
       "      <td></td>\n",
       "      <td></td>\n",
       "      <td>5</td>\n",
       "      <td></td>\n",
       "    </tr>\n",
       "    <tr>\n",
       "      <th>3543594</th>\n",
       "      <td></td>\n",
       "      <td>N</td>\n",
       "      <td>N</td>\n",
       "      <td></td>\n",
       "      <td>N</td>\n",
       "      <td></td>\n",
       "      <td></td>\n",
       "      <td></td>\n",
       "      <td></td>\n",
       "      <td></td>\n",
       "      <td>...</td>\n",
       "      <td></td>\n",
       "      <td>N</td>\n",
       "      <td></td>\n",
       "      <td></td>\n",
       "      <td>2</td>\n",
       "      <td></td>\n",
       "      <td></td>\n",
       "      <td></td>\n",
       "      <td>1</td>\n",
       "      <td></td>\n",
       "    </tr>\n",
       "    <tr>\n",
       "      <th>3545919</th>\n",
       "      <td></td>\n",
       "      <td>N</td>\n",
       "      <td></td>\n",
       "      <td></td>\n",
       "      <td></td>\n",
       "      <td></td>\n",
       "      <td></td>\n",
       "      <td></td>\n",
       "      <td></td>\n",
       "      <td></td>\n",
       "      <td>...</td>\n",
       "      <td>N</td>\n",
       "      <td>Y</td>\n",
       "      <td>43</td>\n",
       "      <td></td>\n",
       "      <td>2</td>\n",
       "      <td></td>\n",
       "      <td></td>\n",
       "      <td></td>\n",
       "      <td></td>\n",
       "      <td>0</td>\n",
       "    </tr>\n",
       "    <tr>\n",
       "      <th>3672341</th>\n",
       "      <td>N</td>\n",
       "      <td>Y</td>\n",
       "      <td>N</td>\n",
       "      <td></td>\n",
       "      <td>N</td>\n",
       "      <td></td>\n",
       "      <td>N</td>\n",
       "      <td></td>\n",
       "      <td></td>\n",
       "      <td></td>\n",
       "      <td>...</td>\n",
       "      <td>2</td>\n",
       "      <td></td>\n",
       "      <td>03</td>\n",
       "      <td>2</td>\n",
       "      <td></td>\n",
       "      <td></td>\n",
       "      <td></td>\n",
       "      <td></td>\n",
       "      <td>6</td>\n",
       "      <td></td>\n",
       "    </tr>\n",
       "    <tr>\n",
       "      <th>3674666</th>\n",
       "      <td></td>\n",
       "      <td>N</td>\n",
       "      <td>N</td>\n",
       "      <td></td>\n",
       "      <td>N</td>\n",
       "      <td></td>\n",
       "      <td></td>\n",
       "      <td></td>\n",
       "      <td></td>\n",
       "      <td></td>\n",
       "      <td>...</td>\n",
       "      <td></td>\n",
       "      <td>N</td>\n",
       "      <td></td>\n",
       "      <td></td>\n",
       "      <td>2</td>\n",
       "      <td></td>\n",
       "      <td></td>\n",
       "      <td></td>\n",
       "      <td></td>\n",
       "      <td></td>\n",
       "    </tr>\n",
       "    <tr>\n",
       "      <th>3676991</th>\n",
       "      <td></td>\n",
       "      <td>N</td>\n",
       "      <td></td>\n",
       "      <td></td>\n",
       "      <td></td>\n",
       "      <td></td>\n",
       "      <td></td>\n",
       "      <td></td>\n",
       "      <td></td>\n",
       "      <td></td>\n",
       "      <td>...</td>\n",
       "      <td>N</td>\n",
       "      <td>N</td>\n",
       "      <td>30</td>\n",
       "      <td></td>\n",
       "      <td>2</td>\n",
       "      <td></td>\n",
       "      <td></td>\n",
       "      <td></td>\n",
       "      <td></td>\n",
       "      <td>0</td>\n",
       "    </tr>\n",
       "    <tr>\n",
       "      <th>3934485</th>\n",
       "      <td>N</td>\n",
       "      <td>N</td>\n",
       "      <td>N</td>\n",
       "      <td></td>\n",
       "      <td>N</td>\n",
       "      <td></td>\n",
       "      <td>N</td>\n",
       "      <td></td>\n",
       "      <td></td>\n",
       "      <td></td>\n",
       "      <td>...</td>\n",
       "      <td>2</td>\n",
       "      <td></td>\n",
       "      <td>08</td>\n",
       "      <td>2</td>\n",
       "      <td></td>\n",
       "      <td></td>\n",
       "      <td></td>\n",
       "      <td></td>\n",
       "      <td>7</td>\n",
       "      <td></td>\n",
       "    </tr>\n",
       "    <tr>\n",
       "      <th>3936810</th>\n",
       "      <td></td>\n",
       "      <td>N</td>\n",
       "      <td>N</td>\n",
       "      <td></td>\n",
       "      <td>N</td>\n",
       "      <td></td>\n",
       "      <td></td>\n",
       "      <td></td>\n",
       "      <td></td>\n",
       "      <td></td>\n",
       "      <td>...</td>\n",
       "      <td></td>\n",
       "      <td>N</td>\n",
       "      <td></td>\n",
       "      <td></td>\n",
       "      <td>2</td>\n",
       "      <td></td>\n",
       "      <td></td>\n",
       "      <td></td>\n",
       "      <td></td>\n",
       "      <td></td>\n",
       "    </tr>\n",
       "    <tr>\n",
       "      <th>3939135</th>\n",
       "      <td></td>\n",
       "      <td>N</td>\n",
       "      <td></td>\n",
       "      <td></td>\n",
       "      <td></td>\n",
       "      <td></td>\n",
       "      <td></td>\n",
       "      <td></td>\n",
       "      <td></td>\n",
       "      <td></td>\n",
       "      <td>...</td>\n",
       "      <td>N</td>\n",
       "      <td>N</td>\n",
       "      <td>34</td>\n",
       "      <td></td>\n",
       "      <td>2</td>\n",
       "      <td></td>\n",
       "      <td></td>\n",
       "      <td></td>\n",
       "      <td></td>\n",
       "      <td>0</td>\n",
       "    </tr>\n",
       "    <tr>\n",
       "      <th>4196629</th>\n",
       "      <td>N</td>\n",
       "      <td>N</td>\n",
       "      <td>N</td>\n",
       "      <td></td>\n",
       "      <td>N</td>\n",
       "      <td></td>\n",
       "      <td>N</td>\n",
       "      <td></td>\n",
       "      <td></td>\n",
       "      <td></td>\n",
       "      <td>...</td>\n",
       "      <td>2</td>\n",
       "      <td></td>\n",
       "      <td>04</td>\n",
       "      <td>2</td>\n",
       "      <td></td>\n",
       "      <td></td>\n",
       "      <td></td>\n",
       "      <td></td>\n",
       "      <td>6</td>\n",
       "      <td></td>\n",
       "    </tr>\n",
       "    <tr>\n",
       "      <th>4198954</th>\n",
       "      <td></td>\n",
       "      <td>N</td>\n",
       "      <td>N</td>\n",
       "      <td></td>\n",
       "      <td>N</td>\n",
       "      <td></td>\n",
       "      <td></td>\n",
       "      <td></td>\n",
       "      <td></td>\n",
       "      <td></td>\n",
       "      <td>...</td>\n",
       "      <td></td>\n",
       "      <td>N</td>\n",
       "      <td></td>\n",
       "      <td></td>\n",
       "      <td>2</td>\n",
       "      <td></td>\n",
       "      <td></td>\n",
       "      <td></td>\n",
       "      <td></td>\n",
       "      <td></td>\n",
       "    </tr>\n",
       "    <tr>\n",
       "      <th>4201279</th>\n",
       "      <td></td>\n",
       "      <td>N</td>\n",
       "      <td></td>\n",
       "      <td></td>\n",
       "      <td></td>\n",
       "      <td></td>\n",
       "      <td></td>\n",
       "      <td></td>\n",
       "      <td></td>\n",
       "      <td></td>\n",
       "      <td>...</td>\n",
       "      <td>N</td>\n",
       "      <td>N</td>\n",
       "      <td>35</td>\n",
       "      <td></td>\n",
       "      <td>2</td>\n",
       "      <td></td>\n",
       "      <td></td>\n",
       "      <td></td>\n",
       "      <td></td>\n",
       "      <td>0</td>\n",
       "    </tr>\n",
       "  </tbody>\n",
       "</table>\n",
       "<p>62 rows × 160 columns</p>\n",
       "</div>"
      ],
      "text/plain": [
       "        AB_ANTI AB_AVEN1 AB_AVEN6 AB_BINJ AB_NICU AB_SEIZ AB_SURF AGED AGER22  \\\n",
       "264469        N        N        N               N               N               \n",
       "266794                 N        N               N                               \n",
       "269119                 N                                                        \n",
       "395541        N        N        N               N               N               \n",
       "397866                 N        N               N                               \n",
       "400191                 N                                                        \n",
       "526613        N        N        N               N               N               \n",
       "528938                 N        N               N                               \n",
       "531263                 N                                                        \n",
       "657685        N        N        N               N               N               \n",
       "660010                 N        N               N                               \n",
       "662335                 N                                                        \n",
       "788757        N        N        N               N               N               \n",
       "791082                 N        N               N                               \n",
       "793407                 N                                                        \n",
       "919829        N        N        N               N               N               \n",
       "922154                 N        N               N                               \n",
       "924479                 N                                                        \n",
       "1050901       N        N        N               N               N               \n",
       "1053226                N        N               N                               \n",
       "1055551                N                                                        \n",
       "1181973       N        N        N               N               N               \n",
       "1184298                N        N               N                               \n",
       "1186623                N                                                        \n",
       "1313045       N        Y        Y               Y               N               \n",
       "1315370                N        N               N                               \n",
       "1317695                N                                                        \n",
       "1575189       N        N        N               N               N               \n",
       "1577514                N        N               N                               \n",
       "1579839                N                                                        \n",
       "...         ...      ...      ...     ...     ...     ...     ...  ...    ...   \n",
       "1968405       N        N        N               N               N               \n",
       "1973055                N                                                        \n",
       "2754837       N        N        N               N               N               \n",
       "2757162                N        N               N                               \n",
       "2759487                N                                                        \n",
       "2885909       N        N        N               N               N               \n",
       "2888234                N        N               N                               \n",
       "2890559                N                                                        \n",
       "3016981       N        N        N               N               N               \n",
       "3019306                N        N               N                               \n",
       "3021631                N                                                        \n",
       "3148053       N        N        N               N               N               \n",
       "3152703                N                                                        \n",
       "3279125       N        N        N               N               N               \n",
       "3283775                N                                                        \n",
       "3410197       N        N        N               N               N               \n",
       "3412522                N        N               N                               \n",
       "3414847                N                                                        \n",
       "3541269       N        Y        N               N               N               \n",
       "3543594                N        N               N                               \n",
       "3545919                N                                                        \n",
       "3672341       N        Y        N               N               N               \n",
       "3674666                N        N               N                               \n",
       "3676991                N                                                        \n",
       "3934485       N        N        N               N               N               \n",
       "3936810                N        N               N                               \n",
       "3939135                N                                                        \n",
       "4196629       N        N        N               N               N               \n",
       "4198954                N        N               N                               \n",
       "4201279                N                                                        \n",
       "\n",
       "        AGER5    ...     UOP_INDUC UOP_TOCOL UPREVIS URF_CHYPER URF_DIAB  \\\n",
       "264469           ...             2                07          2            \n",
       "266794           ...                       N                           2   \n",
       "269119           ...             N         N      30                   2   \n",
       "395541           ...             2                08          2            \n",
       "397866           ...                       N                           2   \n",
       "400191           ...             N         N      99                   2   \n",
       "526613           ...             2                06          2            \n",
       "528938           ...                       N                           2   \n",
       "531263           ...             N         N      50                   2   \n",
       "657685           ...             2                07          2            \n",
       "660010           ...                       N                           2   \n",
       "662335           ...             N         N      52                   2   \n",
       "788757           ...             2                07          2            \n",
       "791082           ...                       N                           2   \n",
       "793407           ...             N         N      24                   2   \n",
       "919829           ...             2                06          2            \n",
       "922154           ...                       N                           2   \n",
       "924479           ...             N         Y      24                   2   \n",
       "1050901          ...             2                09          2            \n",
       "1053226          ...                       N                           2   \n",
       "1055551          ...             N         Y      23                   2   \n",
       "1181973          ...             2                04          2            \n",
       "1184298          ...                       N                           2   \n",
       "1186623          ...             N         N      00                   2   \n",
       "1313045          ...             1                06          2            \n",
       "1315370          ...                       N                           2   \n",
       "1317695          ...             N         Y      28                   2   \n",
       "1575189          ...             2                04          2            \n",
       "1577514          ...                       N                           2   \n",
       "1579839          ...             N         Y      33                   2   \n",
       "...       ...    ...           ...       ...     ...        ...      ...   \n",
       "1968405          ...             2                06          2            \n",
       "1973055          ...             N         Y      20                   2   \n",
       "2754837          ...             2                12          2            \n",
       "2757162          ...                       N                           2   \n",
       "2759487          ...             N         Y      63                   2   \n",
       "2885909          ...             2                01          2            \n",
       "2888234          ...                       N                           2   \n",
       "2890559          ...             N         N      34                   2   \n",
       "3016981          ...             2                07          2            \n",
       "3019306          ...                       N                           2   \n",
       "3021631          ...             N         N      30                   2   \n",
       "3148053          ...             2                07          2            \n",
       "3152703          ...             N         N      30                   2   \n",
       "3279125          ...             2                09          2            \n",
       "3283775          ...             N         N      29                   2   \n",
       "3410197          ...             2                09          2            \n",
       "3412522          ...                       N                           2   \n",
       "3414847          ...             N         Y      44                   2   \n",
       "3541269          ...             2                05          2            \n",
       "3543594          ...                       N                           2   \n",
       "3545919          ...             N         Y      43                   2   \n",
       "3672341          ...             2                03          2            \n",
       "3674666          ...                       N                           2   \n",
       "3676991          ...             N         N      30                   2   \n",
       "3934485          ...             2                08          2            \n",
       "3936810          ...                       N                           2   \n",
       "3939135          ...             N         N      34                   2   \n",
       "4196629          ...             2                04          2            \n",
       "4198954          ...                       N                           2   \n",
       "4201279          ...             N         N      35                   2   \n",
       "\n",
       "        URF_ECLAM URF_PHYPER WEEKDAYD WTGAIN WTGAIN_REC  \n",
       "264469                                    8              \n",
       "266794                                                   \n",
       "269119                                                0  \n",
       "395541                                    4              \n",
       "397866                                                   \n",
       "400191                                                0  \n",
       "526613                                    5              \n",
       "528938                                                   \n",
       "531263                                                0  \n",
       "657685                                    6              \n",
       "660010                                                   \n",
       "662335                                                0  \n",
       "788757                                    8              \n",
       "791082                                                   \n",
       "793407                                                0  \n",
       "919829                                    6              \n",
       "922154                                                   \n",
       "924479                                                9  \n",
       "1050901                                   9           1  \n",
       "1053226                                                  \n",
       "1055551                                               9  \n",
       "1181973                                   1              \n",
       "1184298                                                  \n",
       "1186623                                               9  \n",
       "1313045                                   4              \n",
       "1315370                                                  \n",
       "1317695                                               0  \n",
       "1575189                                   2              \n",
       "1577514                                                  \n",
       "1579839                                               0  \n",
       "...           ...        ...      ...    ...        ...  \n",
       "1968405                                   8              \n",
       "1973055                                               9  \n",
       "2754837                                   9              \n",
       "2757162                                                  \n",
       "2759487                                               0  \n",
       "2885909                                   9              \n",
       "2888234                                                  \n",
       "2890559                                               0  \n",
       "3016981                                   5              \n",
       "3019306                                                  \n",
       "3021631                                               1  \n",
       "3148053                                   1              \n",
       "3152703                                               0  \n",
       "3279125                                   7              \n",
       "3283775                                               0  \n",
       "3410197                                   2              \n",
       "3412522                                                  \n",
       "3414847                                               0  \n",
       "3541269                                   5              \n",
       "3543594                                   1              \n",
       "3545919                                               0  \n",
       "3672341                                   6              \n",
       "3674666                                                  \n",
       "3676991                                               0  \n",
       "3934485                                   7              \n",
       "3936810                                                  \n",
       "3939135                                               0  \n",
       "4196629                                   6              \n",
       "4198954                                                  \n",
       "4201279                                               0  \n",
       "\n",
       "[62 rows x 160 columns]"
      ]
     },
     "execution_count": 103,
     "metadata": {},
     "output_type": "execute_result"
    }
   ],
   "source": [
    "#(final_2008['UCA_ANEN'] != '1') and (final_2008['UCA_ANEN'] != '2')\n",
    "final_2008[(final_2008['UCA_ANEN'] != '1') & (final_2008['UCA_ANEN'] != '2') & (final_2008['UCA_ANEN'] != '9')]"
   ]
  },
  {
   "cell_type": "markdown",
   "metadata": {
    "collapsed": false
   },
   "source": [
    "### Natality Vs infant mortality"
   ]
  },
  {
   "cell_type": "markdown",
   "metadata": {},
   "source": [
    "The file has a flag which identifies an infant death (FLGND = 1). Lets look at the ratio of infant fatality"
   ]
  },
  {
   "cell_type": "code",
   "execution_count": 36,
   "metadata": {
    "collapsed": false
   },
   "outputs": [
    {
     "data": {
      "text/plain": [
       "{' ': 99, '1': 27523, '2': 4227566}"
      ]
     },
     "execution_count": 36,
     "metadata": {},
     "output_type": "execute_result"
    }
   ],
   "source": [
    "values_dict['FLGND']"
   ]
  },
  {
   "cell_type": "code",
   "execution_count": 38,
   "metadata": {
    "collapsed": false
   },
   "outputs": [
    {
     "data": {
      "image/png": "[encoded data removed]",
      "text/plain": [
       "<matplotlib.figure.Figure at 0x116322240>"
      ]
     },
     "metadata": {},
     "output_type": "display_data"
    }
   ],
   "source": [
    "labels = 'Mortality', 'Natality'\n",
    "sizes = [27523, 4227566 ]\n",
    "colors = ['red','blue']\n",
    " \n",
    "# Plot\n",
    "plt.pie(sizes, labels=labels, colors=colors,\n",
    "        autopct='%1.1f%%', shadow=True, startangle=140)\n",
    " \n",
    "plt.axis('equal')\n",
    "plt.title('Mortality Ratio')\n",
    "plt.show()"
   ]
  },
  {
   "cell_type": "code",
   "execution_count": 38,
   "metadata": {
    "collapsed": false
   },
   "outputs": [],
   "source": [
    "apgar = new_aa[[\"FLGND\",\"APGAR5\"]]\n"
   ]
  },
  {
   "cell_type": "code",
   "execution_count": 127,
   "metadata": {
    "collapsed": false
   },
   "outputs": [],
   "source": [
    "#new_aa[[\"FLGND\",\"APGAR5\"]].groupby([\"FLGND\",\"APGAR5\"]).size().plot(kind='bar')\n"
   ]
  },
  {
   "cell_type": "code",
   "execution_count": 125,
   "metadata": {
    "collapsed": false
   },
   "outputs": [
    {
     "data": {
      "text/plain": [
       "<matplotlib.axes._subplots.AxesSubplot at 0x11dfe4e80>"
      ]
     },
     "execution_count": 125,
     "metadata": {},
     "output_type": "execute_result"
    },
    {
     "data": {
      "image/png": "[encoded data removed]",
      "text/plain": [
       "<matplotlib.figure.Figure at 0x11e1c96d8>"
      ]
     },
     "metadata": {},
     "output_type": "display_data"
    }
   ],
   "source": [
    "f, (ax1, ax2) = plt.subplots(1, 2, sharey=False)\n",
    "apgar[apgar.FLGND == '1'][['FLGND','APGAR5']].groupby(['APGAR5']).count().plot(kind='bar',ax= ax1,figsize=(16,4))\n",
    "apgar[apgar.FLGND == '2'][['FLGND','APGAR5']].groupby(['APGAR5']).count().plot(kind='bar',ax = ax2,figsize=(16,4))\n"
   ]
  },
  {
   "cell_type": "code",
   "execution_count": null,
   "metadata": {
    "collapsed": true
   },
   "outputs": [],
   "source": []
  },
  {
   "cell_type": "code",
   "execution_count": 112,
   "metadata": {
    "collapsed": false
   },
   "outputs": [
    {
     "data": {
      "image/png": "[encoded data removed]",
      "text/plain": [
       "<matplotlib.figure.Figure at 0x118216e48>"
      ]
     },
     "metadata": {},
     "output_type": "display_data"
    }
   ],
   "source": [
    " # Data to plot\n",
    "labels = 'Binary', 'Numerical', 'Nominal'\n",
    "sizes = [70, 12, 81]\n",
    "colors = ['red','green', 'yellow']\n",
    "#explode = (0.1, 0, 0, 0,0)  # explode 1st slice\n",
    " \n",
    "# Plot\n",
    "plt.pie(sizes, labels=labels, colors=colors,\n",
    "        autopct='%1.1f%%', shadow=True, startangle=140)\n",
    "plt.title('Data Types') \n",
    "plt.axis('equal')\n",
    "plt.show()"
   ]
  },
  {
   "cell_type": "code",
   "execution_count": null,
   "metadata": {
    "collapsed": true
   },
   "outputs": [],
   "source": []
  }
 ],
 "metadata": {
  "anaconda-cloud": {},
  "celltoolbar": "Raw Cell Format",
  "kernelspec": {
   "display_name": "Python [Root]",
   "language": "python",
   "name": "Python [Root]"
  },
  "language_info": {
   "codemirror_mode": {
    "name": "ipython",
    "version": 3
   },
   "file_extension": ".py",
   "mimetype": "text/x-python",
   "name": "python",
   "nbconvert_exporter": "python",
   "pygments_lexer": "ipython3",
   "version": "3.5.2"
  }
 },
 "nbformat": 4,
 "nbformat_minor": 0
}
